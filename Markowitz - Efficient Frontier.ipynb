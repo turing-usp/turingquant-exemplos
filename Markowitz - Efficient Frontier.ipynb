{
 "cells": [
  {
   "attachments": {},
   "cell_type": "markdown",
   "id": "bcaae9f6",
   "metadata": {},
   "source": [
    "# Teoria Moderna do Portfólio em Python\n",
    " _Baseado [nesse artigo do Medium](https://medium.com/turing-talks/teoria-moderna-do-portf%C3%B3lio-em-python-e8bad41ebb8b)_\n",
    " \n",
    "## Introdução\n",
    "A Teoria de Portfólio de Markowitz, desenvolvida pelo economista Harry Markowitz, é um amplamente utilizado para otimizar a alocação de ativos financeiros em um portfólio. Essa teoria leva em consideração o equilíbrio entre o **retorno esperado** e o **risco** associado a cada ativo, com o objetivo de encontrar a combinação ideal de ativos que ofereça o máximo de retorno para um determinado nível de risco ou o mínimo de risco para um determinado nível de retorno.\n",
    "\n",
    "Nesse notebook serão desenvolvidos alguns exemplos de montagens de portfólio com base na Teoria de Markowitz.\n"
   ]
  },
  {
   "attachments": {},
   "cell_type": "markdown",
   "id": "41dc4247",
   "metadata": {},
   "source": [
    "## Exemplo 1 - Setor de Beleza/Estética"
   ]
  },
  {
   "cell_type": "code",
   "execution_count": 15,
   "id": "1e2272e9",
   "metadata": {},
   "outputs": [],
   "source": [
    "import pandas as pd\n",
    "import numpy as np\n",
    "import plotly.express as px\n",
    "import matplotlib.pyplot as plt\n",
    "import yfinance as yf\n",
    "import turingquant as tq\n",
    "import plotly.io as pio"
   ]
  },
  {
   "cell_type": "code",
   "execution_count": 16,
   "id": "9035e3f9",
   "metadata": {},
   "outputs": [],
   "source": [
    "#Foram escolhidas 5 empresas do ramo de beleza/estética para compor o portfólio (Estée Lauder Companies Inc. (EL);\n",
    "#L'Oréal SA (OR.PA); The Procter & Gamble Company (PG); Ulta Beauty, Inc. (ULTA))\n",
    "tickers = ['EL', 'OR.PA', 'PG', 'ULTA']"
   ]
  },
  {
   "cell_type": "code",
   "execution_count": 17,
   "id": "c29986e0",
   "metadata": {},
   "outputs": [
    {
     "name": "stdout",
     "output_type": "stream",
     "text": [
      "[*********************100%***********************]  4 of 4 completed\n"
     ]
    }
   ],
   "source": [
    "df_close = yf.download(tickers, start='2019-01-01', end='2022-12-31')['Close']"
   ]
  },
  {
   "cell_type": "code",
   "execution_count": 18,
   "id": "a222d283",
   "metadata": {},
   "outputs": [
    {
     "data": {
      "text/html": [
       "<div>\n",
       "<style scoped>\n",
       "    .dataframe tbody tr th:only-of-type {\n",
       "        vertical-align: middle;\n",
       "    }\n",
       "\n",
       "    .dataframe tbody tr th {\n",
       "        vertical-align: top;\n",
       "    }\n",
       "\n",
       "    .dataframe thead th {\n",
       "        text-align: right;\n",
       "    }\n",
       "</style>\n",
       "<table border=\"1\" class=\"dataframe\">\n",
       "  <thead>\n",
       "    <tr style=\"text-align: right;\">\n",
       "      <th></th>\n",
       "      <th>EL</th>\n",
       "      <th>OR.PA</th>\n",
       "      <th>PG</th>\n",
       "      <th>ULTA</th>\n",
       "    </tr>\n",
       "    <tr>\n",
       "      <th>Date</th>\n",
       "      <th></th>\n",
       "      <th></th>\n",
       "      <th></th>\n",
       "      <th></th>\n",
       "    </tr>\n",
       "  </thead>\n",
       "  <tbody>\n",
       "    <tr>\n",
       "      <th>2019-01-02</th>\n",
       "      <td>131.940002</td>\n",
       "      <td>199.600006</td>\n",
       "      <td>91.279999</td>\n",
       "      <td>247.970001</td>\n",
       "    </tr>\n",
       "    <tr>\n",
       "      <th>2019-01-03</th>\n",
       "      <td>125.680000</td>\n",
       "      <td>197.199997</td>\n",
       "      <td>90.639999</td>\n",
       "      <td>243.360001</td>\n",
       "    </tr>\n",
       "    <tr>\n",
       "      <th>2019-01-04</th>\n",
       "      <td>129.919998</td>\n",
       "      <td>200.000000</td>\n",
       "      <td>92.489998</td>\n",
       "      <td>255.029999</td>\n",
       "    </tr>\n",
       "    <tr>\n",
       "      <th>2019-01-07</th>\n",
       "      <td>131.500000</td>\n",
       "      <td>197.449997</td>\n",
       "      <td>92.120003</td>\n",
       "      <td>271.000000</td>\n",
       "    </tr>\n",
       "    <tr>\n",
       "      <th>2019-01-08</th>\n",
       "      <td>132.729996</td>\n",
       "      <td>198.649994</td>\n",
       "      <td>92.459999</td>\n",
       "      <td>276.000000</td>\n",
       "    </tr>\n",
       "    <tr>\n",
       "      <th>...</th>\n",
       "      <td>...</td>\n",
       "      <td>...</td>\n",
       "      <td>...</td>\n",
       "      <td>...</td>\n",
       "    </tr>\n",
       "    <tr>\n",
       "      <th>2022-12-23</th>\n",
       "      <td>241.020004</td>\n",
       "      <td>333.250000</td>\n",
       "      <td>152.619995</td>\n",
       "      <td>456.399994</td>\n",
       "    </tr>\n",
       "    <tr>\n",
       "      <th>2022-12-27</th>\n",
       "      <td>248.289993</td>\n",
       "      <td>336.750000</td>\n",
       "      <td>153.949997</td>\n",
       "      <td>464.000000</td>\n",
       "    </tr>\n",
       "    <tr>\n",
       "      <th>2022-12-28</th>\n",
       "      <td>246.190002</td>\n",
       "      <td>335.399994</td>\n",
       "      <td>151.960007</td>\n",
       "      <td>463.519989</td>\n",
       "    </tr>\n",
       "    <tr>\n",
       "      <th>2022-12-29</th>\n",
       "      <td>249.929993</td>\n",
       "      <td>338.700012</td>\n",
       "      <td>152.589996</td>\n",
       "      <td>464.829987</td>\n",
       "    </tr>\n",
       "    <tr>\n",
       "      <th>2022-12-30</th>\n",
       "      <td>248.110001</td>\n",
       "      <td>333.600006</td>\n",
       "      <td>151.559998</td>\n",
       "      <td>469.070007</td>\n",
       "    </tr>\n",
       "  </tbody>\n",
       "</table>\n",
       "<p>1035 rows × 4 columns</p>\n",
       "</div>"
      ],
      "text/plain": [
       "                    EL       OR.PA          PG        ULTA\n",
       "Date                                                      \n",
       "2019-01-02  131.940002  199.600006   91.279999  247.970001\n",
       "2019-01-03  125.680000  197.199997   90.639999  243.360001\n",
       "2019-01-04  129.919998  200.000000   92.489998  255.029999\n",
       "2019-01-07  131.500000  197.449997   92.120003  271.000000\n",
       "2019-01-08  132.729996  198.649994   92.459999  276.000000\n",
       "...                ...         ...         ...         ...\n",
       "2022-12-23  241.020004  333.250000  152.619995  456.399994\n",
       "2022-12-27  248.289993  336.750000  153.949997  464.000000\n",
       "2022-12-28  246.190002  335.399994  151.960007  463.519989\n",
       "2022-12-29  249.929993  338.700012  152.589996  464.829987\n",
       "2022-12-30  248.110001  333.600006  151.559998  469.070007\n",
       "\n",
       "[1035 rows x 4 columns]"
      ]
     },
     "execution_count": 18,
     "metadata": {},
     "output_type": "execute_result"
    }
   ],
   "source": [
    "df_close"
   ]
  },
  {
   "attachments": {},
   "cell_type": "markdown",
   "id": "4fc71684",
   "metadata": {},
   "source": [
    "## Passo-a-Passo:"
   ]
  },
  {
   "attachments": {},
   "cell_type": "markdown",
   "id": "5c30fae1",
   "metadata": {},
   "source": [
    "**1. Escolha do Método:** são 3 os métodos possíveis - o que minimiza a volatilidade, o que maximiza o retorno e o que maximiza o sharpe ratio. Esse sharpe ratio pode ser optido pela fórmula $Sharpe$ $Ratio$ $=$ $(Retorno - RiskFree)$ $/$ $Volatilidade$. No modelo de Markowitz do Turing Quant, define-se que risk free = 0 (tudo tem risco), logo $Sharpe$ $Ratio$ $=$ $Retorno$ $/$ $Volatilidade$"
   ]
  },
  {
   "attachments": {},
   "cell_type": "markdown",
   "id": "cd1dadfd",
   "metadata": {},
   "source": [
    "**2. Encontro do Melhor Portfólio:** o melhor portfólio será aquele que, feitas todas as combinações de percentuais de valor investido para cada ação, gerar o melhor valor para a métrica em questão (min volatilidade, max retorno ou max sharpe_ratio)"
   ]
  },
  {
   "attachments": {},
   "cell_type": "markdown",
   "id": "5e7db681",
   "metadata": {},
   "source": [
    "**3. Visualização da Fronteira Eficiente:** feitas todas as possíveis combinações, também é possível plotá-las para entender melhor onde estão as melhores e piores soluções de um modo geral, não apenas A melhor solução"
   ]
  },
  {
   "cell_type": "code",
   "execution_count": 29,
   "id": "f754d6cb",
   "metadata": {},
   "outputs": [],
   "source": [
    "class Markowitz:\n",
    "    def __init__(self, df_close, num_portfolios = 10000, risk_free = 0):\n",
    "        self.df = df_close\n",
    "        self.num_portfolios = num_portfolios\n",
    "        self.risk_free = risk_free\n",
    "        self.wallets = self._generate_wallets()\n",
    "    \n",
    "    def _generate_wallets(self):\n",
    "        '''\n",
    "        Gera carteiras com pesos aleatórios.\n",
    "        Returns:\n",
    "            wallets (dict): dicionário contendo os valores 'weights', 'returns', 'vol' e 'sharpe_ratio'\n",
    "                            de todos os portfólios gerados \n",
    "        '''\n",
    "        # vetores de dados\n",
    "        portfolio_weights = []\n",
    "        portfolio_exp_returns = []\n",
    "        portfolio_vol = []\n",
    "        portfolio_sharpe = []\n",
    "        \n",
    "        # retorno simples \n",
    "        r = self.df.pct_change()\n",
    "        mean_returns = r.mean() * 252\n",
    "        \n",
    "        # matriz de covariância \n",
    "        covariance = np.cov(r[1:].T)\n",
    "\n",
    "        for i in range(self.num_portfolios):\n",
    "            # gerando pesos aleatórios\n",
    "            k = np.random.rand(len(self.df.columns))\n",
    "            w = k / sum (k) # normaliza o vetor \n",
    "\n",
    "            # retorno\n",
    "            R = np.dot(mean_returns, w)\n",
    "\n",
    "            # risco\n",
    "            vol = np.sqrt(np.dot(w.T, np.dot(covariance, w))) * np.sqrt(252)\n",
    "\n",
    "            # sharpe ratio\n",
    "            sharpe = (R - self.risk_free)/vol\n",
    "\n",
    "            portfolio_weights.append(w)\n",
    "            portfolio_exp_returns.append(R)\n",
    "            portfolio_vol.append(vol)\n",
    "            portfolio_sharpe.append(sharpe)\n",
    "\n",
    "        # métricas (colunas) de cada portfólio (linhas)\n",
    "        metrics = pd.DataFrame({\n",
    "            'returns': portfolio_exp_returns,\n",
    "            'vol': portfolio_vol,\n",
    "            'sharpe': portfolio_sharpe\n",
    "        })\n",
    "\n",
    "        # pesos de cada ativo (colunas) por portfólio (linhas)        \n",
    "        weights = pd.DataFrame(portfolio_weights, columns=self.df.columns)\n",
    "\n",
    "        # carteira = métricas + colunas com o peso de cada ativo\n",
    "        wallets = pd.concat([metrics, weights], axis=1)\n",
    "    \n",
    "        return wallets\n",
    "    \n",
    "    def plot_efficient_frontier(self, method = 'sharpe_ratio'):\n",
    "        '''\n",
    "        Plota gráfico com a fronteira eficiente dos portfólios gerados. \n",
    "        \n",
    "        Args: \n",
    "            method (string): Método utilizado para indicar o melhor portfólio\n",
    "                            'sharpe_ratio' - Portfólio com melhor Sharpe ratio\n",
    "                            'volatility' - Portfólio com menor volatilidade\n",
    "                            'return' - Portfólio com maior retorno\n",
    "        '''\n",
    "\n",
    "        vol = self.wallets['vol']\n",
    "        returns = self.wallets['returns']\n",
    "        sharpe = self.wallets['sharpe']\n",
    "        \n",
    "        if method == 'sharpe_ratio':            \n",
    "            best_port_idx = np.array(sharpe).argmax()\n",
    "\n",
    "        elif method == 'volatility':            \n",
    "            best_port_idx = np.array(vol).argmin()\n",
    "\n",
    "        elif method == 'return':             \n",
    "            best_port_idx = np.array(returns).argmax()\n",
    "\n",
    "        else:\n",
    "            raise ValueError(\n",
    "                f\"method espera 'sharpe_ratio', 'volatility' ou 'return', não '{method}'\"\n",
    "            )\n",
    "\n",
    "        y_axis = returns[best_port_idx]\n",
    "        X_axis = vol[best_port_idx]\n",
    "\n",
    "        # Plota todos os portfólios\n",
    "        fig = px.scatter(\n",
    "            self.wallets,\n",
    "            x='vol',\n",
    "            y='returns',\n",
    "            hover_data=self.df.columns,\n",
    "            color='sharpe'\n",
    "        )\n",
    "\n",
    "        # Customizações gerais do gráfico\n",
    "        fig.update_layout(\n",
    "            width=600, height=600,\n",
    "            margin=dict(l=10, r=10, t=50, b=10),\n",
    "            title='Efficient Frontier',\n",
    "            xaxis_title=\"Volatility\",\n",
    "            yaxis_title=\"Returns\",\n",
    "        )\n",
    "\n",
    "        # Exibe o ponto do melhor portfólio em vermelho\n",
    "        fig.update_traces(\n",
    "            marker=dict(size=9, opacity=0.6),\n",
    "            selectedpoints=[best_port_idx],\n",
    "            selected=dict(marker=dict(color='black', opacity=1))\n",
    "        )\n",
    "\n",
    "        fig.show()\n",
    "        \n",
    "        # funçao best_portfolio\n",
    "    def best_portfolio(self, method = 'sharpe_ratio'):\n",
    "                \n",
    "        vol = self.wallets['vol']\n",
    "        returns = self.wallets['returns']\n",
    "        sharpe = self.wallets['sharpe']\n",
    "        weights = self.wallets.iloc[:, 3:]\n",
    "            \n",
    "        if method == 'sharpe_ratio':\n",
    "                best_port_idx = np.array(sharpe).argmax()\n",
    "\n",
    "        elif method == 'volatility':\n",
    "                best_port_idx = np.array(vol).argmin()\n",
    "\n",
    "        elif method == 'return':\n",
    "                best_port_idx = np.array(returns).argmax()\n",
    "\n",
    "        else:\n",
    "            raise ValueError(\n",
    "                f\"method espera 'sharpe_ratio', 'volatility' ou 'return', não '{method}'\"\n",
    "            )\n",
    "\n",
    "        return weights.iloc[best_port_idx]\n",
    "        "
   ]
  },
  {
   "cell_type": "code",
   "execution_count": 20,
   "id": "38e3ed10",
   "metadata": {},
   "outputs": [],
   "source": [
    "markowitz = Markowitz(df_close)"
   ]
  },
  {
   "attachments": {},
   "cell_type": "markdown",
   "id": "d826dc13",
   "metadata": {},
   "source": [
    "Note que assim que criamos um obeto da classe Markowitz, chamamos o método _generate_wallets para gerar 10000 carteiras com pesos aleatórios, e calcular o sharpe, volatilidade e retorno esperado (média ponderada dos retornos ateriores) de cada uma. Esses dados são guardados como atributo do objeto, e serão acessados por outros métodos como o plot_efficient_frontier. Ou seja, a quanto mais carteiras geradas, maior a chance de se aproximar do que seria uma carteira com os pesos ótimos."
   ]
  },
  {
   "cell_type": "code",
   "execution_count": 35,
   "id": "c1db2d01",
   "metadata": {},
   "outputs": [
    {
     "ename": "TypeError",
     "evalue": "Markowitz.plot_efficient_frontier() got multiple values for argument 'method'",
     "output_type": "error",
     "traceback": [
      "\u001b[0;31m---------------------------------------------------------------------------\u001b[0m",
      "\u001b[0;31mTypeError\u001b[0m                                 Traceback (most recent call last)",
      "Cell \u001b[0;32mIn[35], line 1\u001b[0m\n\u001b[0;32m----> 1\u001b[0m fronteira \u001b[39m=\u001b[39m markowitz\u001b[39m.\u001b[39;49mplot_efficient_frontier(markowitz, method\u001b[39m=\u001b[39;49m\u001b[39m'\u001b[39;49m\u001b[39msharpe_ratio\u001b[39;49m\u001b[39m'\u001b[39;49m)\n",
      "\u001b[0;31mTypeError\u001b[0m: Markowitz.plot_efficient_frontier() got multiple values for argument 'method'"
     ]
    }
   ],
   "source": [
    "fronteira = markowitz.plot_efficient_frontier(method='sharpe_ratio')"
   ]
  },
  {
   "attachments": {},
   "cell_type": "markdown",
   "id": "99bf3e3b",
   "metadata": {},
   "source": [
    "                        PONTO DO MELHOR PORTFÓLIO EM PRETO"
   ]
  },
  {
   "attachments": {},
   "cell_type": "markdown",
   "id": "763b2fda",
   "metadata": {},
   "source": [
    "### Encontrando os melhores pesos para o portfólio\n",
    "\n",
    "O peso de um ativo em uma carteira representa uma porcentagem do valor total dos investimentos. Com os pesos de um portfólio, pode-se ter uma visão holística de como está disposta sua composição, sendo fácil de visualizar os ativos que influem mais ou menos na carteira. \n",
    "\n",
    "Utilizando a função **best_portfolio**, podemos encontrar os pesos do melhor portfólio formado pelas empresas de beleza em questão ('EL', 'OR.PA', 'PG', 'ULTA'). Vale ressaltar que podemos indicar três tipos métodos para a análise: \n",
    "- **sharpe_ratio**: portfólio com o melhor *sharpe ratio*;\n",
    "- **volatility**: portfólio com a menor volatilidade;\n",
    "- **return**: portfólio com o maior retorno;\n",
    "\n",
    "Nesse caso, estamos utilizando o método de melhor *sharpe ratio*. "
   ]
  },
  {
   "cell_type": "code",
   "execution_count": 34,
   "id": "dbec8925",
   "metadata": {},
   "outputs": [
    {
     "name": "stdout",
     "output_type": "stream",
     "text": [
      "EL       0.063224\n",
      "OR.PA    0.321405\n",
      "PG       0.454852\n",
      "ULTA     0.160519\n",
      "Name: 5189, dtype: float64\n"
     ]
    }
   ],
   "source": [
    "melhor_portfolio = Markowitz.best_portfolio(markowitz, method = 'sharpe_ratio')\n",
    "print(melhor_portfolio)"
   ]
  },
  {
   "attachments": {},
   "cell_type": "markdown",
   "id": "e513c4d9",
   "metadata": {},
   "source": [
    "A função resulta nos valores: \n",
    "\n",
    "|  ativo|  peso |\n",
    "|-------|-------|\n",
    "|   EL  |   0.063224    |\n",
    "| OR.PA |   0.321405    |\n",
    "|   PG  |   0.321405    |\n",
    "|  ULTA |   0.160519    |\n",
    "\n",
    "Eles espelham que o portfólio que maximiza o *sharpe ratio* é composto majoritariamente por ativos da 'OR.PA' e da 'PG', que juntos somam mais de 50% dos pesos da carteira. Além disso, é perceptível que [cont...]"
   ]
  },
  {
   "attachments": {},
   "cell_type": "markdown",
   "id": "a827b7b4",
   "metadata": {},
   "source": [
    "**Observações:**\n",
    "1. Nota-se que, dentro do período analisado (2019-2022), as diferentes combinações apresentam retornos muito próximos (quase todos na faixa entre 0.16 e 0.24), enquanto a volatilidade tem uma variação muito maior (0.2 até 0.4)\n",
    "2. Nesse sentido, usando o modelo do sharpe ratio, o melhor portfólio foi uma combinação que preferenciou a volatilidade ao retorno. Em outras palavras, ainda que tenha tido um retorno abaixo da média, foi a melhor solução devido à baixíssima volatilidade\n",
    "3. No exemplo acima, o melhor portfólio foi um que se baseou principalmente na Procter & Gamble e na L'Oréal, mas ainda contou com participações significativas (>5%) dos outros dois ativos, o que pode ter contribuído para a baixa volatilidade"
   ]
  },
  {
   "attachments": {},
   "cell_type": "markdown",
   "id": "2a20d4b1",
   "metadata": {},
   "source": [
    "## Exemplo 2 - Big Techs (Sharpe Ratio pode ser ruim?)"
   ]
  },
  {
   "cell_type": "code",
   "execution_count": 8,
   "id": "3559ef49",
   "metadata": {},
   "outputs": [
    {
     "name": "stdout",
     "output_type": "stream",
     "text": [
      "[*********************100%***********************]  4 of 4 completed\n"
     ]
    }
   ],
   "source": [
    "#Foram selecionadas as 4 big techs: Apple, Amazon, Google e Microsoft\n",
    "tickers_2 = ['AAPL', 'GOOGL', 'MSFT', 'AMZN']\n",
    "df_close_2 = yf.download(tickers_2, start='2022-01-01', end='2022-12-31')['Close']"
   ]
  },
  {
   "cell_type": "code",
   "execution_count": 9,
   "id": "5cc2f547",
   "metadata": {},
   "outputs": [
    {
     "ename": "ValueError",
     "evalue": "Mime type rendering requires nbformat>=4.2.0 but it is not installed",
     "output_type": "error",
     "traceback": [
      "\u001b[0;31m---------------------------------------------------------------------------\u001b[0m",
      "\u001b[0;31mValueError\u001b[0m                                Traceback (most recent call last)",
      "Cell \u001b[0;32mIn[9], line 2\u001b[0m\n\u001b[1;32m      1\u001b[0m markowitz_2 \u001b[39m=\u001b[39m Markowitz(df_close_2)\n\u001b[0;32m----> 2\u001b[0m fronteira_2 \u001b[39m=\u001b[39m markowitz_2\u001b[39m.\u001b[39;49mplot_efficient_frontier(method\u001b[39m=\u001b[39;49m\u001b[39m'\u001b[39;49m\u001b[39msharpe_ratio\u001b[39;49m\u001b[39m'\u001b[39;49m)\n",
      "Cell \u001b[0;32mIn[5], line 119\u001b[0m, in \u001b[0;36mMarkowitz.plot_efficient_frontier\u001b[0;34m(self, method)\u001b[0m\n\u001b[1;32m    112\u001b[0m \u001b[39m# Exibe o ponto do melhor portfólio em vermelho\u001b[39;00m\n\u001b[1;32m    113\u001b[0m fig\u001b[39m.\u001b[39mupdate_traces(\n\u001b[1;32m    114\u001b[0m     marker\u001b[39m=\u001b[39m\u001b[39mdict\u001b[39m(size\u001b[39m=\u001b[39m\u001b[39m9\u001b[39m, opacity\u001b[39m=\u001b[39m\u001b[39m0.6\u001b[39m),\n\u001b[1;32m    115\u001b[0m     selectedpoints\u001b[39m=\u001b[39m[best_port_idx],\n\u001b[1;32m    116\u001b[0m     selected\u001b[39m=\u001b[39m\u001b[39mdict\u001b[39m(marker\u001b[39m=\u001b[39m\u001b[39mdict\u001b[39m(color\u001b[39m=\u001b[39m\u001b[39m'\u001b[39m\u001b[39mblack\u001b[39m\u001b[39m'\u001b[39m, opacity\u001b[39m=\u001b[39m\u001b[39m1\u001b[39m))\n\u001b[1;32m    117\u001b[0m )\n\u001b[0;32m--> 119\u001b[0m fig\u001b[39m.\u001b[39;49mshow()\n",
      "File \u001b[0;32m~/Desktop/Turing/quant/venv/lib/python3.11/site-packages/plotly/basedatatypes.py:3390\u001b[0m, in \u001b[0;36mBaseFigure.show\u001b[0;34m(self, *args, **kwargs)\u001b[0m\n\u001b[1;32m   3357\u001b[0m \u001b[39m\u001b[39m\u001b[39m\"\"\"\u001b[39;00m\n\u001b[1;32m   3358\u001b[0m \u001b[39mShow a figure using either the default renderer(s) or the renderer(s)\u001b[39;00m\n\u001b[1;32m   3359\u001b[0m \u001b[39mspecified by the renderer argument\u001b[39;00m\n\u001b[0;32m   (...)\u001b[0m\n\u001b[1;32m   3386\u001b[0m \u001b[39mNone\u001b[39;00m\n\u001b[1;32m   3387\u001b[0m \u001b[39m\"\"\"\u001b[39;00m\n\u001b[1;32m   3388\u001b[0m \u001b[39mimport\u001b[39;00m \u001b[39mplotly\u001b[39;00m\u001b[39m.\u001b[39;00m\u001b[39mio\u001b[39;00m \u001b[39mas\u001b[39;00m \u001b[39mpio\u001b[39;00m\n\u001b[0;32m-> 3390\u001b[0m \u001b[39mreturn\u001b[39;00m pio\u001b[39m.\u001b[39;49mshow(\u001b[39mself\u001b[39;49m, \u001b[39m*\u001b[39;49margs, \u001b[39m*\u001b[39;49m\u001b[39m*\u001b[39;49mkwargs)\n",
      "File \u001b[0;32m~/Desktop/Turing/quant/venv/lib/python3.11/site-packages/plotly/io/_renderers.py:396\u001b[0m, in \u001b[0;36mshow\u001b[0;34m(fig, renderer, validate, **kwargs)\u001b[0m\n\u001b[1;32m    391\u001b[0m         \u001b[39mraise\u001b[39;00m \u001b[39mValueError\u001b[39;00m(\n\u001b[1;32m    392\u001b[0m             \u001b[39m\"\u001b[39m\u001b[39mMime type rendering requires ipython but it is not installed\u001b[39m\u001b[39m\"\u001b[39m\n\u001b[1;32m    393\u001b[0m         )\n\u001b[1;32m    395\u001b[0m     \u001b[39mif\u001b[39;00m \u001b[39mnot\u001b[39;00m nbformat \u001b[39mor\u001b[39;00m Version(nbformat\u001b[39m.\u001b[39m__version__) \u001b[39m<\u001b[39m Version(\u001b[39m\"\u001b[39m\u001b[39m4.2.0\u001b[39m\u001b[39m\"\u001b[39m):\n\u001b[0;32m--> 396\u001b[0m         \u001b[39mraise\u001b[39;00m \u001b[39mValueError\u001b[39;00m(\n\u001b[1;32m    397\u001b[0m             \u001b[39m\"\u001b[39m\u001b[39mMime type rendering requires nbformat>=4.2.0 but it is not installed\u001b[39m\u001b[39m\"\u001b[39m\n\u001b[1;32m    398\u001b[0m         )\n\u001b[1;32m    400\u001b[0m     ipython_display\u001b[39m.\u001b[39mdisplay(bundle, raw\u001b[39m=\u001b[39m\u001b[39mTrue\u001b[39;00m)\n\u001b[1;32m    402\u001b[0m \u001b[39m# external renderers\u001b[39;00m\n",
      "\u001b[0;31mValueError\u001b[0m: Mime type rendering requires nbformat>=4.2.0 but it is not installed"
     ]
    }
   ],
   "source": [
    "markowitz_2 = Markowitz(df_close_2)\n",
    "fronteira_2 = markowitz_2.plot_efficient_frontier(method='sharpe_ratio')"
   ]
  },
  {
   "attachments": {},
   "cell_type": "markdown",
   "id": "844f2fa3",
   "metadata": {},
   "source": [
    "**Observações:**\n",
    "1. Nesse caso, os retornos são negativo. Com isso, pela fórmula $Sharpe$ $Ratio$ $=$ $Retorno$ $/$ $Volatilidade$, uma volatilidade maior acaba por gerar um sharpe ratio artificialmente maior, levando a conclusões equivocadas. \n",
    "2. Por isso, no exemplo acima, a \"melhor solução\" apresenta maior volatilidade e retornos mais negativos (menores, portanto) que outras soluções, mostrando a problemática de usar esse tipo de método para retornos negativos"
   ]
  }
 ],
 "metadata": {
  "kernelspec": {
   "display_name": "Python 3 (ipykernel)",
   "language": "python",
   "name": "python3"
  },
  "language_info": {
   "codemirror_mode": {
    "name": "ipython",
    "version": 3
   },
   "file_extension": ".py",
   "mimetype": "text/x-python",
   "name": "python",
   "nbconvert_exporter": "python",
   "pygments_lexer": "ipython3",
   "version": "3.11.3"
  }
 },
 "nbformat": 4,
 "nbformat_minor": 5
}
