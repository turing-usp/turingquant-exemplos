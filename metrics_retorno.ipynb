{
 "cells": [
  {
   "cell_type": "code",
   "execution_count": 4,
   "metadata": {},
   "outputs": [],
   "source": [
    "from turingquant.metrics import returns\n",
    "import yfinance as yf"
   ]
  },
  {
   "cell_type": "code",
   "execution_count": null,
   "metadata": {},
   "outputs": [],
   "source": [
    "!pip install seaborn"
   ]
  },
  {
   "attachments": {},
   "cell_type": "markdown",
   "metadata": {},
   "source": [
    "# Lista de Funções para Estudar\n",
    "\n",
    "* [returns]()\n",
    "* cumulative_returns \n",
    "* [cagr](https://www.suno.com.br/artigos/cagr/) \n",
    "* [mar_ratio](https://www.investopedia.com/terms/m/mar-ratio.asp)\n",
    "\n",
    "Para cada uma das funções:\n",
    "1. Estudar conceitos por trás\n",
    "2. Testar função com dados da Yahoo Finance\n",
    "3. Explicar resultados e fórmulas utilizadas"
   ]
  },
  {
   "cell_type": "code",
   "execution_count": 19,
   "metadata": {},
   "outputs": [
    {
     "name": "stdout",
     "output_type": "stream",
     "text": [
      "[*********************100%***********************]  1 of 1 completed\n"
     ]
    }
   ],
   "source": [
    "df = yf.download([\"ITUB3.SA\"], start='2015-01-01')"
   ]
  },
  {
   "attachments": {},
   "cell_type": "markdown",
   "metadata": {},
   "source": [
    "## Função _returns_\n",
    "\n",
    "Calcula a variação percentual de um ativo, dia a dia. Abaixo, exemplos de sua utilização."
   ]
  },
  {
   "cell_type": "code",
   "execution_count": 17,
   "metadata": {},
   "outputs": [
    {
     "data": {
      "text/plain": [
       "<Axes: xlabel='Adj Close', ylabel='Count'>"
      ]
     },
     "execution_count": 17,
     "metadata": {},
     "output_type": "execute_result"
    },
    {
     "data": {
      "image/png": "[encoded data removed]",
      "text/plain": [
       "<Figure size 640x480 with 1 Axes>"
      ]
     },
     "metadata": {},
     "output_type": "display_data"
    }
   ],
   "source": [
    "# get just the adjusted close price of days 01/01/2020 and 01/01/2022\n",
    "# df['Adj Close'].loc['2020-01-01':'2022-01-01']\n",
    "# get just the initial and final price\n",
    "import seaborn as sns\n",
    "data = returns(df['Adj Close'].loc['2020-01-01':'2022-01-01'])\n",
    "sns.histplot(data)\n",
    "\n"
   ]
  },
  {
   "cell_type": "code",
   "execution_count": 22,
   "metadata": {},
   "outputs": [
    {
     "data": {
      "text/plain": [
       "Date\n",
       "2020-01-02         NaN\n",
       "2020-01-03   -0.008282\n",
       "2020-01-06   -0.010207\n",
       "2020-01-07   -0.019375\n",
       "2020-01-08   -0.010198\n",
       "                ...   \n",
       "2021-12-23    0.004169\n",
       "2021-12-27    0.009341\n",
       "2021-12-28   -0.003599\n",
       "2021-12-29   -0.003096\n",
       "2021-12-30   -0.011905\n",
       "Name: Adj Close, Length: 495, dtype: float64"
      ]
     },
     "execution_count": 22,
     "metadata": {},
     "output_type": "execute_result"
    }
   ],
   "source": [
    "returns(df['Adj Close'].loc['2020-01-01':'2022-01-01'])"
   ]
  },
  {
   "cell_type": "code",
   "execution_count": 26,
   "metadata": {},
   "outputs": [
    {
     "data": {
      "text/plain": [
       "<Axes: xlabel='Adj Close', ylabel='Count'>"
      ]
     },
     "execution_count": 26,
     "metadata": {},
     "output_type": "execute_result"
    },
    {
     "data": {
      "image/png": "[encoded data removed]",
      "text/plain": [
       "<Figure size 640x480 with 1 Axes>"
      ]
     },
     "metadata": {},
     "output_type": "display_data"
    }
   ],
   "source": [
    "monthly_data = df['Adj Close'].loc['2018-01-01':'2020-01-01'].pct_change(periods=21)\n",
    "sns.histplot(monthly_data)"
   ]
  },
  {
   "cell_type": "code",
   "execution_count": 25,
   "metadata": {},
   "outputs": [
    {
     "data": {
      "text/plain": [
       "Date\n",
       "2018-01-02         NaN\n",
       "2018-01-03         NaN\n",
       "2018-01-04         NaN\n",
       "2018-01-05         NaN\n",
       "2018-01-08         NaN\n",
       "                ...   \n",
       "2021-12-23   -0.066008\n",
       "2021-12-27   -0.065430\n",
       "2021-12-28   -0.047297\n",
       "2021-12-29   -0.046500\n",
       "2021-12-30   -0.049414\n",
       "Name: Adj Close, Length: 989, dtype: float64"
      ]
     },
     "execution_count": 25,
     "metadata": {},
     "output_type": "execute_result"
    }
   ],
   "source": [
    "df['Adj Close'].loc['2018-01-01':'2022-01-01'].pct_change(periods=21)"
   ]
  },
  {
   "attachments": {},
   "cell_type": "markdown",
   "metadata": {},
   "source": [
    "Podemos ver que o retorno do ativo ITUB3.SA foi de -37,43% nos anos de 2020 - 2022. Agora podemos utilizar esta metrica para calcular outros indicadores quantitativos"
   ]
  },
  {
   "attachments": {},
   "cell_type": "markdown",
   "metadata": {},
   "source": [
    "## Função _cumulative\\_returns_\n",
    "\n",
    "**<INSIRA DESCRIÇÃO>**\n",
    "\n",
    "**<INSIRA EXPLICAÇÃO DA TEORIA>**"
   ]
  },
  {
   "cell_type": "code",
   "execution_count": null,
   "metadata": {},
   "outputs": [],
   "source": [
    "# INSIRA EXEMPLO DE UTILIZAÇÃO EM CÓDIGO"
   ]
  },
  {
   "attachments": {},
   "cell_type": "markdown",
   "metadata": {},
   "source": [
    "## Função _cagr_\n",
    "\n",
    "**<INSIRA DESCRIÇÃO>**\n",
    "\n",
    "**<INSIRA EXPLICAÇÃO DA TEORIA>**"
   ]
  },
  {
   "cell_type": "code",
   "execution_count": 1,
   "metadata": {},
   "outputs": [],
   "source": [
    "# INSIRA EXEMPLO DE UTILIZAÇÃO EM CÓDIGO"
   ]
  },
  {
   "attachments": {},
   "cell_type": "markdown",
   "metadata": {},
   "source": [
    "## Função _mar\\_ratio_\n",
    "\n",
    "**<INSIRA DESCRIÇÃO>**\n",
    "\n",
    "**<INSIRA EXPLICAÇÃO DA TEORIA>**"
   ]
  },
  {
   "cell_type": "code",
   "execution_count": 2,
   "metadata": {},
   "outputs": [],
   "source": [
    "# INSIRA EXEMPLO DE UTILIZAÇÃO EM CÓDIGO"
   ]
  },
  {
   "attachments": {},
   "cell_type": "markdown",
   "metadata": {},
   "source": [
    "# Como essas funções podem ser utilizadas para montar um portfolio de investimento?"
   ]
  },
  {
   "cell_type": "code",
   "execution_count": null,
   "metadata": {},
   "outputs": [],
   "source": []
  }
 ],
 "metadata": {
  "kernelspec": {
   "display_name": "venv",
   "language": "python",
   "name": "python3"
  },
  "language_info": {
   "codemirror_mode": {
    "name": "ipython",
    "version": 3
   },
   "file_extension": ".py",
   "mimetype": "text/x-python",
   "name": "python",
   "nbconvert_exporter": "python",
   "pygments_lexer": "ipython3",
   "version": "3.10.6"
  },
  "orig_nbformat": 4,
  "vscode": {
   "interpreter": {
    "hash": "f94e825b4e950e5d23a935d1c448fa7f8e2bcbc525a9c10d8f025cd3371271c9"
   }
  }
 },
 "nbformat": 4,
 "nbformat_minor": 2
}
