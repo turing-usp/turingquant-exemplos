{
 "cells": [
  {
   "cell_type": "code",
   "execution_count": 4,
   "metadata": {},
   "outputs": [
    {
     "name": "stdout",
     "output_type": "stream",
     "text": [
      "Collecting turingquant\n",
      "  Using cached turingquant-0.2.2-py3-none-any.whl (15 kB)\n",
      "Collecting pandas\n",
      "  Using cached pandas-2.0.2-cp311-cp311-macosx_11_0_arm64.whl (10.7 MB)\n",
      "Collecting pandas-datareader\n",
      "  Using cached pandas_datareader-0.10.0-py3-none-any.whl (109 kB)\n",
      "Requirement already satisfied: numpy in ./venv/lib/python3.11/site-packages (from turingquant) (1.24.3)\n",
      "Collecting matplotlib\n",
      "  Using cached matplotlib-3.7.1-cp311-cp311-macosx_11_0_arm64.whl (7.3 MB)\n",
      "Collecting alpha-vantage\n",
      "  Using cached alpha_vantage-2.3.1-py3-none-any.whl (31 kB)\n",
      "Collecting bs4\n",
      "  Using cached bs4-0.0.1.tar.gz (1.1 kB)\n",
      "  Preparing metadata (setup.py) ... \u001b[?25ldone\n",
      "\u001b[?25hCollecting plotly\n",
      "  Using cached plotly-5.14.1-py2.py3-none-any.whl (15.3 MB)\n",
      "Collecting yfinance\n",
      "  Using cached yfinance-0.2.18-py2.py3-none-any.whl (60 kB)\n",
      "Collecting aiohttp\n",
      "  Using cached aiohttp-3.8.4-cp311-cp311-macosx_11_0_arm64.whl (332 kB)\n",
      "Collecting requests\n",
      "  Using cached requests-2.31.0-py3-none-any.whl (62 kB)\n",
      "Collecting beautifulsoup4\n",
      "  Using cached beautifulsoup4-4.12.2-py3-none-any.whl (142 kB)\n",
      "Collecting contourpy>=1.0.1\n",
      "  Using cached contourpy-1.0.7-cp311-cp311-macosx_11_0_arm64.whl (229 kB)\n",
      "Collecting cycler>=0.10\n",
      "  Using cached cycler-0.11.0-py3-none-any.whl (6.4 kB)\n",
      "Collecting fonttools>=4.22.0\n",
      "  Using cached fonttools-4.39.4-py3-none-any.whl (1.0 MB)\n",
      "Collecting kiwisolver>=1.0.1\n",
      "  Using cached kiwisolver-1.4.4-cp311-cp311-macosx_11_0_arm64.whl (63 kB)\n",
      "Requirement already satisfied: packaging>=20.0 in ./venv/lib/python3.11/site-packages (from matplotlib->turingquant) (23.1)\n",
      "Requirement already satisfied: pillow>=6.2.0 in ./venv/lib/python3.11/site-packages (from matplotlib->turingquant) (9.5.0)\n",
      "Requirement already satisfied: pyparsing>=2.3.1 in ./venv/lib/python3.11/site-packages (from matplotlib->turingquant) (3.0.9)\n",
      "Requirement already satisfied: python-dateutil>=2.7 in ./venv/lib/python3.11/site-packages (from matplotlib->turingquant) (2.8.2)\n",
      "Requirement already satisfied: pytz>=2020.1 in ./venv/lib/python3.11/site-packages (from pandas->turingquant) (2023.3)\n",
      "Requirement already satisfied: tzdata>=2022.1 in ./venv/lib/python3.11/site-packages (from pandas->turingquant) (2023.3)\n",
      "Collecting lxml\n",
      "  Using cached lxml-4.9.2.tar.gz (3.7 MB)\n",
      "  Preparing metadata (setup.py) ... \u001b[?25ldone\n",
      "\u001b[?25hRequirement already satisfied: tenacity>=6.2.0 in ./venv/lib/python3.11/site-packages (from plotly->turingquant) (8.2.2)\n",
      "Requirement already satisfied: multitasking>=0.0.7 in ./venv/lib/python3.11/site-packages (from yfinance->turingquant) (0.0.11)\n",
      "Requirement already satisfied: appdirs>=1.4.4 in ./venv/lib/python3.11/site-packages (from yfinance->turingquant) (1.4.4)\n",
      "Collecting frozendict>=2.3.4\n",
      "  Using cached frozendict-2.3.8-py311-none-any.whl (14 kB)\n",
      "Collecting cryptography>=3.3.2\n",
      "  Using cached cryptography-40.0.2-cp36-abi3-macosx_10_12_universal2.whl (5.1 MB)\n",
      "Collecting html5lib>=1.1\n",
      "  Using cached html5lib-1.1-py2.py3-none-any.whl (112 kB)\n",
      "Requirement already satisfied: soupsieve>1.2 in ./venv/lib/python3.11/site-packages (from beautifulsoup4->bs4->turingquant) (2.4.1)\n",
      "Collecting cffi>=1.12\n",
      "  Using cached cffi-1.15.1-cp311-cp311-macosx_11_0_arm64.whl (174 kB)\n",
      "Requirement already satisfied: six>=1.9 in ./venv/lib/python3.11/site-packages (from html5lib>=1.1->yfinance->turingquant) (1.16.0)\n",
      "Requirement already satisfied: webencodings in ./venv/lib/python3.11/site-packages (from html5lib>=1.1->yfinance->turingquant) (0.5.1)\n",
      "Collecting charset-normalizer<4,>=2\n",
      "  Using cached charset_normalizer-3.1.0-cp311-cp311-macosx_11_0_arm64.whl (121 kB)\n",
      "Collecting idna<4,>=2.5\n",
      "  Using cached idna-3.4-py3-none-any.whl (61 kB)\n",
      "Requirement already satisfied: urllib3<3,>=1.21.1 in ./venv/lib/python3.11/site-packages (from requests->alpha-vantage->turingquant) (2.0.2)\n",
      "Collecting certifi>=2017.4.17\n",
      "  Using cached certifi-2023.5.7-py3-none-any.whl (156 kB)\n",
      "Collecting attrs>=17.3.0\n",
      "  Using cached attrs-23.1.0-py3-none-any.whl (61 kB)\n",
      "Requirement already satisfied: multidict<7.0,>=4.5 in ./venv/lib/python3.11/site-packages (from aiohttp->alpha-vantage->turingquant) (6.0.4)\n",
      "Collecting async-timeout<5.0,>=4.0.0a3\n",
      "  Using cached async_timeout-4.0.2-py3-none-any.whl (5.8 kB)\n",
      "Collecting yarl<2.0,>=1.0\n",
      "  Using cached yarl-1.9.2-cp311-cp311-macosx_11_0_arm64.whl (61 kB)\n",
      "Collecting frozenlist>=1.1.1\n",
      "  Using cached frozenlist-1.3.3-cp311-cp311-macosx_11_0_arm64.whl (34 kB)\n",
      "Collecting aiosignal>=1.1.2\n",
      "  Using cached aiosignal-1.3.1-py3-none-any.whl (7.6 kB)\n",
      "Requirement already satisfied: pycparser in ./venv/lib/python3.11/site-packages (from cffi>=1.12->cryptography>=3.3.2->yfinance->turingquant) (2.21)\n",
      "Installing collected packages: plotly, lxml, kiwisolver, idna, html5lib, frozenlist, frozendict, fonttools, cycler, contourpy, charset-normalizer, cffi, certifi, beautifulsoup4, attrs, async-timeout, yarl, requests, pandas, matplotlib, cryptography, bs4, aiosignal, yfinance, pandas-datareader, aiohttp, alpha-vantage, turingquant\n",
      "\u001b[33m  DEPRECATION: lxml is being installed using the legacy 'setup.py install' method, because it does not have a 'pyproject.toml' and the 'wheel' package is not installed. pip 23.1 will enforce this behaviour change. A possible replacement is to enable the '--use-pep517' option. Discussion can be found at https://github.com/pypa/pip/issues/8559\u001b[0m\u001b[33m\n",
      "\u001b[0m  Running setup.py install for lxml ... \u001b[?25ldone\n",
      "\u001b[?25h\u001b[33m  DEPRECATION: bs4 is being installed using the legacy 'setup.py install' method, because it does not have a 'pyproject.toml' and the 'wheel' package is not installed. pip 23.1 will enforce this behaviour change. A possible replacement is to enable the '--use-pep517' option. Discussion can be found at https://github.com/pypa/pip/issues/8559\u001b[0m\u001b[33m\n",
      "\u001b[0m  Running setup.py install for bs4 ... \u001b[?25ldone\n",
      "\u001b[?25hSuccessfully installed aiohttp-3.8.4 aiosignal-1.3.1 alpha-vantage-2.3.1 async-timeout-4.0.2 attrs-23.1.0 beautifulsoup4-4.12.2 bs4-0.0.1 certifi-2023.5.7 cffi-1.15.1 charset-normalizer-3.1.0 contourpy-1.0.7 cryptography-40.0.2 cycler-0.11.0 fonttools-4.39.4 frozendict-2.3.8 frozenlist-1.3.3 html5lib-1.1 idna-3.4 kiwisolver-1.4.4 lxml-4.9.2 matplotlib-3.7.1 pandas-2.0.2 pandas-datareader-0.10.0 plotly-5.14.1 requests-2.31.0 turingquant-0.2.2 yarl-1.9.2 yfinance-0.2.18\n",
      "\n",
      "\u001b[1m[\u001b[0m\u001b[34;49mnotice\u001b[0m\u001b[1;39;49m]\u001b[0m\u001b[39;49m A new release of pip is available: \u001b[0m\u001b[31;49m23.0.1\u001b[0m\u001b[39;49m -> \u001b[0m\u001b[32;49m23.1.2\u001b[0m\n",
      "\u001b[1m[\u001b[0m\u001b[34;49mnotice\u001b[0m\u001b[1;39;49m]\u001b[0m\u001b[39;49m To update, run: \u001b[0m\u001b[32;49mpip install --upgrade pip\u001b[0m\n",
      "Note: you may need to restart the kernel to use updated packages.\n",
      "Requirement already satisfied: scipy in ./venv/lib/python3.11/site-packages (1.10.1)\n",
      "Requirement already satisfied: numpy<1.27.0,>=1.19.5 in ./venv/lib/python3.11/site-packages (from scipy) (1.24.3)\n",
      "\n",
      "\u001b[1m[\u001b[0m\u001b[34;49mnotice\u001b[0m\u001b[1;39;49m]\u001b[0m\u001b[39;49m A new release of pip is available: \u001b[0m\u001b[31;49m23.0.1\u001b[0m\u001b[39;49m -> \u001b[0m\u001b[32;49m23.1.2\u001b[0m\n",
      "\u001b[1m[\u001b[0m\u001b[34;49mnotice\u001b[0m\u001b[1;39;49m]\u001b[0m\u001b[39;49m To update, run: \u001b[0m\u001b[32;49mpip install --upgrade pip\u001b[0m\n",
      "Note: you may need to restart the kernel to use updated packages.\n"
     ]
    }
   ],
   "source": [
    "%pip install turingquant\n",
    "%pip install scipy"
   ]
  },
  {
   "cell_type": "code",
   "execution_count": 23,
   "metadata": {},
   "outputs": [],
   "source": [
    "from turingquant.metrics import returns\n",
    "from turingquant.metrics import cumulative_returns\n",
    "from turingquant.metrics import cagr\n",
    "from turingquant.metrics import mar_ratio\n",
    "import yfinance as yf"
   ]
  },
  {
   "cell_type": "code",
   "execution_count": 6,
   "metadata": {},
   "outputs": [
    {
     "name": "stdout",
     "output_type": "stream",
     "text": [
      "Collecting seaborn\n",
      "  Using cached seaborn-0.12.2-py3-none-any.whl (293 kB)\n",
      "Requirement already satisfied: numpy!=1.24.0,>=1.17 in ./venv/lib/python3.11/site-packages (from seaborn) (1.24.3)\n",
      "Requirement already satisfied: pandas>=0.25 in ./venv/lib/python3.11/site-packages (from seaborn) (2.0.2)\n",
      "Requirement already satisfied: matplotlib!=3.6.1,>=3.1 in ./venv/lib/python3.11/site-packages (from seaborn) (3.7.1)\n",
      "Requirement already satisfied: contourpy>=1.0.1 in ./venv/lib/python3.11/site-packages (from matplotlib!=3.6.1,>=3.1->seaborn) (1.0.7)\n",
      "Requirement already satisfied: cycler>=0.10 in ./venv/lib/python3.11/site-packages (from matplotlib!=3.6.1,>=3.1->seaborn) (0.11.0)\n",
      "Requirement already satisfied: fonttools>=4.22.0 in ./venv/lib/python3.11/site-packages (from matplotlib!=3.6.1,>=3.1->seaborn) (4.39.4)\n",
      "Requirement already satisfied: kiwisolver>=1.0.1 in ./venv/lib/python3.11/site-packages (from matplotlib!=3.6.1,>=3.1->seaborn) (1.4.4)\n",
      "Requirement already satisfied: packaging>=20.0 in ./venv/lib/python3.11/site-packages (from matplotlib!=3.6.1,>=3.1->seaborn) (23.1)\n",
      "Requirement already satisfied: pillow>=6.2.0 in ./venv/lib/python3.11/site-packages (from matplotlib!=3.6.1,>=3.1->seaborn) (9.5.0)\n",
      "Requirement already satisfied: pyparsing>=2.3.1 in ./venv/lib/python3.11/site-packages (from matplotlib!=3.6.1,>=3.1->seaborn) (3.0.9)\n",
      "Requirement already satisfied: python-dateutil>=2.7 in ./venv/lib/python3.11/site-packages (from matplotlib!=3.6.1,>=3.1->seaborn) (2.8.2)\n",
      "Requirement already satisfied: pytz>=2020.1 in ./venv/lib/python3.11/site-packages (from pandas>=0.25->seaborn) (2023.3)\n",
      "Requirement already satisfied: tzdata>=2022.1 in ./venv/lib/python3.11/site-packages (from pandas>=0.25->seaborn) (2023.3)\n",
      "Requirement already satisfied: six>=1.5 in ./venv/lib/python3.11/site-packages (from python-dateutil>=2.7->matplotlib!=3.6.1,>=3.1->seaborn) (1.16.0)\n",
      "Installing collected packages: seaborn\n",
      "Successfully installed seaborn-0.12.2\n",
      "\n",
      "\u001b[1m[\u001b[0m\u001b[34;49mnotice\u001b[0m\u001b[1;39;49m]\u001b[0m\u001b[39;49m A new release of pip is available: \u001b[0m\u001b[31;49m23.0.1\u001b[0m\u001b[39;49m -> \u001b[0m\u001b[32;49m23.1.2\u001b[0m\n",
      "\u001b[1m[\u001b[0m\u001b[34;49mnotice\u001b[0m\u001b[1;39;49m]\u001b[0m\u001b[39;49m To update, run: \u001b[0m\u001b[32;49mpip install --upgrade pip\u001b[0m\n",
      "Note: you may need to restart the kernel to use updated packages.\n"
     ]
    }
   ],
   "source": [
    "%pip install seaborn"
   ]
  },
  {
   "attachments": {},
   "cell_type": "markdown",
   "metadata": {},
   "source": [
    "# Lista de Funções para Estudar\n",
    "\n",
    "* [returns]()\n",
    "* cumulative_returns \n",
    "* [cagr](https://www.suno.com.br/artigos/cagr/) \n",
    "* [mar_ratio](https://www.investopedia.com/terms/m/mar-ratio.asp)\n",
    "\n",
    "Para cada uma das funções:\n",
    "1. Estudar conceitos por trás\n",
    "2. Testar função com dados da Yahoo Finance\n",
    "3. Explicar resultados e fórmulas utilizadas"
   ]
  },
  {
   "cell_type": "code",
   "execution_count": 7,
   "metadata": {},
   "outputs": [
    {
     "name": "stdout",
     "output_type": "stream",
     "text": [
      "[*********************100%***********************]  1 of 1 completed\n"
     ]
    }
   ],
   "source": [
    "df = yf.download([\"ITUB3.SA\"], start='2015-01-01')"
   ]
  },
  {
   "attachments": {},
   "cell_type": "markdown",
   "metadata": {},
   "source": [
    "## Função _returns_\n",
    "\n",
    "Calcula a variação percentual de um ativo, dia a dia. Abaixo, exemplos de sua utilização."
   ]
  },
  {
   "cell_type": "code",
   "execution_count": 8,
   "metadata": {},
   "outputs": [
    {
     "data": {
      "text/plain": [
       "<Axes: xlabel='Adj Close', ylabel='Count'>"
      ]
     },
     "execution_count": 8,
     "metadata": {},
     "output_type": "execute_result"
    },
    {
     "data": {
      "image/png": "[encoded data removed]",
      "text/plain": [
       "<Figure size 640x480 with 1 Axes>"
      ]
     },
     "metadata": {},
     "output_type": "display_data"
    }
   ],
   "source": [
    "# get just the adjusted close price of days 01/01/2020 and 01/01/2022\n",
    "# df['Adj Close'].loc['2020-01-01':'2022-01-01']\n",
    "# get just the initial and final price\n",
    "import seaborn as sns\n",
    "data = returns(df['Adj Close'].loc['2020-01-01':'2022-01-01'])\n",
    "sns.histplot(data)\n",
    "\n"
   ]
  },
  {
   "cell_type": "code",
   "execution_count": 9,
   "metadata": {},
   "outputs": [
    {
     "data": {
      "text/plain": [
       "Date\n",
       "2020-01-02         NaN\n",
       "2020-01-03   -0.008282\n",
       "2020-01-06   -0.010207\n",
       "2020-01-07   -0.019375\n",
       "2020-01-08   -0.010198\n",
       "                ...   \n",
       "2021-12-23    0.004168\n",
       "2021-12-27    0.009341\n",
       "2021-12-28   -0.003599\n",
       "2021-12-29   -0.003096\n",
       "2021-12-30   -0.011905\n",
       "Name: Adj Close, Length: 495, dtype: float64"
      ]
     },
     "execution_count": 9,
     "metadata": {},
     "output_type": "execute_result"
    }
   ],
   "source": [
    "returns(df['Adj Close'].loc['2020-01-01':'2022-01-01'])"
   ]
  },
  {
   "cell_type": "code",
   "execution_count": 10,
   "metadata": {},
   "outputs": [
    {
     "data": {
      "text/plain": [
       "<Axes: xlabel='Adj Close', ylabel='Count'>"
      ]
     },
     "execution_count": 10,
     "metadata": {},
     "output_type": "execute_result"
    },
    {
     "data": {
      "image/png": "[encoded data removed]",
      "text/plain": [
       "<Figure size 640x480 with 1 Axes>"
      ]
     },
     "metadata": {},
     "output_type": "display_data"
    }
   ],
   "source": [
    "monthly_data = df['Adj Close'].loc['2018-01-01':'2020-01-01'].pct_change(periods=21)\n",
    "sns.histplot(monthly_data)"
   ]
  },
  {
   "cell_type": "code",
   "execution_count": 11,
   "metadata": {},
   "outputs": [
    {
     "data": {
      "text/plain": [
       "Date\n",
       "2018-01-02         NaN\n",
       "2018-01-03         NaN\n",
       "2018-01-04         NaN\n",
       "2018-01-05         NaN\n",
       "2018-01-08         NaN\n",
       "                ...   \n",
       "2021-12-23   -0.066008\n",
       "2021-12-27   -0.065430\n",
       "2021-12-28   -0.047297\n",
       "2021-12-29   -0.046500\n",
       "2021-12-30   -0.049414\n",
       "Name: Adj Close, Length: 989, dtype: float64"
      ]
     },
     "execution_count": 11,
     "metadata": {},
     "output_type": "execute_result"
    }
   ],
   "source": [
    "df['Adj Close'].loc['2018-01-01':'2022-01-01'].pct_change(periods=21)"
   ]
  },
  {
   "attachments": {},
   "cell_type": "markdown",
   "metadata": {},
   "source": [
    "Podemos ver que o retorno do ativo ITUB3.SA foi de -37,43% nos anos de 2020 - 2022. Agora podemos utilizar esta metrica para calcular outros indicadores quantitativos"
   ]
  },
  {
   "attachments": {},
   "cell_type": "markdown",
   "metadata": {},
   "source": [
    "## Função _cumulative\\_returns_\n",
    "\n",
    "**Representa o retorno cumulativo de determinado ativo (ou portfolio) em um dado período.** <br><br>\n",
    "\n",
    "O retorno cumulativo é bastante útil para avaliar o desempenho geral de um investimento no horizonte de tempo determinado, sendo possível observar também as flutuações na cotação desse ativo ou portfolio<br><br>\n",
    "\n",
    "Sua fórmula é dada por: \n",
    "$Ret_{acum} = (1 + Ret_{t_{1}}) * (1 + Ret_{t_{2}}) * ... * (1 + Ret_{t_{n}})$\n",
    "\n",
    "\n",
    "\n"
   ]
  },
  {
   "cell_type": "code",
   "execution_count": 40,
   "metadata": {},
   "outputs": [
    {
     "data": {
      "text/plain": [
       "<Axes: xlabel='Adj Close', ylabel='Count'>"
      ]
     },
     "execution_count": 40,
     "metadata": {},
     "output_type": "execute_result"
    },
    {
     "data": {
      "image/png": "[encoded data removed]",
      "text/plain": [
       "<Figure size 640x480 with 1 Axes>"
      ]
     },
     "metadata": {},
     "output_type": "display_data"
    }
   ],
   "source": [
    "# retorno logaritmo\n",
    "\n",
    "data_log = cumulative_returns(returns(df['Adj Close'].loc['2020-01-01':'2022-01-01']), 'log')   \n",
    "sns.histplot(data_log, \n",
    "             color = \"darkorange\",\n",
    "             kde = True)"
   ]
  },
  {
   "cell_type": "code",
   "execution_count": 39,
   "metadata": {},
   "outputs": [
    {
     "data": {
      "text/plain": [
       "<Axes: xlabel='Adj Close', ylabel='Count'>"
      ]
     },
     "execution_count": 39,
     "metadata": {},
     "output_type": "execute_result"
    },
    {
     "data": {
      "image/png": "[encoded data removed]",
      "text/plain": [
       "<Figure size 640x480 with 1 Axes>"
      ]
     },
     "metadata": {},
     "output_type": "display_data"
    }
   ],
   "source": [
    "# retorno simples \n",
    "\n",
    "data_simp = cumulative_returns(returns(df['Adj Close'].loc['2020-01-01':'2022-01-01']), 'simp')   \n",
    "sns.histplot(data_simp, \n",
    "             color = \"darkblue\",\n",
    "             kde = True)"
   ]
  },
  {
   "attachments": {},
   "cell_type": "markdown",
   "metadata": {},
   "source": [
    "## Função _cagr_\n",
    "\n",
    "**CAGR é a sigla para Compound Annual Growth Rate, ou seja, Taxa de Crescimento Anual Composta** <br><br>\n",
    "\n",
    "Geralmente apresentada em termos percentuais, nada mais é do que a taxa de crescimento anual que, se aplicada de forma constante ao longo do período considerado, resultaria no crescimento total observado na cotação de um ativo (ou portfolio). É bastante útil para comparar a performance de investimentos em diferentes horizontes de tempo, pois utiliza a mesma base de tempo (anual). Cabe ressaltar que o CAGR não mostra explicitamente a variação existente na cotação (o quanto flutuou o preço do ativo). Um CAGR de 10%, por exemplo, pode \"esconder\" momentos de retornos negativos e momentos de retorno muito positivos"
   ]
  },
  {
   "cell_type": "code",
   "execution_count": 33,
   "metadata": {},
   "outputs": [
    {
     "name": "stdout",
     "output_type": "stream",
     "text": [
      "-0.12119868040964366\n"
     ]
    }
   ],
   "source": [
    "# CAGR anual - time_scale de 252 dias\n",
    "# 2020 a 2021\n",
    "\n",
    "cagr_anual_20_21 = cagr(returns(df['Adj Close'].loc['2020-01-01':'2021-01-01']), time_scale = 252)\n",
    "print(cagr_anual_20_21)"
   ]
  },
  {
   "cell_type": "code",
   "execution_count": 34,
   "metadata": {},
   "outputs": [
    {
     "name": "stdout",
     "output_type": "stream",
     "text": [
      "-0.2822477819612216\n"
     ]
    }
   ],
   "source": [
    "# CAGR anual - time_scale de 252 dias\n",
    "# 2021 a 2022\n",
    "\n",
    "cagr_anual_21_22 = cagr(returns(df['Adj Close'].loc['2021-01-01':'2022-01-01']), time_scale = 252)\n",
    "print(cagr_anual_21_22)"
   ]
  },
  {
   "attachments": {},
   "cell_type": "markdown",
   "metadata": {},
   "source": [
    "## Função _mar\\_ratio_\n",
    "\n",
    "**MAR Ratio é a sigla para Minimum Acceptable Return Ratio, ou seja, Taxa de Retorno Mínimo Aceitável** <br><br>\n",
    "\n",
    "O seu cálculo leva em consideração duas coisas: 1) CAGR (explicado acima) e 2) Drawdown <br>\n",
    "O Drawdown representa o quanto a cotação de um ativo (ou portfolio) caiu do o seu pico anteriormente alcançado até seu vale subsequente. O Máximo Drawdown representa a maior queda (em termos percentuais) de um pico até seu vale subsequente, mostrando o impacto negativo que um investidor teria tido se tivesse comprado o ativo no pior pico possível e vendido no ponto mais baixo do Drawdown. <br><br>\n",
    "\n",
    "Finalmente, o MAR ratio pode ser expresso pela razão entre o CAGR e o Máximo Drawdown observados no período. É, portanto, uma medida de avaliação da relação risco-retorno, funcionando como uma métrica para ajustar o retorno de um investimento ao risco a que ele está exposto (tomando como base seu desempenho histórico)."
   ]
  },
  {
   "cell_type": "code",
   "execution_count": 41,
   "metadata": {},
   "outputs": [
    {
     "name": "stdout",
     "output_type": "stream",
     "text": [
      "-0.004302659016234036\n"
     ]
    }
   ],
   "source": [
    "# MAR Ratio para 2 anos (2020 - 2022)\n",
    "# time_window = 2; time_scale = 252\n",
    "\n",
    "marratio_20_22 = mar_ratio(returns(df['Adj Close'].loc['2020-01-01':'2022-01-01']), time_window = 2, time_scale = 252)\n",
    "print(marratio_20_22)"
   ]
  },
  {
   "cell_type": "code",
   "execution_count": 42,
   "metadata": {},
   "outputs": [
    {
     "name": "stdout",
     "output_type": "stream",
     "text": [
      "-0.0010287887929512508\n"
     ]
    }
   ],
   "source": [
    "# MAR Ratio para 1 ano (2020 - 2021)\n",
    "# time_window = 1; time_scale = 252\n",
    "\n",
    "marratio_20_21 = mar_ratio(returns(df['Adj Close'].loc['2020-01-01':'2021-01-01']), time_window = 1, time_scale = 252)\n",
    "print(marratio_20_21)"
   ]
  },
  {
   "cell_type": "code",
   "execution_count": 43,
   "metadata": {},
   "outputs": [
    {
     "name": "stdout",
     "output_type": "stream",
     "text": [
      "-0.00801542557792216\n"
     ]
    }
   ],
   "source": [
    "# MAR Ratio para 1 ano (2021 - 2022)\n",
    "# time_window = 1; time_scale = 252\n",
    "\n",
    "marratio_21_22 = mar_ratio(returns(df['Adj Close'].loc['2021-01-01':'2022-01-01']), time_window = 1, time_scale = 252)\n",
    "print(marratio_21_22)"
   ]
  },
  {
   "attachments": {},
   "cell_type": "markdown",
   "metadata": {},
   "source": [
    "# Como essas funções podem ser utilizadas para montar um portfolio de investimento?"
   ]
  },
  {
   "attachments": {},
   "cell_type": "markdown",
   "metadata": {},
   "source": [
    "Com a utilização dessas funções, é possível obter informações sobre o desempenho histórico dos ativos, como a relação risco-retorno e o crescimento acumulado ao longo do tempo. Pode ser uma estratégia interessante usar essas funções para comparar e entender o comportamento dos ativos em momentos de crise e euforia. Porém, é importante lembrar que retorno passado não é garantia de retorno futuro."
   ]
  }
 ],
 "metadata": {
  "kernelspec": {
   "display_name": "Python 3.8.5 32-bit",
   "language": "python",
   "name": "python3"
  },
  "language_info": {
   "codemirror_mode": {
    "name": "ipython",
    "version": 3
   },
   "file_extension": ".py",
   "mimetype": "text/x-python",
   "name": "python",
   "nbconvert_exporter": "python",
   "pygments_lexer": "ipython3",
   "version": "3.11.3"
  },
  "orig_nbformat": 4,
  "vscode": {
   "interpreter": {
    "hash": "a95630bf30d9c06b9c8610f9aefa8bc14bef06f29f4f41a3868d1064dac1c4b7"
   }
  }
 },
 "nbformat": 4,
 "nbformat_minor": 2
}
