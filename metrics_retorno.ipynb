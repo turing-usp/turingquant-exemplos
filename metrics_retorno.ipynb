{
 "cells": [
  {
   "cell_type": "code",
   "execution_count": 8,
   "metadata": {},
   "outputs": [],
   "source": [
    "# !pip install turingquant\n",
    "# !pip install scipy\n",
    "# !pip install seaborn"
   ]
  },
  {
   "cell_type": "code",
   "execution_count": 9,
   "metadata": {},
   "outputs": [],
   "source": [
    "from turingquant.metrics import returns\n",
    "from turingquant.metrics import cumulative_returns\n",
    "from turingquant.metrics import cagr\n",
    "from turingquant.metrics import mar_ratio\n",
    "import yfinance as yf\n",
    "import seaborn as sns"
   ]
  },
  {
   "attachments": {},
   "cell_type": "markdown",
   "metadata": {},
   "source": [
    "# Lista de Funções para Estudar\n",
    "\n",
    "* [returns]()\n",
    "* cumulative_returns \n",
    "* [cagr](https://www.suno.com.br/artigos/cagr/) \n",
    "* [mar_ratio](https://www.investopedia.com/terms/m/mar-ratio.asp)\n",
    "\n",
    "Para cada uma das funções:\n",
    "1. Estudar conceitos por trás\n",
    "2. Testar função com dados da Yahoo Finance\n",
    "3. Explicar resultados e fórmulas utilizadas"
   ]
  },
  {
   "cell_type": "code",
   "execution_count": 25,
   "metadata": {},
   "outputs": [
    {
     "name": "stdout",
     "output_type": "stream",
     "text": [
      "[*********************100%***********************]  2 of 2 completed\n"
     ]
    }
   ],
   "source": [
    "df = yf.download([\"ITUB3.SA\",\"PETR3.SA\"], start='2020-01-01')"
   ]
  },
  {
   "cell_type": "code",
   "execution_count": 24,
   "metadata": {},
   "outputs": [
    {
     "data": {
      "text/html": [
       "<div>\n",
       "<style scoped>\n",
       "    .dataframe tbody tr th:only-of-type {\n",
       "        vertical-align: middle;\n",
       "    }\n",
       "\n",
       "    .dataframe tbody tr th {\n",
       "        vertical-align: top;\n",
       "    }\n",
       "\n",
       "    .dataframe thead tr th {\n",
       "        text-align: left;\n",
       "    }\n",
       "\n",
       "    .dataframe thead tr:last-of-type th {\n",
       "        text-align: right;\n",
       "    }\n",
       "</style>\n",
       "<table border=\"1\" class=\"dataframe\">\n",
       "  <thead>\n",
       "    <tr>\n",
       "      <th></th>\n",
       "      <th colspan=\"2\" halign=\"left\">Adj Close</th>\n",
       "      <th colspan=\"2\" halign=\"left\">Close</th>\n",
       "      <th colspan=\"2\" halign=\"left\">High</th>\n",
       "      <th colspan=\"2\" halign=\"left\">Low</th>\n",
       "      <th colspan=\"2\" halign=\"left\">Open</th>\n",
       "      <th colspan=\"2\" halign=\"left\">Volume</th>\n",
       "    </tr>\n",
       "    <tr>\n",
       "      <th></th>\n",
       "      <th>ITUB3.SA</th>\n",
       "      <th>PETR3.SA</th>\n",
       "      <th>ITUB3.SA</th>\n",
       "      <th>PETR3.SA</th>\n",
       "      <th>ITUB3.SA</th>\n",
       "      <th>PETR3.SA</th>\n",
       "      <th>ITUB3.SA</th>\n",
       "      <th>PETR3.SA</th>\n",
       "      <th>ITUB3.SA</th>\n",
       "      <th>PETR3.SA</th>\n",
       "      <th>ITUB3.SA</th>\n",
       "      <th>PETR3.SA</th>\n",
       "    </tr>\n",
       "    <tr>\n",
       "      <th>Date</th>\n",
       "      <th></th>\n",
       "      <th></th>\n",
       "      <th></th>\n",
       "      <th></th>\n",
       "      <th></th>\n",
       "      <th></th>\n",
       "      <th></th>\n",
       "      <th></th>\n",
       "      <th></th>\n",
       "      <th></th>\n",
       "      <th></th>\n",
       "      <th></th>\n",
       "    </tr>\n",
       "  </thead>\n",
       "  <tbody>\n",
       "    <tr>\n",
       "      <th>2016-01-04</th>\n",
       "      <td>9.717204</td>\n",
       "      <td>3.663706</td>\n",
       "      <td>14.000000</td>\n",
       "      <td>8.670000</td>\n",
       "      <td>14.769696</td>\n",
       "      <td>8.960000</td>\n",
       "      <td>14.000000</td>\n",
       "      <td>8.310000</td>\n",
       "      <td>14.769696</td>\n",
       "      <td>8.310000</td>\n",
       "      <td>278520</td>\n",
       "      <td>16912500</td>\n",
       "    </tr>\n",
       "    <tr>\n",
       "      <th>2016-01-05</th>\n",
       "      <td>9.923329</td>\n",
       "      <td>3.570740</td>\n",
       "      <td>14.296969</td>\n",
       "      <td>8.450000</td>\n",
       "      <td>14.327272</td>\n",
       "      <td>8.890000</td>\n",
       "      <td>14.042424</td>\n",
       "      <td>8.350000</td>\n",
       "      <td>14.212121</td>\n",
       "      <td>8.730000</td>\n",
       "      <td>99825</td>\n",
       "      <td>9146500</td>\n",
       "    </tr>\n",
       "    <tr>\n",
       "      <th>2016-01-06</th>\n",
       "      <td>9.864435</td>\n",
       "      <td>3.405936</td>\n",
       "      <td>14.212121</td>\n",
       "      <td>8.060000</td>\n",
       "      <td>14.406060</td>\n",
       "      <td>8.250000</td>\n",
       "      <td>13.939393</td>\n",
       "      <td>8.060000</td>\n",
       "      <td>14.236363</td>\n",
       "      <td>8.220000</td>\n",
       "      <td>181995</td>\n",
       "      <td>9908400</td>\n",
       "    </tr>\n",
       "    <tr>\n",
       "      <th>2016-01-07</th>\n",
       "      <td>9.746654</td>\n",
       "      <td>3.308744</td>\n",
       "      <td>14.042424</td>\n",
       "      <td>7.830000</td>\n",
       "      <td>14.151515</td>\n",
       "      <td>8.070000</td>\n",
       "      <td>13.903030</td>\n",
       "      <td>7.650000</td>\n",
       "      <td>14.036363</td>\n",
       "      <td>7.720000</td>\n",
       "      <td>221925</td>\n",
       "      <td>10777500</td>\n",
       "    </tr>\n",
       "    <tr>\n",
       "      <th>2016-01-08</th>\n",
       "      <td>9.898085</td>\n",
       "      <td>3.321422</td>\n",
       "      <td>14.260606</td>\n",
       "      <td>7.860000</td>\n",
       "      <td>14.260606</td>\n",
       "      <td>8.040000</td>\n",
       "      <td>13.963636</td>\n",
       "      <td>7.680000</td>\n",
       "      <td>14.175757</td>\n",
       "      <td>8.000000</td>\n",
       "      <td>122100</td>\n",
       "      <td>10759800</td>\n",
       "    </tr>\n",
       "    <tr>\n",
       "      <th>...</th>\n",
       "      <td>...</td>\n",
       "      <td>...</td>\n",
       "      <td>...</td>\n",
       "      <td>...</td>\n",
       "      <td>...</td>\n",
       "      <td>...</td>\n",
       "      <td>...</td>\n",
       "      <td>...</td>\n",
       "      <td>...</td>\n",
       "      <td>...</td>\n",
       "      <td>...</td>\n",
       "      <td>...</td>\n",
       "    </tr>\n",
       "    <tr>\n",
       "      <th>2023-05-24</th>\n",
       "      <td>22.420000</td>\n",
       "      <td>29.770000</td>\n",
       "      <td>22.420000</td>\n",
       "      <td>29.770000</td>\n",
       "      <td>22.620001</td>\n",
       "      <td>29.940001</td>\n",
       "      <td>22.299999</td>\n",
       "      <td>29.209999</td>\n",
       "      <td>22.370001</td>\n",
       "      <td>29.299999</td>\n",
       "      <td>358300</td>\n",
       "      <td>7177400</td>\n",
       "    </tr>\n",
       "    <tr>\n",
       "      <th>2023-05-25</th>\n",
       "      <td>23.049999</td>\n",
       "      <td>29.549999</td>\n",
       "      <td>23.049999</td>\n",
       "      <td>29.549999</td>\n",
       "      <td>23.190001</td>\n",
       "      <td>29.990000</td>\n",
       "      <td>22.559999</td>\n",
       "      <td>29.320000</td>\n",
       "      <td>22.639999</td>\n",
       "      <td>29.990000</td>\n",
       "      <td>738800</td>\n",
       "      <td>10559200</td>\n",
       "    </tr>\n",
       "    <tr>\n",
       "      <th>2023-05-26</th>\n",
       "      <td>22.940001</td>\n",
       "      <td>30.040001</td>\n",
       "      <td>22.940001</td>\n",
       "      <td>30.040001</td>\n",
       "      <td>23.480000</td>\n",
       "      <td>30.049999</td>\n",
       "      <td>22.750000</td>\n",
       "      <td>29.580000</td>\n",
       "      <td>23.170000</td>\n",
       "      <td>29.879999</td>\n",
       "      <td>480300</td>\n",
       "      <td>9729700</td>\n",
       "    </tr>\n",
       "    <tr>\n",
       "      <th>2023-05-29</th>\n",
       "      <td>22.750000</td>\n",
       "      <td>29.850000</td>\n",
       "      <td>22.750000</td>\n",
       "      <td>29.850000</td>\n",
       "      <td>22.959999</td>\n",
       "      <td>30.040001</td>\n",
       "      <td>22.700001</td>\n",
       "      <td>29.610001</td>\n",
       "      <td>22.850000</td>\n",
       "      <td>29.879999</td>\n",
       "      <td>447000</td>\n",
       "      <td>3604000</td>\n",
       "    </tr>\n",
       "    <tr>\n",
       "      <th>2023-05-30</th>\n",
       "      <td>22.639999</td>\n",
       "      <td>29.570000</td>\n",
       "      <td>22.639999</td>\n",
       "      <td>29.570000</td>\n",
       "      <td>0.000000</td>\n",
       "      <td>0.000000</td>\n",
       "      <td>0.000000</td>\n",
       "      <td>0.000000</td>\n",
       "      <td>0.000000</td>\n",
       "      <td>0.000000</td>\n",
       "      <td>0</td>\n",
       "      <td>0</td>\n",
       "    </tr>\n",
       "  </tbody>\n",
       "</table>\n",
       "<p>1844 rows × 12 columns</p>\n",
       "</div>"
      ],
      "text/plain": [
       "            Adj Close                 Close                  High             \\\n",
       "             ITUB3.SA   PETR3.SA   ITUB3.SA   PETR3.SA   ITUB3.SA   PETR3.SA   \n",
       "Date                                                                           \n",
       "2016-01-04   9.717204   3.663706  14.000000   8.670000  14.769696   8.960000   \n",
       "2016-01-05   9.923329   3.570740  14.296969   8.450000  14.327272   8.890000   \n",
       "2016-01-06   9.864435   3.405936  14.212121   8.060000  14.406060   8.250000   \n",
       "2016-01-07   9.746654   3.308744  14.042424   7.830000  14.151515   8.070000   \n",
       "2016-01-08   9.898085   3.321422  14.260606   7.860000  14.260606   8.040000   \n",
       "...               ...        ...        ...        ...        ...        ...   \n",
       "2023-05-24  22.420000  29.770000  22.420000  29.770000  22.620001  29.940001   \n",
       "2023-05-25  23.049999  29.549999  23.049999  29.549999  23.190001  29.990000   \n",
       "2023-05-26  22.940001  30.040001  22.940001  30.040001  23.480000  30.049999   \n",
       "2023-05-29  22.750000  29.850000  22.750000  29.850000  22.959999  30.040001   \n",
       "2023-05-30  22.639999  29.570000  22.639999  29.570000   0.000000   0.000000   \n",
       "\n",
       "                  Low                  Open              Volume            \n",
       "             ITUB3.SA   PETR3.SA   ITUB3.SA   PETR3.SA ITUB3.SA  PETR3.SA  \n",
       "Date                                                                       \n",
       "2016-01-04  14.000000   8.310000  14.769696   8.310000   278520  16912500  \n",
       "2016-01-05  14.042424   8.350000  14.212121   8.730000    99825   9146500  \n",
       "2016-01-06  13.939393   8.060000  14.236363   8.220000   181995   9908400  \n",
       "2016-01-07  13.903030   7.650000  14.036363   7.720000   221925  10777500  \n",
       "2016-01-08  13.963636   7.680000  14.175757   8.000000   122100  10759800  \n",
       "...               ...        ...        ...        ...      ...       ...  \n",
       "2023-05-24  22.299999  29.209999  22.370001  29.299999   358300   7177400  \n",
       "2023-05-25  22.559999  29.320000  22.639999  29.990000   738800  10559200  \n",
       "2023-05-26  22.750000  29.580000  23.170000  29.879999   480300   9729700  \n",
       "2023-05-29  22.700001  29.610001  22.850000  29.879999   447000   3604000  \n",
       "2023-05-30   0.000000   0.000000   0.000000   0.000000        0         0  \n",
       "\n",
       "[1844 rows x 12 columns]"
      ]
     },
     "execution_count": 24,
     "metadata": {},
     "output_type": "execute_result"
    }
   ],
   "source": [
    "df"
   ]
  },
  {
   "attachments": {},
   "cell_type": "markdown",
   "metadata": {},
   "source": [
    "## Função _returns_\n",
    "\n",
    "Calcula a variação percentual de um ativo, dia a dia. Abaixo, exemplos de sua utilização."
   ]
  },
  {
   "cell_type": "code",
   "execution_count": 12,
   "metadata": {},
   "outputs": [
    {
     "data": {
      "image/png": "[encoded data removed]",
      "text/plain": [
       "<Figure size 640x480 with 1 Axes>"
      ]
     },
     "metadata": {},
     "output_type": "display_data"
    }
   ],
   "source": [
    "# get just the adjusted close price of days 01/01/2020 and 01/01/2022\n",
    "# df['Adj Close'].loc['2020-01-01':'2022-01-01']\n",
    "# get just the initial and final price\n",
    "data = returns(df['Adj Close'].loc['2020-01-01':'2022-01-01'])\n",
    "sns.histplot(data);"
   ]
  },
  {
   "attachments": {},
   "cell_type": "markdown",
   "metadata": {},
   "source": [
    "- seria mais interessante automatizar"
   ]
  },
  {
   "attachments": {},
   "cell_type": "markdown",
   "metadata": {},
   "source": [
    "### Comparar este histograma com periodos mais curtos ou periodos onde a acao tenha ido melhor"
   ]
  },
  {
   "cell_type": "code",
   "execution_count": 13,
   "metadata": {},
   "outputs": [
    {
     "data": {
      "text/plain": [
       "Date\n",
       "2020-01-02         NaN\n",
       "2020-01-03   -0.008282\n",
       "2020-01-06   -0.010208\n",
       "2020-01-07   -0.019375\n",
       "2020-01-08   -0.010198\n",
       "                ...   \n",
       "2021-12-23    0.004169\n",
       "2021-12-27    0.009341\n",
       "2021-12-28   -0.003599\n",
       "2021-12-29   -0.003096\n",
       "2021-12-30   -0.011905\n",
       "Name: Adj Close, Length: 495, dtype: float64"
      ]
     },
     "execution_count": 13,
     "metadata": {},
     "output_type": "execute_result"
    }
   ],
   "source": [
    "# retornos diarios\n",
    "returns(df['Adj Close'].loc['2020-01-01':'2022-01-01'])"
   ]
  },
  {
   "cell_type": "code",
   "execution_count": 14,
   "metadata": {},
   "outputs": [
    {
     "data": {
      "text/plain": [
       "<Axes: xlabel='Adj Close', ylabel='Count'>"
      ]
     },
     "execution_count": 14,
     "metadata": {},
     "output_type": "execute_result"
    },
    {
     "data": {
      "image/png": "[encoded data removed]",
      "text/plain": [
       "<Figure size 640x480 with 1 Axes>"
      ]
     },
     "metadata": {},
     "output_type": "display_data"
    }
   ],
   "source": [
    "# histograma de retorno mensal\n",
    "monthly_data = df['Adj Close'].loc['2018-01-01':'2020-01-01'].pct_change(periods=21)\n",
    "sns.histplot(monthly_data)"
   ]
  },
  {
   "attachments": {},
   "cell_type": "markdown",
   "metadata": {},
   "source": [
    "### Qual foi a comparacao do histograma de retorno mensal com o histograma de retorno diario?"
   ]
  },
  {
   "cell_type": "code",
   "execution_count": 11,
   "metadata": {},
   "outputs": [
    {
     "data": {
      "text/plain": [
       "Date\n",
       "2018-01-02         NaN\n",
       "2018-01-03         NaN\n",
       "2018-01-04         NaN\n",
       "2018-01-05         NaN\n",
       "2018-01-08         NaN\n",
       "                ...   \n",
       "2021-12-23   -0.066008\n",
       "2021-12-27   -0.065430\n",
       "2021-12-28   -0.047297\n",
       "2021-12-29   -0.046500\n",
       "2021-12-30   -0.049414\n",
       "Name: Adj Close, Length: 989, dtype: float64"
      ]
     },
     "execution_count": 11,
     "metadata": {},
     "output_type": "execute_result"
    }
   ],
   "source": [
    "\n",
    "df['Adj Close'].loc['2018-01-01':'2022-01-01'].pct_change(periods=21)"
   ]
  },
  {
   "attachments": {},
   "cell_type": "markdown",
   "metadata": {},
   "source": [
    "Podemos ver que o retorno do ativo ITUB3.SA foi de -37,43% nos anos de 2020 - 2022. Agora podemos utilizar esta metrica para calcular outros indicadores quantitativos"
   ]
  },
  {
   "attachments": {},
   "cell_type": "markdown",
   "metadata": {},
   "source": [
    "## Função _cumulative\\_returns_\n",
    "\n",
    "**Representa o retorno cumulativo de determinado ativo (ou portfolio) em um dado período.** <br><br>\n",
    "\n",
    "O retorno cumulativo é bastante útil para avaliar o desempenho geral de um investimento no horizonte de tempo determinado, sendo possível observar também as flutuações na cotação desse ativo ou portfolio<br><br>\n",
    "\n",
    "Sua fórmula é dada por: \n",
    "$Ret_{acum} = (1 + Ret_{t_{1}}) * (1 + Ret_{t_{2}}) * ... * (1 + Ret_{t_{n}})$\n",
    "\n",
    "\n",
    "\n"
   ]
  },
  {
   "cell_type": "code",
   "execution_count": 17,
   "metadata": {},
   "outputs": [
    {
     "data": {
      "image/png": "[encoded data removed]",
      "text/plain": [
       "<Figure size 640x480 with 1 Axes>"
      ]
     },
     "metadata": {},
     "output_type": "display_data"
    }
   ],
   "source": [
    "# retorno logaritmo\n",
    "data_log = cumulative_returns(returns(df['Adj Close'].loc['2020-01-01':'2022-01-01']), 'log')   \n",
    "sns.histplot(data_log, \n",
    "             color = \"darkorange\",\n",
    "             kde = True);"
   ]
  },
  {
   "cell_type": "code",
   "execution_count": 22,
   "metadata": {},
   "outputs": [
    {
     "data": {
      "text/plain": [
       "<Axes: xlabel='Date', ylabel='Adj Close'>"
      ]
     },
     "execution_count": 22,
     "metadata": {},
     "output_type": "execute_result"
    },
    {
     "data": {
      "image/png": "[encoded data removed]",
      "text/plain": [
       "<Figure size 640x480 with 1 Axes>"
      ]
     },
     "metadata": {},
     "output_type": "display_data"
    }
   ],
   "source": [
    "# line plot fica mais simples de visualizar\n",
    "sns.lineplot(data_log)"
   ]
  },
  {
   "attachments": {},
   "cell_type": "markdown",
   "metadata": {},
   "source": [
    "e o retorno somado, a evoluca"
   ]
  },
  {
   "attachments": {},
   "cell_type": "markdown",
   "metadata": {},
   "source": [
    "tem dois tipos:\n",
    "- na pratica talvez seja mais usado o simples\n",
    "- o log pode ajudar em alguns"
   ]
  },
  {
   "cell_type": "code",
   "execution_count": 18,
   "metadata": {},
   "outputs": [
    {
     "data": {
      "image/png": "[encoded data removed]",
      "text/plain": [
       "<Figure size 640x480 with 1 Axes>"
      ]
     },
     "metadata": {},
     "output_type": "display_data"
    }
   ],
   "source": [
    "# retorno simples \n",
    "data_simp = cumulative_returns(returns(df['Adj Close'].loc['2020-01-01':'2022-01-01']), 'simp')   \n",
    "sns.histplot(data_simp, \n",
    "             color = \"darkblue\",\n",
    "             kde = True);"
   ]
  },
  {
   "attachments": {},
   "cell_type": "markdown",
   "metadata": {},
   "source": [
    "log retorno pode ser interessante, e a soma dos retornos: quando tem uma queda para voltar para o mesmo patamar e o mesmo valor"
   ]
  },
  {
   "attachments": {},
   "cell_type": "markdown",
   "metadata": {},
   "source": [
    "## Função _cagr_\n",
    "\n",
    "**CAGR é a sigla para Compound Annual Growth Rate, ou seja, Taxa de Crescimento Anual Composta** <br><br>\n",
    "\n",
    "Geralmente apresentada em termos percentuais, nada mais é do que a taxa de crescimento anual que, se aplicada de forma constante ao longo do período considerado, resultaria no crescimento total observado na cotação de um ativo (ou portfolio). É bastante útil para comparar a performance de investimentos em diferentes horizontes de tempo, pois utiliza a mesma base de tempo (anual). Cabe ressaltar que o CAGR não mostra explicitamente a variação existente na cotação (o quanto flutuou o preço do ativo). Um CAGR de 10%, por exemplo, pode \"esconder\" momentos de retornos negativos e momentos de retorno muito positivos"
   ]
  },
  {
   "cell_type": "code",
   "execution_count": 33,
   "metadata": {},
   "outputs": [
    {
     "name": "stdout",
     "output_type": "stream",
     "text": [
      "-0.12119868040964366\n"
     ]
    }
   ],
   "source": [
    "# CAGR anual - time_scale de 252 dias\n",
    "# 2020 a 2021\n",
    "\n",
    "cagr_anual_20_21 = cagr(returns(df['Adj Close'].loc['2020-01-01':'2021-01-01']), time_scale = 252)\n",
    "print(cagr_anual_20_21)"
   ]
  },
  {
   "cell_type": "code",
   "execution_count": 34,
   "metadata": {},
   "outputs": [
    {
     "name": "stdout",
     "output_type": "stream",
     "text": [
      "-0.2822477819612216\n"
     ]
    }
   ],
   "source": [
    "# CAGR anual - time_scale de 252 dias\n",
    "# 2021 a 2022\n",
    "\n",
    "cagr_anual_21_22 = cagr(returns(df['Adj Close'].loc['2021-01-01':'2022-01-01']), time_scale = 252)\n",
    "print(cagr_anual_21_22)"
   ]
  },
  {
   "attachments": {},
   "cell_type": "markdown",
   "metadata": {},
   "source": [
    "se o ativo oscilasse um valor fixo: \n",
    "\n",
    "- cagr vai ser a porcentagem media q o investimento rendeu por ano\n",
    "- quando roda um backtesting cagr e uma metrica interessante de se analizar"
   ]
  },
  {
   "attachments": {},
   "cell_type": "markdown",
   "metadata": {},
   "source": [
    "### Um grafico melhoraria a explicacao desta metrica ???\n",
    "\n",
    "### Seria interessante comparar esta metrica aplicada em algum outro ativo e fazer alguma comparacao ???"
   ]
  },
  {
   "attachments": {},
   "cell_type": "markdown",
   "metadata": {},
   "source": [
    "## Função _mar\\_ratio_\n",
    "\n",
    "**MAR Ratio é a sigla para Minimum Acceptable Return Ratio, ou seja, Taxa de Retorno Mínimo Aceitável** <br><br>\n",
    "\n",
    "O seu cálculo leva em consideração duas coisas: 1) CAGR (explicado acima) e 2) Drawdown <br>\n",
    "O Drawdown representa o quanto a cotação de um ativo (ou portfolio) caiu do o seu pico anteriormente alcançado até seu vale subsequente. O Máximo Drawdown representa a maior queda (em termos percentuais) de um pico até seu vale subsequente, mostrando o impacto negativo que um investidor teria tido se tivesse comprado o ativo no pior pico possível e vendido no ponto mais baixo do Drawdown. <br><br>\n",
    "\n",
    "Finalmente, o MAR ratio pode ser expresso pela razão entre o CAGR e o Máximo Drawdown observados no período. É, portanto, uma medida de avaliação da relação risco-retorno, funcionando como uma métrica para ajustar o retorno de um investimento ao risco a que ele está exposto (tomando como base seu desempenho histórico)."
   ]
  },
  {
   "cell_type": "code",
   "execution_count": 41,
   "metadata": {},
   "outputs": [
    {
     "name": "stdout",
     "output_type": "stream",
     "text": [
      "-0.004302659016234036\n"
     ]
    }
   ],
   "source": [
    "# MAR Ratio para 2 anos (2020 - 2022)\n",
    "# time_window = 2; time_scale = 252\n",
    "\n",
    "marratio_20_22 = mar_ratio(returns(df['Adj Close'].loc['2020-01-01':'2022-01-01']), time_window = 2, time_scale = 252)\n",
    "print(marratio_20_22)"
   ]
  },
  {
   "cell_type": "code",
   "execution_count": 42,
   "metadata": {},
   "outputs": [
    {
     "name": "stdout",
     "output_type": "stream",
     "text": [
      "-0.0010287887929512508\n"
     ]
    }
   ],
   "source": [
    "# MAR Ratio para 1 ano (2020 - 2021)\n",
    "# time_window = 1; time_scale = 252\n",
    "\n",
    "marratio_20_21 = mar_ratio(returns(df['Adj Close'].loc['2020-01-01':'2021-01-01']), time_window = 1, time_scale = 252)\n",
    "print(marratio_20_21)"
   ]
  },
  {
   "cell_type": "code",
   "execution_count": 43,
   "metadata": {},
   "outputs": [
    {
     "name": "stdout",
     "output_type": "stream",
     "text": [
      "-0.00801542557792216\n"
     ]
    }
   ],
   "source": [
    "# MAR Ratio para 1 ano (2021 - 2022)\n",
    "# time_window = 1; time_scale = 252\n",
    "\n",
    "marratio_21_22 = mar_ratio(returns(df['Adj Close'].loc['2021-01-01':'2022-01-01']), time_window = 1, time_scale = 252)\n",
    "print(marratio_21_22)"
   ]
  },
  {
   "attachments": {},
   "cell_type": "markdown",
   "metadata": {},
   "source": [
    "- o maximo de retorno q estamos tendo considerando o risco"
   ]
  },
  {
   "attachments": {},
   "cell_type": "markdown",
   "metadata": {},
   "source": [
    "mar ratio ja usa o cagr:\n",
    "\n",
    "- comparar o mar ratio () de 2 acoes e do drawdown e do preco do ativo: automatizar !!!!\n",
    "\n",
    "- acrescentar garman class\n",
    "\n",
    "- grafios garman class, preco e drawdown\n",
    "\n",
    "- input: janela de tempo, codigos dos ativos"
   ]
  },
  {
   "attachments": {},
   "cell_type": "markdown",
   "metadata": {},
   "source": [
    "# Como essas funções podem ser utilizadas para montar um portfolio de investimento?"
   ]
  },
  {
   "cell_type": "code",
   "execution_count": null,
   "metadata": {},
   "outputs": [],
   "source": []
  }
 ],
 "metadata": {
  "kernelspec": {
   "display_name": "Python 3.8.5 32-bit",
   "language": "python",
   "name": "python3"
  },
  "language_info": {
   "codemirror_mode": {
    "name": "ipython",
    "version": 3
   },
   "file_extension": ".py",
   "mimetype": "text/x-python",
   "name": "python",
   "nbconvert_exporter": "python",
   "pygments_lexer": "ipython3",
   "version": "3.8.8"
  },
  "orig_nbformat": 4,
  "vscode": {
   "interpreter": {
    "hash": "a95630bf30d9c06b9c8610f9aefa8bc14bef06f29f4f41a3868d1064dac1c4b7"
   }
  }
 },
 "nbformat": 4,
 "nbformat_minor": 2
}
