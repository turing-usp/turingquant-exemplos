{
 "cells": [
  {
   "cell_type": "code",
   "execution_count": 15,
   "id": "76d7c7d6",
   "metadata": {},
   "outputs": [],
   "source": [
    "import pandas as pd\n",
    "import numpy as np\n",
    "import seaborn as sns\n",
    "import matplotlib.pyplot as plt\n",
    "import yfinance as yf\n",
    "import turingquant as tq"
   ]
  },
  {
   "cell_type": "code",
   "execution_count": 42,
   "id": "9bd36f69",
   "metadata": {},
   "outputs": [],
   "source": [
    "#Empresas Selecionadas para análise: Petrobras, BTG Pactual, Itaú Unibanco, Credit Suisse, Vivo e TIM\n",
    "tickers = ['PETR4.SA', 'ITUB4.SA', 'HGLG11.SA', 'VIVT3.SA', 'TIMS3.SA']"
   ]
  },
  {
   "cell_type": "code",
   "execution_count": 43,
   "id": "02bb3412",
   "metadata": {},
   "outputs": [
    {
     "name": "stdout",
     "output_type": "stream",
     "text": [
      "[*********************100%***********************]  5 of 5 completed\n"
     ]
    }
   ],
   "source": [
    "df_close = yf.download(tickers, start='2019-01-01', end='2022-12-31')['Close']"
   ]
  },
  {
   "cell_type": "code",
   "execution_count": 44,
   "id": "c499a2a8",
   "metadata": {},
   "outputs": [
    {
     "data": {
      "text/html": [
       "<div>\n",
       "<style scoped>\n",
       "    .dataframe tbody tr th:only-of-type {\n",
       "        vertical-align: middle;\n",
       "    }\n",
       "\n",
       "    .dataframe tbody tr th {\n",
       "        vertical-align: top;\n",
       "    }\n",
       "\n",
       "    .dataframe thead th {\n",
       "        text-align: right;\n",
       "    }\n",
       "</style>\n",
       "<table border=\"1\" class=\"dataframe\">\n",
       "  <thead>\n",
       "    <tr style=\"text-align: right;\">\n",
       "      <th></th>\n",
       "      <th>HGLG11.SA</th>\n",
       "      <th>ITUB4.SA</th>\n",
       "      <th>PETR4.SA</th>\n",
       "      <th>TIMS3.SA</th>\n",
       "      <th>VIVT3.SA</th>\n",
       "    </tr>\n",
       "    <tr>\n",
       "      <th>Date</th>\n",
       "      <th></th>\n",
       "      <th></th>\n",
       "      <th></th>\n",
       "      <th></th>\n",
       "      <th></th>\n",
       "    </tr>\n",
       "  </thead>\n",
       "  <tbody>\n",
       "    <tr>\n",
       "      <th>2019-01-02</th>\n",
       "      <td>140.899994</td>\n",
       "      <td>37.000000</td>\n",
       "      <td>24.059999</td>\n",
       "      <td>12.15</td>\n",
       "      <td>41.910000</td>\n",
       "    </tr>\n",
       "    <tr>\n",
       "      <th>2019-01-03</th>\n",
       "      <td>140.949997</td>\n",
       "      <td>37.610001</td>\n",
       "      <td>24.650000</td>\n",
       "      <td>11.92</td>\n",
       "      <td>41.400002</td>\n",
       "    </tr>\n",
       "    <tr>\n",
       "      <th>2019-01-04</th>\n",
       "      <td>140.250000</td>\n",
       "      <td>36.980000</td>\n",
       "      <td>24.719999</td>\n",
       "      <td>11.98</td>\n",
       "      <td>41.090000</td>\n",
       "    </tr>\n",
       "    <tr>\n",
       "      <th>2019-01-07</th>\n",
       "      <td>141.500000</td>\n",
       "      <td>37.049999</td>\n",
       "      <td>25.110001</td>\n",
       "      <td>12.37</td>\n",
       "      <td>41.200001</td>\n",
       "    </tr>\n",
       "    <tr>\n",
       "      <th>2019-01-08</th>\n",
       "      <td>142.000000</td>\n",
       "      <td>37.520000</td>\n",
       "      <td>24.959999</td>\n",
       "      <td>12.84</td>\n",
       "      <td>40.299999</td>\n",
       "    </tr>\n",
       "    <tr>\n",
       "      <th>...</th>\n",
       "      <td>...</td>\n",
       "      <td>...</td>\n",
       "      <td>...</td>\n",
       "      <td>...</td>\n",
       "      <td>...</td>\n",
       "    </tr>\n",
       "    <tr>\n",
       "      <th>2022-12-23</th>\n",
       "      <td>163.000000</td>\n",
       "      <td>25.190001</td>\n",
       "      <td>25.120001</td>\n",
       "      <td>12.30</td>\n",
       "      <td>38.459999</td>\n",
       "    </tr>\n",
       "    <tr>\n",
       "      <th>2022-12-26</th>\n",
       "      <td>163.990005</td>\n",
       "      <td>24.690001</td>\n",
       "      <td>24.940001</td>\n",
       "      <td>12.12</td>\n",
       "      <td>37.560001</td>\n",
       "    </tr>\n",
       "    <tr>\n",
       "      <th>2022-12-27</th>\n",
       "      <td>164.240005</td>\n",
       "      <td>24.549999</td>\n",
       "      <td>25.110001</td>\n",
       "      <td>12.23</td>\n",
       "      <td>37.410000</td>\n",
       "    </tr>\n",
       "    <tr>\n",
       "      <th>2022-12-28</th>\n",
       "      <td>163.300003</td>\n",
       "      <td>25.049999</td>\n",
       "      <td>24.799999</td>\n",
       "      <td>12.27</td>\n",
       "      <td>37.869999</td>\n",
       "    </tr>\n",
       "    <tr>\n",
       "      <th>2022-12-29</th>\n",
       "      <td>164.500000</td>\n",
       "      <td>25.000000</td>\n",
       "      <td>24.500000</td>\n",
       "      <td>12.40</td>\n",
       "      <td>38.349998</td>\n",
       "    </tr>\n",
       "  </tbody>\n",
       "</table>\n",
       "<p>993 rows × 5 columns</p>\n",
       "</div>"
      ],
      "text/plain": [
       "             HGLG11.SA   ITUB4.SA   PETR4.SA  TIMS3.SA   VIVT3.SA\n",
       "Date                                                             \n",
       "2019-01-02  140.899994  37.000000  24.059999     12.15  41.910000\n",
       "2019-01-03  140.949997  37.610001  24.650000     11.92  41.400002\n",
       "2019-01-04  140.250000  36.980000  24.719999     11.98  41.090000\n",
       "2019-01-07  141.500000  37.049999  25.110001     12.37  41.200001\n",
       "2019-01-08  142.000000  37.520000  24.959999     12.84  40.299999\n",
       "...                ...        ...        ...       ...        ...\n",
       "2022-12-23  163.000000  25.190001  25.120001     12.30  38.459999\n",
       "2022-12-26  163.990005  24.690001  24.940001     12.12  37.560001\n",
       "2022-12-27  164.240005  24.549999  25.110001     12.23  37.410000\n",
       "2022-12-28  163.300003  25.049999  24.799999     12.27  37.869999\n",
       "2022-12-29  164.500000  25.000000  24.500000     12.40  38.349998\n",
       "\n",
       "[993 rows x 5 columns]"
      ]
     },
     "execution_count": 44,
     "metadata": {},
     "output_type": "execute_result"
    }
   ],
   "source": [
    "df_close"
   ]
  },
  {
   "cell_type": "code",
   "execution_count": 45,
   "id": "b9a0b453",
   "metadata": {},
   "outputs": [],
   "source": [
    "returns_pre = tq.metrics.returns(df_close)"
   ]
  },
  {
   "cell_type": "code",
   "execution_count": 46,
   "id": "e697f8a7",
   "metadata": {},
   "outputs": [],
   "source": [
    "returns = returns_pre[2:]"
   ]
  },
  {
   "cell_type": "markdown",
   "id": "ba6c6cbf",
   "metadata": {},
   "source": [
    "**Matrix Seriation:** visa verificar o quão próximas as ações são umas das outras. Nesse sentido, foram escolhidas empresas do mesmo setor para verificar se o algoritmo é capaz de identificar potenciais semelhanças setoriais:\n",
    "- Vivo e TIM: setor de telefonia\n",
    "- Credit Suisse e Itaú: setor bancário\n",
    "\n",
    "Para tanto, serão combinados um dendograma e uma matriz de covariância, como segue abaixo:"
   ]
  },
  {
   "cell_type": "code",
   "execution_count": 47,
   "id": "893b8a9c",
   "metadata": {},
   "outputs": [],
   "source": [
    "def matrix_seriation(returns):\n",
    "    matriz_covarianca = returns.cov()\n",
    "    dendograma = sns.clustermap(matriz_covarianca, method='ward', metric='euclidean')\n",
    "    colunas_seriation = dendograma.dendrogram_col.reordered_ind\n",
    "    colunas_seriation = returns.columns[colunas_seriation]\n",
    "    return matriz_covarianca"
   ]
  },
  {
   "cell_type": "code",
   "execution_count": 48,
   "id": "9f0d6a15",
   "metadata": {
    "scrolled": false
   },
   "outputs": [
    {
     "data": {
      "text/html": [
       "<div>\n",
       "<style scoped>\n",
       "    .dataframe tbody tr th:only-of-type {\n",
       "        vertical-align: middle;\n",
       "    }\n",
       "\n",
       "    .dataframe tbody tr th {\n",
       "        vertical-align: top;\n",
       "    }\n",
       "\n",
       "    .dataframe thead th {\n",
       "        text-align: right;\n",
       "    }\n",
       "</style>\n",
       "<table border=\"1\" class=\"dataframe\">\n",
       "  <thead>\n",
       "    <tr style=\"text-align: right;\">\n",
       "      <th></th>\n",
       "      <th>HGLG11.SA</th>\n",
       "      <th>ITUB4.SA</th>\n",
       "      <th>PETR4.SA</th>\n",
       "      <th>TIMS3.SA</th>\n",
       "      <th>VIVT3.SA</th>\n",
       "    </tr>\n",
       "  </thead>\n",
       "  <tbody>\n",
       "    <tr>\n",
       "      <th>HGLG11.SA</th>\n",
       "      <td>0.000183</td>\n",
       "      <td>0.000058</td>\n",
       "      <td>0.000118</td>\n",
       "      <td>0.000063</td>\n",
       "      <td>0.000028</td>\n",
       "    </tr>\n",
       "    <tr>\n",
       "      <th>ITUB4.SA</th>\n",
       "      <td>0.000058</td>\n",
       "      <td>0.000486</td>\n",
       "      <td>0.000360</td>\n",
       "      <td>0.000191</td>\n",
       "      <td>0.000136</td>\n",
       "    </tr>\n",
       "    <tr>\n",
       "      <th>PETR4.SA</th>\n",
       "      <td>0.000118</td>\n",
       "      <td>0.000360</td>\n",
       "      <td>0.000951</td>\n",
       "      <td>0.000228</td>\n",
       "      <td>0.000162</td>\n",
       "    </tr>\n",
       "    <tr>\n",
       "      <th>TIMS3.SA</th>\n",
       "      <td>0.000063</td>\n",
       "      <td>0.000191</td>\n",
       "      <td>0.000228</td>\n",
       "      <td>0.000419</td>\n",
       "      <td>0.000230</td>\n",
       "    </tr>\n",
       "    <tr>\n",
       "      <th>VIVT3.SA</th>\n",
       "      <td>0.000028</td>\n",
       "      <td>0.000136</td>\n",
       "      <td>0.000162</td>\n",
       "      <td>0.000230</td>\n",
       "      <td>0.000324</td>\n",
       "    </tr>\n",
       "  </tbody>\n",
       "</table>\n",
       "</div>"
      ],
      "text/plain": [
       "           HGLG11.SA  ITUB4.SA  PETR4.SA  TIMS3.SA  VIVT3.SA\n",
       "HGLG11.SA   0.000183  0.000058  0.000118  0.000063  0.000028\n",
       "ITUB4.SA    0.000058  0.000486  0.000360  0.000191  0.000136\n",
       "PETR4.SA    0.000118  0.000360  0.000951  0.000228  0.000162\n",
       "TIMS3.SA    0.000063  0.000191  0.000228  0.000419  0.000230\n",
       "VIVT3.SA    0.000028  0.000136  0.000162  0.000230  0.000324"
      ]
     },
     "execution_count": 48,
     "metadata": {},
     "output_type": "execute_result"
    },
    {
     "data": {
      "image/png": "[encoded data removed]",
      "text/plain": [
       "<Figure size 1000x1000 with 4 Axes>"
      ]
     },
     "metadata": {},
     "output_type": "display_data"
    }
   ],
   "source": [
    "matrix_seriation(returns)"
   ]
  },
  {
   "cell_type": "markdown",
   "id": "3ffaa0b4",
   "metadata": {},
   "source": [
    "**Resultados:** fica evidenciada a capacidade de determinar a proximidade entre as ações, tanto pelo dendograma quanto pela matriz de covariância"
   ]
  }
 ],
 "metadata": {
  "kernelspec": {
   "display_name": "Python 3 (ipykernel)",
   "language": "python",
   "name": "python3"
  },
  "language_info": {
   "codemirror_mode": {
    "name": "ipython",
    "version": 3
   },
   "file_extension": ".py",
   "mimetype": "text/x-python",
   "name": "python",
   "nbconvert_exporter": "python",
   "pygments_lexer": "ipython3",
   "version": "3.9.13"
  }
 },
 "nbformat": 4,
 "nbformat_minor": 5
}
