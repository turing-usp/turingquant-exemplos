{
 "cells": [
  {
   "attachments": {},
   "cell_type": "markdown",
   "metadata": {},
   "source": [
    "# Projeto onboarding\n",
    "\n",
    "## Primeira etapa\n",
    "\n",
    "A primeira etapa deste projeto consiste da implementacao das classes e funcoes da biblioteca turingquant para entender o funcionamento e gerar conteudo que sera publicado posteriormente no Linkedin, site de Quant, e Turing Talks.\n",
    "\n",
    "Fiquem a vontade para escolher qualquer funcao, class ou metodo de qualquer um dos modulos da biblioteca e assim comecarmos a criam exemplos praticos da utilizacao da mesma. Estes exemplos serao apresentados e discutidos nas proximas reunioes da area."
   ]
  },
  {
   "attachments": {},
   "cell_type": "markdown",
   "metadata": {},
   "source": [
    "## 1. Criacao do ambiente virtual\n",
    "\n",
    "Rodar estes comandos no terminal para criar o ambiente virtual:\n",
    "\n",
    "Criacao:\n",
    "python3.9 -m venv venv\n",
    "\n",
    "Ativacao do venv:\n",
    "source venv/bin/activate\n",
    "\n",
    "## 2. Escolher o kernel venv no vscode\n",
    "venv (Python 3.9.13) no meu caso"
   ]
  },
  {
   "cell_type": "code",
   "execution_count": 1,
   "metadata": {},
   "outputs": [],
   "source": [
    "# 3. instalar a biblioteca turingquant e scipy\n",
    "\n",
    "# !pip install turingquant\n",
    "# !pip install scipy"
   ]
  },
  {
   "attachments": {},
   "cell_type": "markdown",
   "metadata": {},
   "source": [
    "## 4. Implementacao"
   ]
  },
  {
   "cell_type": "code",
   "execution_count": 2,
   "metadata": {},
   "outputs": [],
   "source": [
    "from turingquant.optimizers import Markowitz\n",
    "# importamos a biblioteca para importar os dados com a api do yahoo finance\n",
    "import yfinance as yf"
   ]
  },
  {
   "cell_type": "code",
   "execution_count": 3,
   "metadata": {},
   "outputs": [
    {
     "name": "stdout",
     "output_type": "stream",
     "text": [
      "[*********************100%***********************]  3 of 3 completed\n"
     ]
    }
   ],
   "source": [
    "# extraimos os dados de precos de fechamento de ITUB3 e PETR4 da api do yahoo finance\n",
    "df = yf.download([\"ITUB3.SA\", \"PETR4.SA\", \"BBDC4.SA\"], start='2015-01-01')"
   ]
  },
  {
   "cell_type": "code",
   "execution_count": 4,
   "metadata": {},
   "outputs": [
    {
     "data": {
      "text/html": [
       "<div>\n",
       "<style scoped>\n",
       "    .dataframe tbody tr th:only-of-type {\n",
       "        vertical-align: middle;\n",
       "    }\n",
       "\n",
       "    .dataframe tbody tr th {\n",
       "        vertical-align: top;\n",
       "    }\n",
       "\n",
       "    .dataframe thead th {\n",
       "        text-align: right;\n",
       "    }\n",
       "</style>\n",
       "<table border=\"1\" class=\"dataframe\">\n",
       "  <thead>\n",
       "    <tr style=\"text-align: right;\">\n",
       "      <th></th>\n",
       "      <th>BBDC4.SA</th>\n",
       "      <th>ITUB3.SA</th>\n",
       "      <th>PETR4.SA</th>\n",
       "    </tr>\n",
       "    <tr>\n",
       "      <th>Date</th>\n",
       "      <th></th>\n",
       "      <th></th>\n",
       "      <th></th>\n",
       "    </tr>\n",
       "  </thead>\n",
       "  <tbody>\n",
       "    <tr>\n",
       "      <th>2015-01-02</th>\n",
       "      <td>9.002754</td>\n",
       "      <td>11.225015</td>\n",
       "      <td>3.672661</td>\n",
       "    </tr>\n",
       "    <tr>\n",
       "      <th>2015-01-05</th>\n",
       "      <td>9.021318</td>\n",
       "      <td>11.098289</td>\n",
       "      <td>3.358759</td>\n",
       "    </tr>\n",
       "    <tr>\n",
       "      <th>2015-01-06</th>\n",
       "      <td>9.318091</td>\n",
       "      <td>11.206911</td>\n",
       "      <td>3.248892</td>\n",
       "    </tr>\n",
       "    <tr>\n",
       "      <th>2015-01-07</th>\n",
       "      <td>9.688397</td>\n",
       "      <td>11.460382</td>\n",
       "      <td>3.401920</td>\n",
       "    </tr>\n",
       "    <tr>\n",
       "      <th>2015-01-08</th>\n",
       "      <td>9.738297</td>\n",
       "      <td>11.623327</td>\n",
       "      <td>3.621651</td>\n",
       "    </tr>\n",
       "  </tbody>\n",
       "</table>\n",
       "</div>"
      ],
      "text/plain": [
       "            BBDC4.SA   ITUB3.SA  PETR4.SA\n",
       "Date                                     \n",
       "2015-01-02  9.002754  11.225015  3.672661\n",
       "2015-01-05  9.021318  11.098289  3.358759\n",
       "2015-01-06  9.318091  11.206911  3.248892\n",
       "2015-01-07  9.688397  11.460382  3.401920\n",
       "2015-01-08  9.738297  11.623327  3.621651"
      ]
     },
     "execution_count": 4,
     "metadata": {},
     "output_type": "execute_result"
    }
   ],
   "source": [
    "# get a dataframe with the adjusted close prices of both stocks\n",
    "prices = df['Adj Close']\n",
    "prices.head()"
   ]
  },
  {
   "cell_type": "code",
   "execution_count": 5,
   "metadata": {},
   "outputs": [],
   "source": [
    "# now we use the the prices dataframe to instantiate the Markowitz class\n",
    "mark = Markowitz(prices)"
   ]
  },
  {
   "cell_type": "code",
   "execution_count": 6,
   "metadata": {},
   "outputs": [
    {
     "data": {
      "text/plain": [
       "[0.223405765251241,\n",
       " 0.20652284688068154,\n",
       " 0.24546948291679188,\n",
       " 0.1754229146378147,\n",
       " 0.15469174727852417]"
      ]
     },
     "execution_count": 6,
     "metadata": {},
     "output_type": "execute_result"
    }
   ],
   "source": [
    "# now we can use any of the methods of the Markowitz class\n",
    "mark._generate_wallets()['returns'][:5]"
   ]
  },
  {
   "cell_type": "code",
   "execution_count": 7,
   "metadata": {},
   "outputs": [
    {
     "data": {
      "text/plain": [
       "dict_keys(['weights', 'returns', 'vol', 'sharpe'])"
      ]
     },
     "execution_count": 7,
     "metadata": {},
     "output_type": "execute_result"
    }
   ],
   "source": [
    "mark._generate_wallets().keys()"
   ]
  },
  {
   "attachments": {},
   "cell_type": "markdown",
   "metadata": {},
   "source": [
    "Podemos ver que o metodo retorna um dicionario com 4 key - values.\n",
    "\n",
    "## Possíveis perguntas a serem respondidas:\n",
    "\n",
    "### - Oq representa cada key - value?\n",
    "\n",
    "### - Para que servem a classe e seus metodos?\n",
    "\n",
    "### - Como podemos montar uma estrategia de investimentos utilizando esta classe e seus metodos?\n"
   ]
  },
  {
   "cell_type": "code",
   "execution_count": null,
   "metadata": {},
   "outputs": [],
   "source": []
  }
 ],
 "metadata": {
  "kernelspec": {
   "display_name": "venv",
   "language": "python",
   "name": "python3"
  },
  "language_info": {
   "codemirror_mode": {
    "name": "ipython",
    "version": 3
   },
   "file_extension": ".py",
   "mimetype": "text/x-python",
   "name": "python",
   "nbconvert_exporter": "python",
   "pygments_lexer": "ipython3",
   "version": "3.9.13"
  },
  "orig_nbformat": 4,
  "vscode": {
   "interpreter": {
    "hash": "dfbc4f5418e24d4805b9bb53648b58471df5cb96085ca3c5c113ea265d31fd3a"
   }
  }
 },
 "nbformat": 4,
 "nbformat_minor": 2
}
