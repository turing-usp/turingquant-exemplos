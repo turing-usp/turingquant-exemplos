{
 "cells": [
  {
   "cell_type": "code",
   "execution_count": 14,
   "metadata": {},
   "outputs": [],
   "source": [
    "# !pip install turingquant\n",
    "# !pip install scipy\n",
    "# !pip install seaborn"
   ]
  },
  {
   "cell_type": "code",
   "execution_count": 2,
   "metadata": {},
   "outputs": [],
   "source": [
    "from turingquant.metrics import returns\n",
    "from turingquant.metrics import cumulative_returns\n",
    "from turingquant.metrics import cagr\n",
    "from turingquant.metrics import mar_ratio\n",
    "from turingquant.metrics import sharpe_ratio\n",
    "from turingquant.metrics import drawdown\n",
    "from turingquant.plot_metrics import plot_drawdown\n",
    "import yfinance as yf\n",
    "import plotly.express as px\n",
    "import seaborn as sns\n",
    "import pandas as pd\n",
    "import matplotlib.pyplot as plt"
   ]
  },
  {
   "attachments": {},
   "cell_type": "markdown",
   "metadata": {},
   "source": [
    "# Lista de Funções para Estudar\n",
    "\n",
    "* [returns]()\n",
    "* cumulative_returns \n",
    "* [cagr](https://www.suno.com.br/artigos/cagr/) \n",
    "* [mar_ratio](https://www.investopedia.com/terms/m/mar-ratio.asp)\n",
    "\n",
    "Para cada uma das funções:\n",
    "1. Estudar conceitos por trás\n",
    "2. Testar função com dados da Yahoo Finance\n",
    "3. Explicar resultados e fórmulas utilizadas"
   ]
  },
  {
   "cell_type": "code",
   "execution_count": 33,
   "metadata": {},
   "outputs": [
    {
     "name": "stdout",
     "output_type": "stream",
     "text": [
      "[*********************100%***********************]  2 of 2 completed\n",
      "[*********************100%***********************]  1 of 1 completed\n"
     ]
    }
   ],
   "source": [
    "df = yf.download([\"ITUB3.SA\",\"PETR3.SA\"], start='2015-01-01', end='2023-01-01')\n",
    "df2 = yf.download([\"ITUB3.SA\"], start='2015-01-01', end='2023-01-01')"
   ]
  },
  {
   "cell_type": "code",
   "execution_count": 34,
   "metadata": {},
   "outputs": [
    {
     "data": {
      "text/html": [
       "<div>\n",
       "<style scoped>\n",
       "    .dataframe tbody tr th:only-of-type {\n",
       "        vertical-align: middle;\n",
       "    }\n",
       "\n",
       "    .dataframe tbody tr th {\n",
       "        vertical-align: top;\n",
       "    }\n",
       "\n",
       "    .dataframe thead tr th {\n",
       "        text-align: left;\n",
       "    }\n",
       "\n",
       "    .dataframe thead tr:last-of-type th {\n",
       "        text-align: right;\n",
       "    }\n",
       "</style>\n",
       "<table border=\"1\" class=\"dataframe\">\n",
       "  <thead>\n",
       "    <tr>\n",
       "      <th></th>\n",
       "      <th colspan=\"2\" halign=\"left\">Adj Close</th>\n",
       "      <th colspan=\"2\" halign=\"left\">Close</th>\n",
       "      <th colspan=\"2\" halign=\"left\">High</th>\n",
       "      <th colspan=\"2\" halign=\"left\">Low</th>\n",
       "      <th colspan=\"2\" halign=\"left\">Open</th>\n",
       "      <th colspan=\"2\" halign=\"left\">Volume</th>\n",
       "    </tr>\n",
       "    <tr>\n",
       "      <th></th>\n",
       "      <th>ITUB3.SA</th>\n",
       "      <th>PETR3.SA</th>\n",
       "      <th>ITUB3.SA</th>\n",
       "      <th>PETR3.SA</th>\n",
       "      <th>ITUB3.SA</th>\n",
       "      <th>PETR3.SA</th>\n",
       "      <th>ITUB3.SA</th>\n",
       "      <th>PETR3.SA</th>\n",
       "      <th>ITUB3.SA</th>\n",
       "      <th>PETR3.SA</th>\n",
       "      <th>ITUB3.SA</th>\n",
       "      <th>PETR3.SA</th>\n",
       "    </tr>\n",
       "    <tr>\n",
       "      <th>Date</th>\n",
       "      <th></th>\n",
       "      <th></th>\n",
       "      <th></th>\n",
       "      <th></th>\n",
       "      <th></th>\n",
       "      <th></th>\n",
       "      <th></th>\n",
       "      <th></th>\n",
       "      <th></th>\n",
       "      <th></th>\n",
       "      <th></th>\n",
       "      <th></th>\n",
       "    </tr>\n",
       "  </thead>\n",
       "  <tbody>\n",
       "    <tr>\n",
       "      <th>2015-01-02</th>\n",
       "      <td>11.216163</td>\n",
       "      <td>3.803154</td>\n",
       "      <td>17.079889</td>\n",
       "      <td>9.00</td>\n",
       "      <td>17.426996</td>\n",
       "      <td>9.67</td>\n",
       "      <td>16.776859</td>\n",
       "      <td>9.00</td>\n",
       "      <td>17.421488</td>\n",
       "      <td>9.58</td>\n",
       "      <td>220704</td>\n",
       "      <td>12710900</td>\n",
       "    </tr>\n",
       "    <tr>\n",
       "      <th>2015-01-05</th>\n",
       "      <td>11.089526</td>\n",
       "      <td>3.494677</td>\n",
       "      <td>16.887053</td>\n",
       "      <td>8.27</td>\n",
       "      <td>17.129477</td>\n",
       "      <td>8.96</td>\n",
       "      <td>16.468319</td>\n",
       "      <td>8.25</td>\n",
       "      <td>16.782370</td>\n",
       "      <td>8.64</td>\n",
       "      <td>396214</td>\n",
       "      <td>25730600</td>\n",
       "    </tr>\n",
       "    <tr>\n",
       "      <th>2015-01-06</th>\n",
       "      <td>11.198072</td>\n",
       "      <td>3.405936</td>\n",
       "      <td>17.052341</td>\n",
       "      <td>8.06</td>\n",
       "      <td>17.267218</td>\n",
       "      <td>8.53</td>\n",
       "      <td>16.870523</td>\n",
       "      <td>7.78</td>\n",
       "      <td>16.887053</td>\n",
       "      <td>8.28</td>\n",
       "      <td>558112</td>\n",
       "      <td>29754600</td>\n",
       "    </tr>\n",
       "    <tr>\n",
       "      <th>2015-01-07</th>\n",
       "      <td>11.451335</td>\n",
       "      <td>3.570739</td>\n",
       "      <td>17.438017</td>\n",
       "      <td>8.45</td>\n",
       "      <td>17.900826</td>\n",
       "      <td>8.51</td>\n",
       "      <td>17.355371</td>\n",
       "      <td>8.08</td>\n",
       "      <td>17.382919</td>\n",
       "      <td>8.30</td>\n",
       "      <td>696234</td>\n",
       "      <td>34128300</td>\n",
       "    </tr>\n",
       "    <tr>\n",
       "      <th>2015-01-08</th>\n",
       "      <td>11.614151</td>\n",
       "      <td>3.811606</td>\n",
       "      <td>17.685949</td>\n",
       "      <td>9.02</td>\n",
       "      <td>17.895315</td>\n",
       "      <td>9.26</td>\n",
       "      <td>17.316805</td>\n",
       "      <td>8.52</td>\n",
       "      <td>17.592285</td>\n",
       "      <td>8.60</td>\n",
       "      <td>267894</td>\n",
       "      <td>37487300</td>\n",
       "    </tr>\n",
       "  </tbody>\n",
       "</table>\n",
       "</div>"
      ],
      "text/plain": [
       "            Adj Close                Close                High            \n",
       "             ITUB3.SA  PETR3.SA   ITUB3.SA PETR3.SA   ITUB3.SA PETR3.SA   \n",
       "Date                                                                      \n",
       "2015-01-02  11.216163  3.803154  17.079889     9.00  17.426996     9.67  \\\n",
       "2015-01-05  11.089526  3.494677  16.887053     8.27  17.129477     8.96   \n",
       "2015-01-06  11.198072  3.405936  17.052341     8.06  17.267218     8.53   \n",
       "2015-01-07  11.451335  3.570739  17.438017     8.45  17.900826     8.51   \n",
       "2015-01-08  11.614151  3.811606  17.685949     9.02  17.895315     9.26   \n",
       "\n",
       "                  Low                Open            Volume            \n",
       "             ITUB3.SA PETR3.SA   ITUB3.SA PETR3.SA ITUB3.SA  PETR3.SA  \n",
       "Date                                                                   \n",
       "2015-01-02  16.776859     9.00  17.421488     9.58   220704  12710900  \n",
       "2015-01-05  16.468319     8.25  16.782370     8.64   396214  25730600  \n",
       "2015-01-06  16.870523     7.78  16.887053     8.28   558112  29754600  \n",
       "2015-01-07  17.355371     8.08  17.382919     8.30   696234  34128300  \n",
       "2015-01-08  17.316805     8.52  17.592285     8.60   267894  37487300  "
      ]
     },
     "execution_count": 34,
     "metadata": {},
     "output_type": "execute_result"
    }
   ],
   "source": [
    "df.head()"
   ]
  },
  {
   "attachments": {},
   "cell_type": "markdown",
   "metadata": {},
   "source": [
    "## Função _returns_\n",
    "\n",
    "Calcula a variação percentual de um ativo, dia a dia. Abaixo, exemplos de sua utilização."
   ]
  },
  {
   "cell_type": "code",
   "execution_count": 35,
   "metadata": {},
   "outputs": [
    {
     "data": {
      "image/png": "[encoded data removed]",
      "text/plain": [
       "<Figure size 640x480 with 1 Axes>"
      ]
     },
     "metadata": {},
     "output_type": "display_data"
    }
   ],
   "source": [
    "# get just the adjusted close price of days 01/01/2020 and 01/01/2022\n",
    "data = returns(df['Adj Close'].loc['2015-01-01':'2023-01-01'])\n",
    "sns.histplot(data);"
   ]
  },
  {
   "attachments": {},
   "cell_type": "markdown",
   "metadata": {},
   "source": [
    "- seria mais interessante automatizar"
   ]
  },
  {
   "attachments": {},
   "cell_type": "markdown",
   "metadata": {},
   "source": [
    "### Comparar este histograma com periodos mais curtos ou periodos onde a acao tenha ido melhor"
   ]
  },
  {
   "cell_type": "code",
   "execution_count": 36,
   "metadata": {},
   "outputs": [
    {
     "data": {
      "image/png": "[encoded data removed]",
      "text/plain": [
       "<Figure size 640x480 with 1 Axes>"
      ]
     },
     "metadata": {},
     "output_type": "display_data"
    }
   ],
   "source": [
    "# group returns by month: histograma de retornos mensais do ativo\n",
    "monthly_data2 = returns(df['Adj Close'].loc['2015-01-01':'2023-01-01']).groupby(pd.Grouper(freq='M')).sum()\n",
    "sns.histplot(monthly_data2);"
   ]
  },
  {
   "attachments": {},
   "cell_type": "markdown",
   "metadata": {},
   "source": [
    "## Função _cumulative\\_returns_\n",
    "\n",
    "**Representa o retorno cumulativo de determinado ativo (ou portfolio) em um dado período.** <br><br>\n",
    "\n",
    "O retorno cumulativo é bastante útil para avaliar o desempenho geral de um investimento no horizonte de tempo determinado, sendo possível observar também as flutuações na cotação desse ativo ou portfolio<br><br>\n",
    "\n",
    "Sua fórmula é dada por: \n",
    "$Ret_{acum} = (1 + Ret_{t_{1}}) * (1 + Ret_{t_{2}}) * ... * (1 + Ret_{t_{n}})$\n",
    "\n",
    "\n",
    "\n"
   ]
  },
  {
   "cell_type": "code",
   "execution_count": 37,
   "metadata": {},
   "outputs": [
    {
     "data": {
      "image/png": "[encoded data removed]",
      "text/plain": [
       "<Figure size 640x480 with 1 Axes>"
      ]
     },
     "metadata": {},
     "output_type": "display_data"
    }
   ],
   "source": [
    "# retorno logaritmico\n",
    "data_log = cumulative_returns(returns(df['Adj Close'].loc['2020-01-01':'2022-01-01']), 'log')   \n",
    "sns.histplot(data_log, \n",
    "             color = \"darkorange\",\n",
    "             kde = True);"
   ]
  },
  {
   "cell_type": "code",
   "execution_count": 38,
   "metadata": {},
   "outputs": [
    {
     "data": {
      "text/plain": [
       "Date\n",
       "2020-01-02         NaN\n",
       "2020-01-03   -0.008282\n",
       "2020-01-06   -0.018489\n",
       "2020-01-07   -0.037864\n",
       "2020-01-08   -0.048062\n",
       "                ...   \n",
       "2021-12-23   -0.311456\n",
       "2021-12-27   -0.302115\n",
       "2021-12-28   -0.305714\n",
       "2021-12-29   -0.308810\n",
       "2021-12-30   -0.320715\n",
       "Name: ITUB3.SA, Length: 495, dtype: float64"
      ]
     },
     "execution_count": 38,
     "metadata": {},
     "output_type": "execute_result"
    }
   ],
   "source": [
    "data_log['ITUB3.SA']"
   ]
  },
  {
   "cell_type": "code",
   "execution_count": 39,
   "metadata": {},
   "outputs": [
    {
     "ename": "TypeError",
     "evalue": "lineplot() takes from 0 to 1 positional arguments but 2 were given",
     "output_type": "error",
     "traceback": [
      "\u001b[0;31m---------------------------------------------------------------------------\u001b[0m",
      "\u001b[0;31mTypeError\u001b[0m                                 Traceback (most recent call last)",
      "Cell \u001b[0;32mIn[39], line 2\u001b[0m\n\u001b[1;32m      1\u001b[0m \u001b[39m# line plot fica mais simples de visualizar\u001b[39;00m\n\u001b[0;32m----> 2\u001b[0m sns\u001b[39m.\u001b[39;49mlineplot(data_log\u001b[39m.\u001b[39;49mindex, data_log[\u001b[39m'\u001b[39;49m\u001b[39mITUB3.SA\u001b[39;49m\u001b[39m'\u001b[39;49m], color \u001b[39m=\u001b[39;49m \u001b[39m\"\u001b[39;49m\u001b[39mdarkorange\u001b[39;49m\u001b[39m\"\u001b[39;49m);\n\u001b[1;32m      3\u001b[0m sns\u001b[39m.\u001b[39mlineplot(data_log\u001b[39m.\u001b[39mindex, data_log[\u001b[39m'\u001b[39m\u001b[39mPETR3.SA\u001b[39m\u001b[39m'\u001b[39m], color \u001b[39m=\u001b[39m \u001b[39m\"\u001b[39m\u001b[39mblue\u001b[39m\u001b[39m\"\u001b[39m);\n\u001b[1;32m      4\u001b[0m plt\u001b[39m.\u001b[39mlegend(labels\u001b[39m=\u001b[39m[\u001b[39m'\u001b[39m\u001b[39mITUB3.SA\u001b[39m\u001b[39m'\u001b[39m, \u001b[39m'\u001b[39m\u001b[39mPETR3.SA\u001b[39m\u001b[39m'\u001b[39m]);\n",
      "\u001b[0;31mTypeError\u001b[0m: lineplot() takes from 0 to 1 positional arguments but 2 were given"
     ]
    }
   ],
   "source": [
    "# line plot fica mais simples de visualizar\n",
    "sns.lineplot(data_log.index, data_log['ITUB3.SA'], color = \"darkorange\");\n",
    "sns.lineplot(data_log.index, data_log['PETR3.SA'], color = \"blue\");\n",
    "plt.legend(labels=['ITUB3.SA', 'PETR3.SA']);\n",
    "plt.gcf().set_size_inches(15, 8);"
   ]
  },
  {
   "attachments": {},
   "cell_type": "markdown",
   "metadata": {},
   "source": [
    "e o retorno somado, a evoluca"
   ]
  },
  {
   "attachments": {},
   "cell_type": "markdown",
   "metadata": {},
   "source": [
    "tem dois tipos:\n",
    "- na pratica talvez seja mais usado o simples\n",
    "- o log pode ajudar em alguns"
   ]
  },
  {
   "cell_type": "code",
   "execution_count": null,
   "metadata": {},
   "outputs": [
    {
     "data": {
      "image/png": "[encoded data removed]",
      "text/plain": [
       "<Figure size 640x480 with 1 Axes>"
      ]
     },
     "metadata": {},
     "output_type": "display_data"
    }
   ],
   "source": [
    "# retorno simples \n",
    "data_simp = cumulative_returns(returns(df['Adj Close'].loc['2020-01-01':'2022-01-01']), 'simp')   \n",
    "sns.histplot(data_simp, \n",
    "             color = \"darkblue\",\n",
    "             kde = True);"
   ]
  },
  {
   "attachments": {},
   "cell_type": "markdown",
   "metadata": {},
   "source": [
    "log retorno pode ser interessante, e a soma dos retornos: quando tem uma queda para voltar para o mesmo patamar e o mesmo valor"
   ]
  },
  {
   "attachments": {},
   "cell_type": "markdown",
   "metadata": {},
   "source": [
    "## Função _cagr_\n",
    "\n",
    "**CAGR é a sigla para Compound Annual Growth Rate, ou seja, Taxa de Crescimento Anual Composta** <br><br>\n",
    "\n",
    "Geralmente apresentada em termos percentuais, nada mais é do que a taxa de crescimento anual que, se aplicada de forma constante ao longo do período considerado, resultaria no crescimento total observado na cotação de um ativo (ou portfolio). É bastante útil para comparar a performance de investimentos em diferentes horizontes de tempo, pois utiliza a mesma base de tempo (anual). Cabe ressaltar que o CAGR não mostra explicitamente a variação existente na cotação (o quanto flutuou o preço do ativo). Um CAGR de 10%, por exemplo, pode \"esconder\" momentos de retornos negativos e momentos de retorno muito positivos"
   ]
  },
  {
   "cell_type": "code",
   "execution_count": 1,
   "metadata": {},
   "outputs": [
    {
     "ename": "NameError",
     "evalue": "name 'cagr' is not defined",
     "output_type": "error",
     "traceback": [
      "\u001b[0;31m---------------------------------------------------------------------------\u001b[0m",
      "\u001b[0;31mNameError\u001b[0m                                 Traceback (most recent call last)",
      "Cell \u001b[0;32mIn[1], line 3\u001b[0m\n\u001b[1;32m      1\u001b[0m \u001b[39m# CAGR anual - time_scale de 252 dias\u001b[39;00m\n\u001b[1;32m      2\u001b[0m \u001b[39m# 2020 a 2022\u001b[39;00m\n\u001b[0;32m----> 3\u001b[0m cagr_anual_20_22 \u001b[39m=\u001b[39m cagr(returns(df2[\u001b[39m'\u001b[39m\u001b[39mAdj Close\u001b[39m\u001b[39m'\u001b[39m]\u001b[39m.\u001b[39mloc[\u001b[39m'\u001b[39m\u001b[39m2020-01-01\u001b[39m\u001b[39m'\u001b[39m:\u001b[39m'\u001b[39m\u001b[39m2022-01-01\u001b[39m\u001b[39m'\u001b[39m]), time_scale \u001b[39m=\u001b[39m \u001b[39m252\u001b[39m)\n\u001b[1;32m      4\u001b[0m \u001b[39mprint\u001b[39m(cagr_anual_20_22)\n",
      "\u001b[0;31mNameError\u001b[0m: name 'cagr' is not defined"
     ]
    }
   ],
   "source": [
    "# CAGR anual - time_scale de 252 dias\n",
    "# 2020 a 2022\n",
    "cagr_anual_20_22 = cagr(returns(df2['Adj Close'].loc['2020-01-01':'2022-01-01']), time_scale = 252)\n",
    "print(cagr_anual_20_22)"
   ]
  },
  {
   "cell_type": "code",
   "execution_count": null,
   "metadata": {},
   "outputs": [
    {
     "name": "stdout",
     "output_type": "stream",
     "text": [
      "0.19421380625883722\n"
     ]
    }
   ],
   "source": [
    "# CAGR anual - time_scale de 252 dias\n",
    "# 2018 a 2020\n",
    "cagr_anual_18_20 = cagr(returns(df2['Adj Close'].loc['2018-01-01':'2020-01-01']), time_scale = 252)\n",
    "print(cagr_anual_18_20)"
   ]
  },
  {
   "attachments": {},
   "cell_type": "markdown",
   "metadata": {},
   "source": [
    "Este valores obtidos mostram que o ativo \"ITUB3.SA\" mostrou um retorno anualizado médio de -21% no período 2018 - 2020. Ou seja, se um investidor tivesse comprado o ativo no primeiro dia de mercado do ano 2018 e tivesse vendido o ativo no último dia do ano 2020, o retorno anualizado médio teria sido um prejuiço de -21%.\n",
    "\n",
    "No período de 2018 - 2020, podemos ver que o desempenho do ativo foi bem melhor, pois o retorno anualizado médio (cagr) foi de 19%.\n",
    "\n",
    "Em resumo:\n",
    "- CAGR é porcentagem media que o investimento rendeu por ano\n",
    "- O CAGR é uma métrica importante para fazer a avaliação de uma estratégia de investimentos: Backtesting"
   ]
  },
  {
   "attachments": {},
   "cell_type": "markdown",
   "metadata": {},
   "source": [
    "## Função _mar\\_ratio_\n",
    "\n",
    "**MAR Ratio é a sigla para Minimum Acceptable Return Ratio, ou seja, Taxa de Retorno Mínimo Aceitável** <br><br>\n",
    "\n",
    "O seu cálculo leva em consideração duas coisas: 1) CAGR (explicado acima) e 2) Drawdown <br>\n",
    "O Drawdown representa o quanto a cotação de um ativo (ou portfolio) caiu do o seu pico anteriormente alcançado até seu vale subsequente. O Máximo Drawdown representa a maior queda (em termos percentuais) de um pico até seu vale subsequente, mostrando o impacto negativo que um investidor teria tido se tivesse comprado o ativo no pior pico possível e vendido no ponto mais baixo do Drawdown. <br><br>\n",
    "\n",
    "Finalmente, o MAR ratio pode ser expresso pela razão entre o CAGR e o Máximo Drawdown observados no período. É, portanto, uma medida de avaliação da relação risco-retorno, funcionando como uma métrica para ajustar o retorno de um investimento ao risco a que ele está exposto (tomando como base seu desempenho histórico)."
   ]
  },
  {
   "cell_type": "code",
   "execution_count": null,
   "metadata": {},
   "outputs": [
    {
     "name": "stdout",
     "output_type": "stream",
     "text": [
      "-0.004302655272216676\n"
     ]
    }
   ],
   "source": [
    "# MAR Ratio para 2 anos (2020 - 2022)\n",
    "# time_window = 2; time_scale = 252\n",
    "\n",
    "marratio_20_22 = mar_ratio(returns(df2['Adj Close'].loc['2020-01-01':'2022-01-01']), time_window = 2, time_scale = 252)\n",
    "print(marratio_20_22)"
   ]
  },
  {
   "cell_type": "code",
   "execution_count": null,
   "metadata": {},
   "outputs": [
    {
     "name": "stdout",
     "output_type": "stream",
     "text": [
      "-0.0010287830388190514\n"
     ]
    }
   ],
   "source": [
    "# MAR Ratio para 1 ano (2020 - 2021)\n",
    "# time_window = 1; time_scale = 252\n",
    "\n",
    "marratio_20_21 = mar_ratio(returns(df2['Adj Close'].loc['2020-01-01':'2021-01-01']), time_window = 1, time_scale = 252)\n",
    "print(marratio_20_21)"
   ]
  },
  {
   "cell_type": "code",
   "execution_count": null,
   "metadata": {},
   "outputs": [
    {
     "name": "stdout",
     "output_type": "stream",
     "text": [
      "-0.008015418211259895\n"
     ]
    }
   ],
   "source": [
    "# MAR Ratio para 1 ano (2021 - 2022)\n",
    "# time_window = 1; time_scale = 252\n",
    "\n",
    "marratio_21_22 = mar_ratio(returns(df2['Adj Close'].loc['2021-01-01':'2022-01-01']), time_window = 1, time_scale = 252)\n",
    "print(marratio_21_22)"
   ]
  },
  {
   "attachments": {},
   "cell_type": "markdown",
   "metadata": {},
   "source": [
    "## Função _sharpe\\_ratio_\n",
    "\n",
    "O **Sharpe Ratio** é uma métrica utilizada para estimar retornos ajustados ao risco de um ativo. A função utiliza como base a média histórica e o desvio padrão dos retornos em questão, comparando-os com um retorno _risk free_. Nesse caso, tomamos a **Ibovespa** como parâmetro de comparação sem riscos, ilustrando um investimento conservador. "
   ]
  },
  {
   "cell_type": "code",
   "execution_count": null,
   "metadata": {},
   "outputs": [
    {
     "name": "stdout",
     "output_type": "stream",
     "text": [
      "-0.09200314560232274\n",
      "-0.8037771352580643\n"
     ]
    }
   ],
   "source": [
    "print(sharpe_ratio(returns(df2['Adj Close'].loc['2020-01-01':'2021-01-01']), risk_free=0, time_scale=252)) # 2020 a 2021 \n",
    "print(sharpe_ratio(returns(df2['Adj Close'].loc['2021-01-01':'2022-01-01']), risk_free=0, time_scale=252)) # 2021 a 2022"
   ]
  },
  {
   "attachments": {},
   "cell_type": "markdown",
   "metadata": {},
   "source": [
    "Como os valores de **Sharpe Ratio** estão negativos, podemos inferir que o desempenho do retorno _risk free_ foi melhor que o do ativo que estamos analisando. Apesar de ambos os valores serem menores que zero, percebe-se que a performace do ativo entre 2020 e 2021 gerou um valor de _sharpe ratio_ maior que a de 2021 a 2022, evidenciando que o investimento tornou-se menos vantajoso dado seu retorno e seu risco balanceados. (?)"
   ]
  },
  {
   "attachments": {},
   "cell_type": "markdown",
   "metadata": {},
   "source": [
    "### TODO: O QUE REPRESENTAM ESTES VALORES OBTIDOS????"
   ]
  },
  {
   "attachments": {},
   "cell_type": "markdown",
   "metadata": {},
   "source": [
    "- o maximo de retorno q estamos tendo considerando o risco"
   ]
  },
  {
   "attachments": {},
   "cell_type": "markdown",
   "metadata": {},
   "source": [
    "mar ratio ja usa o cagr:\n",
    "\n",
    "- comparar o mar ratio () de 2 acoes e do drawdown e do preco do ativo: automatizar !!!!\n",
    "\n",
    "- acrescentar garman class\n",
    "\n",
    "- graficos garman class, preco e drawdown\n",
    "\n",
    "- input: janela de tempo, codigos dos ativos"
   ]
  },
  {
   "attachments": {},
   "cell_type": "markdown",
   "metadata": {},
   "source": [
    "# Função Drawdown\n",
    "O **DrawDown** é uma métrica que expressa a taxa de oscilação entre o preço máximo e mínimo de uma ação em uma determinada janela de tempo. Para sua implementação:\n",
    "\n",
    "1. Retornos acumulados ao longo do tempo\n",
    "2. Para cada instante de tempo, fazer a proporção do maior retorno até então com o retorno acumulado\n"
   ]
  },
  {
   "attachments": {},
   "cell_type": "markdown",
   "metadata": {},
   "source": [
    "Estudando a implementação dessa função da biblioteca _turingquant_, é exatamente isso que é feito:\n",
    "\n",
    "```python\n",
    "# Snippet extraído da biblioteca turingquant \n",
    "\n",
    "def drawdown(returns):\n",
    "    \"\"\"\n",
    "    Calcula o drawdown percentual para uma série de retornos.\n",
    "\n",
    "    Args:\n",
    "        returns (pd.Series): série de retornos para a qual será calculado o drawdown.\n",
    "    \n",
    "    Returns:\n",
    "        pd.Series: uma série com os valores percentuais do Drawdown.\n",
    "    \"\"\"\n",
    "\n",
    "    cum_returns = (1 + returns).cumprod() # retorno acumulado ao longo do tempo\n",
    "    peeks = cum_returns.cummax() # para cada instante de tempo, calcula o retorno máximo até então\n",
    "    drawdowns = pd.Series((cum_returns/peeks - 1)*100, # proporção entre o retorno acumulado e o máximo (em termos percentuais)\n",
    "                          name='Drawdown')\n",
    "    return drawdowns\n",
    "\n",
    "```"
   ]
  },
  {
   "cell_type": "code",
   "execution_count": 58,
   "metadata": {},
   "outputs": [
    {
     "data": {
      "text/plain": [
       "Date\n",
       "2020-01-02          NaN\n",
       "2020-01-03     0.000000\n",
       "2020-01-06    -1.020716\n",
       "2020-01-07    -2.938472\n",
       "2020-01-08    -3.928237\n",
       "                ...    \n",
       "2020-12-22   -12.316746\n",
       "2020-12-23   -10.981480\n",
       "2020-12-28    -9.614376\n",
       "2020-12-29    -9.964115\n",
       "2020-12-30   -11.203984\n",
       "Name: Drawdown, Length: 248, dtype: float64"
      ]
     },
     "execution_count": 58,
     "metadata": {},
     "output_type": "execute_result"
    }
   ],
   "source": [
    "\n",
    "ret = returns(df2['Adj Close'].loc['2020-01-01':'2021-01-01'])\n",
    "# Exemplo de utilização\n",
    "ddowns= drawdown(ret)\n",
    "ddowns"
   ]
  },
  {
   "attachments": {},
   "cell_type": "markdown",
   "metadata": {},
   "source": [
    "A biblioteca também define uma função para plotar os drawdowns. Ela foi adaptada e executada a seguir:"
   ]
  },
  {
   "cell_type": "code",
   "execution_count": 62,
   "metadata": {},
   "outputs": [
    {
     "ename": "ValueError",
     "evalue": "Mime type rendering requires nbformat>=4.2.0 but it is not installed",
     "output_type": "error",
     "traceback": [
      "\u001b[0;31m---------------------------------------------------------------------------\u001b[0m",
      "\u001b[0;31mValueError\u001b[0m                                Traceback (most recent call last)",
      "File \u001b[0;32m~/repos/turing/turingquant-exemplos/env/lib/python3.10/site-packages/IPython/core/formatters.py:922\u001b[0m, in \u001b[0;36mIPythonDisplayFormatter.__call__\u001b[0;34m(self, obj)\u001b[0m\n\u001b[1;32m    920\u001b[0m method \u001b[39m=\u001b[39m get_real_method(obj, \u001b[39mself\u001b[39m\u001b[39m.\u001b[39mprint_method)\n\u001b[1;32m    921\u001b[0m \u001b[39mif\u001b[39;00m method \u001b[39mis\u001b[39;00m \u001b[39mnot\u001b[39;00m \u001b[39mNone\u001b[39;00m:\n\u001b[0;32m--> 922\u001b[0m     method()\n\u001b[1;32m    923\u001b[0m     \u001b[39mreturn\u001b[39;00m \u001b[39mTrue\u001b[39;00m\n",
      "File \u001b[0;32m~/repos/turing/turingquant-exemplos/env/lib/python3.10/site-packages/plotly/basedatatypes.py:834\u001b[0m, in \u001b[0;36mBaseFigure._ipython_display_\u001b[0;34m(self)\u001b[0m\n\u001b[1;32m    831\u001b[0m \u001b[39mimport\u001b[39;00m \u001b[39mplotly\u001b[39;00m\u001b[39m.\u001b[39;00m\u001b[39mio\u001b[39;00m \u001b[39mas\u001b[39;00m \u001b[39mpio\u001b[39;00m\n\u001b[1;32m    833\u001b[0m \u001b[39mif\u001b[39;00m pio\u001b[39m.\u001b[39mrenderers\u001b[39m.\u001b[39mrender_on_display \u001b[39mand\u001b[39;00m pio\u001b[39m.\u001b[39mrenderers\u001b[39m.\u001b[39mdefault:\n\u001b[0;32m--> 834\u001b[0m     pio\u001b[39m.\u001b[39;49mshow(\u001b[39mself\u001b[39;49m)\n\u001b[1;32m    835\u001b[0m \u001b[39melse\u001b[39;00m:\n\u001b[1;32m    836\u001b[0m     \u001b[39mprint\u001b[39m(\u001b[39mrepr\u001b[39m(\u001b[39mself\u001b[39m))\n",
      "File \u001b[0;32m~/repos/turing/turingquant-exemplos/env/lib/python3.10/site-packages/plotly/io/_renderers.py:396\u001b[0m, in \u001b[0;36mshow\u001b[0;34m(fig, renderer, validate, **kwargs)\u001b[0m\n\u001b[1;32m    391\u001b[0m         \u001b[39mraise\u001b[39;00m \u001b[39mValueError\u001b[39;00m(\n\u001b[1;32m    392\u001b[0m             \u001b[39m\"\u001b[39m\u001b[39mMime type rendering requires ipython but it is not installed\u001b[39m\u001b[39m\"\u001b[39m\n\u001b[1;32m    393\u001b[0m         )\n\u001b[1;32m    395\u001b[0m     \u001b[39mif\u001b[39;00m \u001b[39mnot\u001b[39;00m nbformat \u001b[39mor\u001b[39;00m Version(nbformat\u001b[39m.\u001b[39m__version__) \u001b[39m<\u001b[39m Version(\u001b[39m\"\u001b[39m\u001b[39m4.2.0\u001b[39m\u001b[39m\"\u001b[39m):\n\u001b[0;32m--> 396\u001b[0m         \u001b[39mraise\u001b[39;00m \u001b[39mValueError\u001b[39;00m(\n\u001b[1;32m    397\u001b[0m             \u001b[39m\"\u001b[39m\u001b[39mMime type rendering requires nbformat>=4.2.0 but it is not installed\u001b[39m\u001b[39m\"\u001b[39m\n\u001b[1;32m    398\u001b[0m         )\n\u001b[1;32m    400\u001b[0m     ipython_display\u001b[39m.\u001b[39mdisplay(bundle, raw\u001b[39m=\u001b[39m\u001b[39mTrue\u001b[39;00m)\n\u001b[1;32m    402\u001b[0m \u001b[39m# external renderers\u001b[39;00m\n",
      "\u001b[0;31mValueError\u001b[0m: Mime type rendering requires nbformat>=4.2.0 but it is not installed"
     ]
    },
    {
     "data": {
      "application/vnd.plotly.v1+json": {
       "config": {
        "plotlyServerURL": "https://plot.ly"
       },
       "data": [
        {
         "fillpattern": {
          "shape": ""
         },
         "hovertemplate": "Date=%{x}<br>Drawdown=%{y}<extra></extra>",
         "legendgroup": "",
         "line": {
          "color": "#636efa"
         },
         "marker": {
          "symbol": "circle"
         },
         "mode": "lines",
         "name": "",
         "orientation": "v",
         "showlegend": false,
         "stackgroup": "1",
         "type": "scatter",
         "x": [
          "2020-01-02T00:00:00",
          "2020-01-03T00:00:00",
          "2020-01-06T00:00:00",
          "2020-01-07T00:00:00",
          "2020-01-08T00:00:00",
          "2020-01-09T00:00:00",
          "2020-01-10T00:00:00",
          "2020-01-13T00:00:00",
          "2020-01-14T00:00:00",
          "2020-01-15T00:00:00",
          "2020-01-16T00:00:00",
          "2020-01-17T00:00:00",
          "2020-01-20T00:00:00",
          "2020-01-21T00:00:00",
          "2020-01-22T00:00:00",
          "2020-01-23T00:00:00",
          "2020-01-24T00:00:00",
          "2020-01-27T00:00:00",
          "2020-01-28T00:00:00",
          "2020-01-29T00:00:00",
          "2020-01-30T00:00:00",
          "2020-01-31T00:00:00",
          "2020-02-03T00:00:00",
          "2020-02-04T00:00:00",
          "2020-02-05T00:00:00",
          "2020-02-06T00:00:00",
          "2020-02-07T00:00:00",
          "2020-02-10T00:00:00",
          "2020-02-11T00:00:00",
          "2020-02-12T00:00:00",
          "2020-02-13T00:00:00",
          "2020-02-14T00:00:00",
          "2020-02-17T00:00:00",
          "2020-02-18T00:00:00",
          "2020-02-19T00:00:00",
          "2020-02-20T00:00:00",
          "2020-02-21T00:00:00",
          "2020-02-26T00:00:00",
          "2020-02-27T00:00:00",
          "2020-02-28T00:00:00",
          "2020-03-02T00:00:00",
          "2020-03-03T00:00:00",
          "2020-03-04T00:00:00",
          "2020-03-05T00:00:00",
          "2020-03-06T00:00:00",
          "2020-03-09T00:00:00",
          "2020-03-10T00:00:00",
          "2020-03-11T00:00:00",
          "2020-03-12T00:00:00",
          "2020-03-13T00:00:00",
          "2020-03-16T00:00:00",
          "2020-03-17T00:00:00",
          "2020-03-18T00:00:00",
          "2020-03-19T00:00:00",
          "2020-03-20T00:00:00",
          "2020-03-23T00:00:00",
          "2020-03-24T00:00:00",
          "2020-03-25T00:00:00",
          "2020-03-26T00:00:00",
          "2020-03-27T00:00:00",
          "2020-03-30T00:00:00",
          "2020-03-31T00:00:00",
          "2020-04-01T00:00:00",
          "2020-04-02T00:00:00",
          "2020-04-03T00:00:00",
          "2020-04-06T00:00:00",
          "2020-04-07T00:00:00",
          "2020-04-08T00:00:00",
          "2020-04-09T00:00:00",
          "2020-04-13T00:00:00",
          "2020-04-14T00:00:00",
          "2020-04-15T00:00:00",
          "2020-04-16T00:00:00",
          "2020-04-17T00:00:00",
          "2020-04-20T00:00:00",
          "2020-04-22T00:00:00",
          "2020-04-23T00:00:00",
          "2020-04-24T00:00:00",
          "2020-04-27T00:00:00",
          "2020-04-28T00:00:00",
          "2020-04-29T00:00:00",
          "2020-04-30T00:00:00",
          "2020-05-04T00:00:00",
          "2020-05-05T00:00:00",
          "2020-05-06T00:00:00",
          "2020-05-07T00:00:00",
          "2020-05-08T00:00:00",
          "2020-05-11T00:00:00",
          "2020-05-12T00:00:00",
          "2020-05-13T00:00:00",
          "2020-05-14T00:00:00",
          "2020-05-15T00:00:00",
          "2020-05-18T00:00:00",
          "2020-05-19T00:00:00",
          "2020-05-20T00:00:00",
          "2020-05-21T00:00:00",
          "2020-05-22T00:00:00",
          "2020-05-25T00:00:00",
          "2020-05-26T00:00:00",
          "2020-05-27T00:00:00",
          "2020-05-28T00:00:00",
          "2020-05-29T00:00:00",
          "2020-06-01T00:00:00",
          "2020-06-02T00:00:00",
          "2020-06-03T00:00:00",
          "2020-06-04T00:00:00",
          "2020-06-05T00:00:00",
          "2020-06-08T00:00:00",
          "2020-06-09T00:00:00",
          "2020-06-10T00:00:00",
          "2020-06-12T00:00:00",
          "2020-06-15T00:00:00",
          "2020-06-16T00:00:00",
          "2020-06-17T00:00:00",
          "2020-06-18T00:00:00",
          "2020-06-19T00:00:00",
          "2020-06-22T00:00:00",
          "2020-06-23T00:00:00",
          "2020-06-24T00:00:00",
          "2020-06-25T00:00:00",
          "2020-06-26T00:00:00",
          "2020-06-29T00:00:00",
          "2020-06-30T00:00:00",
          "2020-07-01T00:00:00",
          "2020-07-02T00:00:00",
          "2020-07-03T00:00:00",
          "2020-07-06T00:00:00",
          "2020-07-07T00:00:00",
          "2020-07-08T00:00:00",
          "2020-07-09T00:00:00",
          "2020-07-10T00:00:00",
          "2020-07-13T00:00:00",
          "2020-07-14T00:00:00",
          "2020-07-15T00:00:00",
          "2020-07-16T00:00:00",
          "2020-07-17T00:00:00",
          "2020-07-20T00:00:00",
          "2020-07-21T00:00:00",
          "2020-07-22T00:00:00",
          "2020-07-23T00:00:00",
          "2020-07-24T00:00:00",
          "2020-07-27T00:00:00",
          "2020-07-28T00:00:00",
          "2020-07-29T00:00:00",
          "2020-07-30T00:00:00",
          "2020-07-31T00:00:00",
          "2020-08-03T00:00:00",
          "2020-08-04T00:00:00",
          "2020-08-05T00:00:00",
          "2020-08-06T00:00:00",
          "2020-08-07T00:00:00",
          "2020-08-10T00:00:00",
          "2020-08-11T00:00:00",
          "2020-08-12T00:00:00",
          "2020-08-13T00:00:00",
          "2020-08-14T00:00:00",
          "2020-08-17T00:00:00",
          "2020-08-18T00:00:00",
          "2020-08-19T00:00:00",
          "2020-08-20T00:00:00",
          "2020-08-21T00:00:00",
          "2020-08-24T00:00:00",
          "2020-08-25T00:00:00",
          "2020-08-26T00:00:00",
          "2020-08-27T00:00:00",
          "2020-08-28T00:00:00",
          "2020-08-31T00:00:00",
          "2020-09-01T00:00:00",
          "2020-09-02T00:00:00",
          "2020-09-03T00:00:00",
          "2020-09-04T00:00:00",
          "2020-09-08T00:00:00",
          "2020-09-09T00:00:00",
          "2020-09-10T00:00:00",
          "2020-09-11T00:00:00",
          "2020-09-14T00:00:00",
          "2020-09-15T00:00:00",
          "2020-09-16T00:00:00",
          "2020-09-17T00:00:00",
          "2020-09-18T00:00:00",
          "2020-09-21T00:00:00",
          "2020-09-22T00:00:00",
          "2020-09-23T00:00:00",
          "2020-09-24T00:00:00",
          "2020-09-25T00:00:00",
          "2020-09-28T00:00:00",
          "2020-09-29T00:00:00",
          "2020-09-30T00:00:00",
          "2020-10-01T00:00:00",
          "2020-10-02T00:00:00",
          "2020-10-05T00:00:00",
          "2020-10-06T00:00:00",
          "2020-10-07T00:00:00",
          "2020-10-08T00:00:00",
          "2020-10-09T00:00:00",
          "2020-10-13T00:00:00",
          "2020-10-14T00:00:00",
          "2020-10-15T00:00:00",
          "2020-10-16T00:00:00",
          "2020-10-19T00:00:00",
          "2020-10-20T00:00:00",
          "2020-10-21T00:00:00",
          "2020-10-22T00:00:00",
          "2020-10-23T00:00:00",
          "2020-10-26T00:00:00",
          "2020-10-27T00:00:00",
          "2020-10-28T00:00:00",
          "2020-10-29T00:00:00",
          "2020-10-30T00:00:00",
          "2020-11-03T00:00:00",
          "2020-11-04T00:00:00",
          "2020-11-05T00:00:00",
          "2020-11-06T00:00:00",
          "2020-11-09T00:00:00",
          "2020-11-10T00:00:00",
          "2020-11-11T00:00:00",
          "2020-11-12T00:00:00",
          "2020-11-13T00:00:00",
          "2020-11-16T00:00:00",
          "2020-11-17T00:00:00",
          "2020-11-18T00:00:00",
          "2020-11-19T00:00:00",
          "2020-11-23T00:00:00",
          "2020-11-24T00:00:00",
          "2020-11-25T00:00:00",
          "2020-11-26T00:00:00",
          "2020-11-27T00:00:00",
          "2020-11-30T00:00:00",
          "2020-12-01T00:00:00",
          "2020-12-02T00:00:00",
          "2020-12-03T00:00:00",
          "2020-12-04T00:00:00",
          "2020-12-07T00:00:00",
          "2020-12-08T00:00:00",
          "2020-12-09T00:00:00",
          "2020-12-10T00:00:00",
          "2020-12-11T00:00:00",
          "2020-12-14T00:00:00",
          "2020-12-15T00:00:00",
          "2020-12-16T00:00:00",
          "2020-12-17T00:00:00",
          "2020-12-18T00:00:00",
          "2020-12-21T00:00:00",
          "2020-12-22T00:00:00",
          "2020-12-23T00:00:00",
          "2020-12-28T00:00:00",
          "2020-12-29T00:00:00",
          "2020-12-30T00:00:00"
         ],
         "xaxis": "x",
         "y": [
          null,
          0,
          -1.020716093895302,
          -2.938472218101029,
          -3.9282373358530243,
          -4.8252504522711455,
          -5.969696437535921,
          -4.639658979453465,
          -5.103600654895734,
          -6.4645890891215085,
          -6.309921678554852,
          -4.825250452271113,
          -6.4955198798456015,
          -8.75347433117798,
          -7.268789647948093,
          -5.289198856186472,
          -6.464589089121498,
          -7.6090283459131935,
          -8.413208719320586,
          -9.217442920512564,
          -7.9802045630755,
          -8.939065803995671,
          -8.459392958504885,
          -7.840447448842214,
          -7.7166839151073585,
          -8.118992777185973,
          -7.871418610404756,
          -7.004898933960879,
          -3.1056142177480317,
          -2.61045915571253,
          -4.343471594707982,
          -5.581362614033303,
          -6.076477305230366,
          -6.169316776714195,
          -5.240908604929828,
          -5.333754804886725,
          -7.619087413159809,
          -11.360865303168522,
          -11.423749612524059,
          -10.040214065025177,
          -10.024509808868986,
          -10.93683693000498,
          -10.024509808868986,
          -11.534567564063314,
          -14.397445387170805,
          -18.204085757619005,
          -16.190657474765036,
          -20.406301538001102,
          -28.428572514739226,
          -20.53211052755065,
          -28.428572514739237,
          -25.15676501204768,
          -31.543135601676543,
          -30.158886836031762,
          -33.61947510777837,
          -38.02385956923106,
          -35.41269392384567,
          -31.88915405801277,
          -27.547721190646378,
          -30.25326712784967,
          -28.176907436328634,
          -30.536414731776496,
          -34.644692550160606,
          -34.07802054781478,
          -37.068779730178804,
          -33.857676511566616,
          -30.111397273070985,
          -27.718806075515147,
          -28.379912197463476,
          -28.22247265599008,
          -28.128085635699087,
          -29.92253576233903,
          -30.74102086950309,
          -30.331761494738384,
          -30.646566564481358,
          -31.402106806032204,
          -33.13359861011279,
          -35.494720739098575,
          -34.73916704060158,
          -29.229933657928342,
          -28.474366502485214,
          -30.7410208695031,
          -33.52901751576297,
          -31.323841207228032,
          -32.26891580681828,
          -34.4740988438263,
          -32.77295245331231,
          -31.607338691754727,
          -34.15907173447186,
          -34.31661893151444,
          -32.30041851775373,
          -34.94667315022332,
          -32.6469483380436,
          -35.04118128302965,
          -34.63161912697659,
          -32.23744000977513,
          -31.827877853722065,
          -28.551575731016655,
          -31.00882082634666,
          -28.362572922350125,
          -30.00070043404708,
          -30.882776340239516,
          -28.912491026740106,
          -25.161118334126975,
          -22.765257098656853,
          -20.558580340626264,
          -18.887779363678902,
          -17.059350448012033,
          -17.91048883500729,
          -20.842246036979827,
          -22.859825787720855,
          -24.972001141418186,
          -23.395768853534815,
          -22.702197849001358,
          -20.71616790850731,
          -16.80714036328238,
          -20.211781381413406,
          -20.905318743581482,
          -22.60766280230275,
          -22.166308610972017,
          -23.994717341219662,
          -22.04022375402642,
          -24.341462472647933,
          -23.316285401104153,
          -22.496158546509893,
          -22.590781063358488,
          -20.00415415927631,
          -21.89679289349442,
          -20.666585790420346,
          -20.729692139387357,
          -20.28806880913364,
          -21.202845094468803,
          -20.47733402825007,
          -20.00415415927632,
          -21.171295284221834,
          -20.85583082411755,
          -20.035703969523276,
          -19.278656550003724,
          -20.19341937839274,
          -21.549832450927763,
          -21.928349432214468,
          -19.08937787394114,
          -19.184020576208958,
          -17.70144190505144,
          -18.742397245955246,
          -21.45518974865993,
          -20.460970381732547,
          -23.964472854749197,
          -23.93287594519069,
          -22.670365442885288,
          -24.05914247090931,
          -23.206954442114412,
          -23.77507306617127,
          -24.090699009629347,
          -26.142311377181883,
          -26.142311377181883,
          -27.625784935258324,
          -26.699146351892576,
          -26.98387514699193,
          -27.17369210090048,
          -27.047136250839664,
          -26.066407472426935,
          -26.35116990989167,
          -27.96459046845855,
          -27.26862412751053,
          -26.50933612645713,
          -28.628980085267298,
          -26.682056030283018,
          -26.966946308736162,
          -26.01724251967058,
          -24.78262153825953,
          -26.42879630375373,
          -26.840329902417682,
          -28.074971069247955,
          -29.056345781075866,
          -28.10661507811797,
          -28.86638752923275,
          -29.372900253818244,
          -29.309592050658985,
          -30.322617499829985,
          -30.76581529278316,
          -30.544213032070022,
          -31.873819867875696,
          -30.89242497062855,
          -31.050732485128584,
          -31.082383222471666,
          -32.47529153296351,
          -32.31700420388272,
          -31.98439559438424,
          -31.825993881261173,
          -31.66759889661117,
          -31.889362640678087,
          -32.11110619932577,
          -28.689724740185063,
          -28.94317959243352,
          -29.164909694135066,
          -29.671812670158882,
          -30.146990895635806,
          -31.287433439421175,
          -30.780584291181956,
          -28.43629680182892,
          -27.992782770641234,
          -25.078304287524354,
          -25.83858810259281,
          -25.141639404575912,
          -27.074083785503568,
          -29.95691825975043,
          -28.689724740185063,
          -30.368734454283498,
          -29.37017522222296,
          -26.612160651983665,
          -24.995422956190982,
          -24.710115512407206,
          -19.606265904007692,
          -17.482275351591316,
          -17.76758952384816,
          -19.95492865026225,
          -18.243110901451885,
          -15.992329002417083,
          -16.08742924085399,
          -18.021178945558127,
          -17.64077799181053,
          -17.418893135228274,
          -15.580210026595665,
          -16.436152543366212,
          -17.926105621013534,
          -17.19697463628065,
          -18.338224596834973,
          -15.08695912244027,
          -15.023516349819522,
          -14.991818513164922,
          -14.547739290238981,
          -14.29394128586372,
          -14.864926239450371,
          -13.976781250544622,
          -11.470943122669597,
          -11.998818749267059,
          -13.397695215376103,
          -12.793633088154543,
          -10.695325117464039,
          -10.695325117464039,
          -10.854292022325385,
          -12.857217158709844,
          -12.316745830516652,
          -10.9814803488552,
          -9.614375732604586,
          -9.96411503455107,
          -11.203984224960328
         ],
         "yaxis": "y"
        }
       ],
       "layout": {
        "legend": {
         "tracegroupgap": 0
        },
        "template": {
         "data": {
          "bar": [
           {
            "error_x": {
             "color": "#2a3f5f"
            },
            "error_y": {
             "color": "#2a3f5f"
            },
            "marker": {
             "line": {
              "color": "#E5ECF6",
              "width": 0.5
             },
             "pattern": {
              "fillmode": "overlay",
              "size": 10,
              "solidity": 0.2
             }
            },
            "type": "bar"
           }
          ],
          "barpolar": [
           {
            "marker": {
             "line": {
              "color": "#E5ECF6",
              "width": 0.5
             },
             "pattern": {
              "fillmode": "overlay",
              "size": 10,
              "solidity": 0.2
             }
            },
            "type": "barpolar"
           }
          ],
          "carpet": [
           {
            "aaxis": {
             "endlinecolor": "#2a3f5f",
             "gridcolor": "white",
             "linecolor": "white",
             "minorgridcolor": "white",
             "startlinecolor": "#2a3f5f"
            },
            "baxis": {
             "endlinecolor": "#2a3f5f",
             "gridcolor": "white",
             "linecolor": "white",
             "minorgridcolor": "white",
             "startlinecolor": "#2a3f5f"
            },
            "type": "carpet"
           }
          ],
          "choropleth": [
           {
            "colorbar": {
             "outlinewidth": 0,
             "ticks": ""
            },
            "type": "choropleth"
           }
          ],
          "contour": [
           {
            "colorbar": {
             "outlinewidth": 0,
             "ticks": ""
            },
            "colorscale": [
             [
              0,
              "#0d0887"
             ],
             [
              0.1111111111111111,
              "#46039f"
             ],
             [
              0.2222222222222222,
              "#7201a8"
             ],
             [
              0.3333333333333333,
              "#9c179e"
             ],
             [
              0.4444444444444444,
              "#bd3786"
             ],
             [
              0.5555555555555556,
              "#d8576b"
             ],
             [
              0.6666666666666666,
              "#ed7953"
             ],
             [
              0.7777777777777778,
              "#fb9f3a"
             ],
             [
              0.8888888888888888,
              "#fdca26"
             ],
             [
              1,
              "#f0f921"
             ]
            ],
            "type": "contour"
           }
          ],
          "contourcarpet": [
           {
            "colorbar": {
             "outlinewidth": 0,
             "ticks": ""
            },
            "type": "contourcarpet"
           }
          ],
          "heatmap": [
           {
            "colorbar": {
             "outlinewidth": 0,
             "ticks": ""
            },
            "colorscale": [
             [
              0,
              "#0d0887"
             ],
             [
              0.1111111111111111,
              "#46039f"
             ],
             [
              0.2222222222222222,
              "#7201a8"
             ],
             [
              0.3333333333333333,
              "#9c179e"
             ],
             [
              0.4444444444444444,
              "#bd3786"
             ],
             [
              0.5555555555555556,
              "#d8576b"
             ],
             [
              0.6666666666666666,
              "#ed7953"
             ],
             [
              0.7777777777777778,
              "#fb9f3a"
             ],
             [
              0.8888888888888888,
              "#fdca26"
             ],
             [
              1,
              "#f0f921"
             ]
            ],
            "type": "heatmap"
           }
          ],
          "heatmapgl": [
           {
            "colorbar": {
             "outlinewidth": 0,
             "ticks": ""
            },
            "colorscale": [
             [
              0,
              "#0d0887"
             ],
             [
              0.1111111111111111,
              "#46039f"
             ],
             [
              0.2222222222222222,
              "#7201a8"
             ],
             [
              0.3333333333333333,
              "#9c179e"
             ],
             [
              0.4444444444444444,
              "#bd3786"
             ],
             [
              0.5555555555555556,
              "#d8576b"
             ],
             [
              0.6666666666666666,
              "#ed7953"
             ],
             [
              0.7777777777777778,
              "#fb9f3a"
             ],
             [
              0.8888888888888888,
              "#fdca26"
             ],
             [
              1,
              "#f0f921"
             ]
            ],
            "type": "heatmapgl"
           }
          ],
          "histogram": [
           {
            "marker": {
             "pattern": {
              "fillmode": "overlay",
              "size": 10,
              "solidity": 0.2
             }
            },
            "type": "histogram"
           }
          ],
          "histogram2d": [
           {
            "colorbar": {
             "outlinewidth": 0,
             "ticks": ""
            },
            "colorscale": [
             [
              0,
              "#0d0887"
             ],
             [
              0.1111111111111111,
              "#46039f"
             ],
             [
              0.2222222222222222,
              "#7201a8"
             ],
             [
              0.3333333333333333,
              "#9c179e"
             ],
             [
              0.4444444444444444,
              "#bd3786"
             ],
             [
              0.5555555555555556,
              "#d8576b"
             ],
             [
              0.6666666666666666,
              "#ed7953"
             ],
             [
              0.7777777777777778,
              "#fb9f3a"
             ],
             [
              0.8888888888888888,
              "#fdca26"
             ],
             [
              1,
              "#f0f921"
             ]
            ],
            "type": "histogram2d"
           }
          ],
          "histogram2dcontour": [
           {
            "colorbar": {
             "outlinewidth": 0,
             "ticks": ""
            },
            "colorscale": [
             [
              0,
              "#0d0887"
             ],
             [
              0.1111111111111111,
              "#46039f"
             ],
             [
              0.2222222222222222,
              "#7201a8"
             ],
             [
              0.3333333333333333,
              "#9c179e"
             ],
             [
              0.4444444444444444,
              "#bd3786"
             ],
             [
              0.5555555555555556,
              "#d8576b"
             ],
             [
              0.6666666666666666,
              "#ed7953"
             ],
             [
              0.7777777777777778,
              "#fb9f3a"
             ],
             [
              0.8888888888888888,
              "#fdca26"
             ],
             [
              1,
              "#f0f921"
             ]
            ],
            "type": "histogram2dcontour"
           }
          ],
          "mesh3d": [
           {
            "colorbar": {
             "outlinewidth": 0,
             "ticks": ""
            },
            "type": "mesh3d"
           }
          ],
          "parcoords": [
           {
            "line": {
             "colorbar": {
              "outlinewidth": 0,
              "ticks": ""
             }
            },
            "type": "parcoords"
           }
          ],
          "pie": [
           {
            "automargin": true,
            "type": "pie"
           }
          ],
          "scatter": [
           {
            "fillpattern": {
             "fillmode": "overlay",
             "size": 10,
             "solidity": 0.2
            },
            "type": "scatter"
           }
          ],
          "scatter3d": [
           {
            "line": {
             "colorbar": {
              "outlinewidth": 0,
              "ticks": ""
             }
            },
            "marker": {
             "colorbar": {
              "outlinewidth": 0,
              "ticks": ""
             }
            },
            "type": "scatter3d"
           }
          ],
          "scattercarpet": [
           {
            "marker": {
             "colorbar": {
              "outlinewidth": 0,
              "ticks": ""
             }
            },
            "type": "scattercarpet"
           }
          ],
          "scattergeo": [
           {
            "marker": {
             "colorbar": {
              "outlinewidth": 0,
              "ticks": ""
             }
            },
            "type": "scattergeo"
           }
          ],
          "scattergl": [
           {
            "marker": {
             "colorbar": {
              "outlinewidth": 0,
              "ticks": ""
             }
            },
            "type": "scattergl"
           }
          ],
          "scattermapbox": [
           {
            "marker": {
             "colorbar": {
              "outlinewidth": 0,
              "ticks": ""
             }
            },
            "type": "scattermapbox"
           }
          ],
          "scatterpolar": [
           {
            "marker": {
             "colorbar": {
              "outlinewidth": 0,
              "ticks": ""
             }
            },
            "type": "scatterpolar"
           }
          ],
          "scatterpolargl": [
           {
            "marker": {
             "colorbar": {
              "outlinewidth": 0,
              "ticks": ""
             }
            },
            "type": "scatterpolargl"
           }
          ],
          "scatterternary": [
           {
            "marker": {
             "colorbar": {
              "outlinewidth": 0,
              "ticks": ""
             }
            },
            "type": "scatterternary"
           }
          ],
          "surface": [
           {
            "colorbar": {
             "outlinewidth": 0,
             "ticks": ""
            },
            "colorscale": [
             [
              0,
              "#0d0887"
             ],
             [
              0.1111111111111111,
              "#46039f"
             ],
             [
              0.2222222222222222,
              "#7201a8"
             ],
             [
              0.3333333333333333,
              "#9c179e"
             ],
             [
              0.4444444444444444,
              "#bd3786"
             ],
             [
              0.5555555555555556,
              "#d8576b"
             ],
             [
              0.6666666666666666,
              "#ed7953"
             ],
             [
              0.7777777777777778,
              "#fb9f3a"
             ],
             [
              0.8888888888888888,
              "#fdca26"
             ],
             [
              1,
              "#f0f921"
             ]
            ],
            "type": "surface"
           }
          ],
          "table": [
           {
            "cells": {
             "fill": {
              "color": "#EBF0F8"
             },
             "line": {
              "color": "white"
             }
            },
            "header": {
             "fill": {
              "color": "#C8D4E3"
             },
             "line": {
              "color": "white"
             }
            },
            "type": "table"
           }
          ]
         },
         "layout": {
          "annotationdefaults": {
           "arrowcolor": "#2a3f5f",
           "arrowhead": 0,
           "arrowwidth": 1
          },
          "autotypenumbers": "strict",
          "coloraxis": {
           "colorbar": {
            "outlinewidth": 0,
            "ticks": ""
           }
          },
          "colorscale": {
           "diverging": [
            [
             0,
             "#8e0152"
            ],
            [
             0.1,
             "#c51b7d"
            ],
            [
             0.2,
             "#de77ae"
            ],
            [
             0.3,
             "#f1b6da"
            ],
            [
             0.4,
             "#fde0ef"
            ],
            [
             0.5,
             "#f7f7f7"
            ],
            [
             0.6,
             "#e6f5d0"
            ],
            [
             0.7,
             "#b8e186"
            ],
            [
             0.8,
             "#7fbc41"
            ],
            [
             0.9,
             "#4d9221"
            ],
            [
             1,
             "#276419"
            ]
           ],
           "sequential": [
            [
             0,
             "#0d0887"
            ],
            [
             0.1111111111111111,
             "#46039f"
            ],
            [
             0.2222222222222222,
             "#7201a8"
            ],
            [
             0.3333333333333333,
             "#9c179e"
            ],
            [
             0.4444444444444444,
             "#bd3786"
            ],
            [
             0.5555555555555556,
             "#d8576b"
            ],
            [
             0.6666666666666666,
             "#ed7953"
            ],
            [
             0.7777777777777778,
             "#fb9f3a"
            ],
            [
             0.8888888888888888,
             "#fdca26"
            ],
            [
             1,
             "#f0f921"
            ]
           ],
           "sequentialminus": [
            [
             0,
             "#0d0887"
            ],
            [
             0.1111111111111111,
             "#46039f"
            ],
            [
             0.2222222222222222,
             "#7201a8"
            ],
            [
             0.3333333333333333,
             "#9c179e"
            ],
            [
             0.4444444444444444,
             "#bd3786"
            ],
            [
             0.5555555555555556,
             "#d8576b"
            ],
            [
             0.6666666666666666,
             "#ed7953"
            ],
            [
             0.7777777777777778,
             "#fb9f3a"
            ],
            [
             0.8888888888888888,
             "#fdca26"
            ],
            [
             1,
             "#f0f921"
            ]
           ]
          },
          "colorway": [
           "#636efa",
           "#EF553B",
           "#00cc96",
           "#ab63fa",
           "#FFA15A",
           "#19d3f3",
           "#FF6692",
           "#B6E880",
           "#FF97FF",
           "#FECB52"
          ],
          "font": {
           "color": "#2a3f5f"
          },
          "geo": {
           "bgcolor": "white",
           "lakecolor": "white",
           "landcolor": "#E5ECF6",
           "showlakes": true,
           "showland": true,
           "subunitcolor": "white"
          },
          "hoverlabel": {
           "align": "left"
          },
          "hovermode": "closest",
          "mapbox": {
           "style": "light"
          },
          "paper_bgcolor": "white",
          "plot_bgcolor": "#E5ECF6",
          "polar": {
           "angularaxis": {
            "gridcolor": "white",
            "linecolor": "white",
            "ticks": ""
           },
           "bgcolor": "#E5ECF6",
           "radialaxis": {
            "gridcolor": "white",
            "linecolor": "white",
            "ticks": ""
           }
          },
          "scene": {
           "xaxis": {
            "backgroundcolor": "#E5ECF6",
            "gridcolor": "white",
            "gridwidth": 2,
            "linecolor": "white",
            "showbackground": true,
            "ticks": "",
            "zerolinecolor": "white"
           },
           "yaxis": {
            "backgroundcolor": "#E5ECF6",
            "gridcolor": "white",
            "gridwidth": 2,
            "linecolor": "white",
            "showbackground": true,
            "ticks": "",
            "zerolinecolor": "white"
           },
           "zaxis": {
            "backgroundcolor": "#E5ECF6",
            "gridcolor": "white",
            "gridwidth": 2,
            "linecolor": "white",
            "showbackground": true,
            "ticks": "",
            "zerolinecolor": "white"
           }
          },
          "shapedefaults": {
           "line": {
            "color": "#2a3f5f"
           }
          },
          "ternary": {
           "aaxis": {
            "gridcolor": "white",
            "linecolor": "white",
            "ticks": ""
           },
           "baxis": {
            "gridcolor": "white",
            "linecolor": "white",
            "ticks": ""
           },
           "bgcolor": "#E5ECF6",
           "caxis": {
            "gridcolor": "white",
            "linecolor": "white",
            "ticks": ""
           }
          },
          "title": {
           "x": 0.05
          },
          "xaxis": {
           "automargin": true,
           "gridcolor": "white",
           "linecolor": "white",
           "ticks": "",
           "title": {
            "standoff": 15
           },
           "zerolinecolor": "white",
           "zerolinewidth": 2
          },
          "yaxis": {
           "automargin": true,
           "gridcolor": "white",
           "linecolor": "white",
           "ticks": "",
           "title": {
            "standoff": 15
           },
           "zerolinecolor": "white",
           "zerolinewidth": 2
          }
         }
        },
        "title": {
         "text": "Drawdown ITUB3.SA"
        },
        "xaxis": {
         "anchor": "y",
         "domain": [
          0,
          1
         ],
         "title": {
          "text": "Tempo"
         }
        },
        "yaxis": {
         "anchor": "x",
         "domain": [
          0,
          1
         ],
         "title": {
          "text": "Drawdown (%)"
         }
        }
       }
      },
      "text/html": [
       "<div>                        <script type=\"text/javascript\">window.PlotlyConfig = {MathJaxConfig: 'local'};</script>\n",
       "        <script charset=\"utf-8\" src=\"https://cdn.plot.ly/plotly-2.20.0.min.js\"></script>                <div id=\"65fc9e02-f757-4a6a-aed8-8db61ba517ab\" class=\"plotly-graph-div\" style=\"height:100%; width:100%;\"></div>            <script type=\"text/javascript\">                                    window.PLOTLYENV=window.PLOTLYENV || {};                                    if (document.getElementById(\"65fc9e02-f757-4a6a-aed8-8db61ba517ab\")) {                    Plotly.newPlot(                        \"65fc9e02-f757-4a6a-aed8-8db61ba517ab\",                        [{\"fillpattern\":{\"shape\":\"\"},\"hovertemplate\":\"Date=%{x}<br>Drawdown=%{y}<extra></extra>\",\"legendgroup\":\"\",\"line\":{\"color\":\"#636efa\"},\"marker\":{\"symbol\":\"circle\"},\"mode\":\"lines\",\"name\":\"\",\"orientation\":\"v\",\"showlegend\":false,\"stackgroup\":\"1\",\"x\":[\"2020-01-02T00:00:00\",\"2020-01-03T00:00:00\",\"2020-01-06T00:00:00\",\"2020-01-07T00:00:00\",\"2020-01-08T00:00:00\",\"2020-01-09T00:00:00\",\"2020-01-10T00:00:00\",\"2020-01-13T00:00:00\",\"2020-01-14T00:00:00\",\"2020-01-15T00:00:00\",\"2020-01-16T00:00:00\",\"2020-01-17T00:00:00\",\"2020-01-20T00:00:00\",\"2020-01-21T00:00:00\",\"2020-01-22T00:00:00\",\"2020-01-23T00:00:00\",\"2020-01-24T00:00:00\",\"2020-01-27T00:00:00\",\"2020-01-28T00:00:00\",\"2020-01-29T00:00:00\",\"2020-01-30T00:00:00\",\"2020-01-31T00:00:00\",\"2020-02-03T00:00:00\",\"2020-02-04T00:00:00\",\"2020-02-05T00:00:00\",\"2020-02-06T00:00:00\",\"2020-02-07T00:00:00\",\"2020-02-10T00:00:00\",\"2020-02-11T00:00:00\",\"2020-02-12T00:00:00\",\"2020-02-13T00:00:00\",\"2020-02-14T00:00:00\",\"2020-02-17T00:00:00\",\"2020-02-18T00:00:00\",\"2020-02-19T00:00:00\",\"2020-02-20T00:00:00\",\"2020-02-21T00:00:00\",\"2020-02-26T00:00:00\",\"2020-02-27T00:00:00\",\"2020-02-28T00:00:00\",\"2020-03-02T00:00:00\",\"2020-03-03T00:00:00\",\"2020-03-04T00:00:00\",\"2020-03-05T00:00:00\",\"2020-03-06T00:00:00\",\"2020-03-09T00:00:00\",\"2020-03-10T00:00:00\",\"2020-03-11T00:00:00\",\"2020-03-12T00:00:00\",\"2020-03-13T00:00:00\",\"2020-03-16T00:00:00\",\"2020-03-17T00:00:00\",\"2020-03-18T00:00:00\",\"2020-03-19T00:00:00\",\"2020-03-20T00:00:00\",\"2020-03-23T00:00:00\",\"2020-03-24T00:00:00\",\"2020-03-25T00:00:00\",\"2020-03-26T00:00:00\",\"2020-03-27T00:00:00\",\"2020-03-30T00:00:00\",\"2020-03-31T00:00:00\",\"2020-04-01T00:00:00\",\"2020-04-02T00:00:00\",\"2020-04-03T00:00:00\",\"2020-04-06T00:00:00\",\"2020-04-07T00:00:00\",\"2020-04-08T00:00:00\",\"2020-04-09T00:00:00\",\"2020-04-13T00:00:00\",\"2020-04-14T00:00:00\",\"2020-04-15T00:00:00\",\"2020-04-16T00:00:00\",\"2020-04-17T00:00:00\",\"2020-04-20T00:00:00\",\"2020-04-22T00:00:00\",\"2020-04-23T00:00:00\",\"2020-04-24T00:00:00\",\"2020-04-27T00:00:00\",\"2020-04-28T00:00:00\",\"2020-04-29T00:00:00\",\"2020-04-30T00:00:00\",\"2020-05-04T00:00:00\",\"2020-05-05T00:00:00\",\"2020-05-06T00:00:00\",\"2020-05-07T00:00:00\",\"2020-05-08T00:00:00\",\"2020-05-11T00:00:00\",\"2020-05-12T00:00:00\",\"2020-05-13T00:00:00\",\"2020-05-14T00:00:00\",\"2020-05-15T00:00:00\",\"2020-05-18T00:00:00\",\"2020-05-19T00:00:00\",\"2020-05-20T00:00:00\",\"2020-05-21T00:00:00\",\"2020-05-22T00:00:00\",\"2020-05-25T00:00:00\",\"2020-05-26T00:00:00\",\"2020-05-27T00:00:00\",\"2020-05-28T00:00:00\",\"2020-05-29T00:00:00\",\"2020-06-01T00:00:00\",\"2020-06-02T00:00:00\",\"2020-06-03T00:00:00\",\"2020-06-04T00:00:00\",\"2020-06-05T00:00:00\",\"2020-06-08T00:00:00\",\"2020-06-09T00:00:00\",\"2020-06-10T00:00:00\",\"2020-06-12T00:00:00\",\"2020-06-15T00:00:00\",\"2020-06-16T00:00:00\",\"2020-06-17T00:00:00\",\"2020-06-18T00:00:00\",\"2020-06-19T00:00:00\",\"2020-06-22T00:00:00\",\"2020-06-23T00:00:00\",\"2020-06-24T00:00:00\",\"2020-06-25T00:00:00\",\"2020-06-26T00:00:00\",\"2020-06-29T00:00:00\",\"2020-06-30T00:00:00\",\"2020-07-01T00:00:00\",\"2020-07-02T00:00:00\",\"2020-07-03T00:00:00\",\"2020-07-06T00:00:00\",\"2020-07-07T00:00:00\",\"2020-07-08T00:00:00\",\"2020-07-09T00:00:00\",\"2020-07-10T00:00:00\",\"2020-07-13T00:00:00\",\"2020-07-14T00:00:00\",\"2020-07-15T00:00:00\",\"2020-07-16T00:00:00\",\"2020-07-17T00:00:00\",\"2020-07-20T00:00:00\",\"2020-07-21T00:00:00\",\"2020-07-22T00:00:00\",\"2020-07-23T00:00:00\",\"2020-07-24T00:00:00\",\"2020-07-27T00:00:00\",\"2020-07-28T00:00:00\",\"2020-07-29T00:00:00\",\"2020-07-30T00:00:00\",\"2020-07-31T00:00:00\",\"2020-08-03T00:00:00\",\"2020-08-04T00:00:00\",\"2020-08-05T00:00:00\",\"2020-08-06T00:00:00\",\"2020-08-07T00:00:00\",\"2020-08-10T00:00:00\",\"2020-08-11T00:00:00\",\"2020-08-12T00:00:00\",\"2020-08-13T00:00:00\",\"2020-08-14T00:00:00\",\"2020-08-17T00:00:00\",\"2020-08-18T00:00:00\",\"2020-08-19T00:00:00\",\"2020-08-20T00:00:00\",\"2020-08-21T00:00:00\",\"2020-08-24T00:00:00\",\"2020-08-25T00:00:00\",\"2020-08-26T00:00:00\",\"2020-08-27T00:00:00\",\"2020-08-28T00:00:00\",\"2020-08-31T00:00:00\",\"2020-09-01T00:00:00\",\"2020-09-02T00:00:00\",\"2020-09-03T00:00:00\",\"2020-09-04T00:00:00\",\"2020-09-08T00:00:00\",\"2020-09-09T00:00:00\",\"2020-09-10T00:00:00\",\"2020-09-11T00:00:00\",\"2020-09-14T00:00:00\",\"2020-09-15T00:00:00\",\"2020-09-16T00:00:00\",\"2020-09-17T00:00:00\",\"2020-09-18T00:00:00\",\"2020-09-21T00:00:00\",\"2020-09-22T00:00:00\",\"2020-09-23T00:00:00\",\"2020-09-24T00:00:00\",\"2020-09-25T00:00:00\",\"2020-09-28T00:00:00\",\"2020-09-29T00:00:00\",\"2020-09-30T00:00:00\",\"2020-10-01T00:00:00\",\"2020-10-02T00:00:00\",\"2020-10-05T00:00:00\",\"2020-10-06T00:00:00\",\"2020-10-07T00:00:00\",\"2020-10-08T00:00:00\",\"2020-10-09T00:00:00\",\"2020-10-13T00:00:00\",\"2020-10-14T00:00:00\",\"2020-10-15T00:00:00\",\"2020-10-16T00:00:00\",\"2020-10-19T00:00:00\",\"2020-10-20T00:00:00\",\"2020-10-21T00:00:00\",\"2020-10-22T00:00:00\",\"2020-10-23T00:00:00\",\"2020-10-26T00:00:00\",\"2020-10-27T00:00:00\",\"2020-10-28T00:00:00\",\"2020-10-29T00:00:00\",\"2020-10-30T00:00:00\",\"2020-11-03T00:00:00\",\"2020-11-04T00:00:00\",\"2020-11-05T00:00:00\",\"2020-11-06T00:00:00\",\"2020-11-09T00:00:00\",\"2020-11-10T00:00:00\",\"2020-11-11T00:00:00\",\"2020-11-12T00:00:00\",\"2020-11-13T00:00:00\",\"2020-11-16T00:00:00\",\"2020-11-17T00:00:00\",\"2020-11-18T00:00:00\",\"2020-11-19T00:00:00\",\"2020-11-23T00:00:00\",\"2020-11-24T00:00:00\",\"2020-11-25T00:00:00\",\"2020-11-26T00:00:00\",\"2020-11-27T00:00:00\",\"2020-11-30T00:00:00\",\"2020-12-01T00:00:00\",\"2020-12-02T00:00:00\",\"2020-12-03T00:00:00\",\"2020-12-04T00:00:00\",\"2020-12-07T00:00:00\",\"2020-12-08T00:00:00\",\"2020-12-09T00:00:00\",\"2020-12-10T00:00:00\",\"2020-12-11T00:00:00\",\"2020-12-14T00:00:00\",\"2020-12-15T00:00:00\",\"2020-12-16T00:00:00\",\"2020-12-17T00:00:00\",\"2020-12-18T00:00:00\",\"2020-12-21T00:00:00\",\"2020-12-22T00:00:00\",\"2020-12-23T00:00:00\",\"2020-12-28T00:00:00\",\"2020-12-29T00:00:00\",\"2020-12-30T00:00:00\"],\"xaxis\":\"x\",\"y\":[null,0.0,-1.020716093895302,-2.938472218101029,-3.9282373358530243,-4.8252504522711455,-5.969696437535921,-4.639658979453465,-5.103600654895734,-6.4645890891215085,-6.309921678554852,-4.825250452271113,-6.4955198798456015,-8.75347433117798,-7.268789647948093,-5.289198856186472,-6.464589089121498,-7.6090283459131935,-8.413208719320586,-9.217442920512564,-7.9802045630755,-8.939065803995671,-8.459392958504885,-7.840447448842214,-7.7166839151073585,-8.118992777185973,-7.871418610404756,-7.004898933960879,-3.1056142177480317,-2.61045915571253,-4.343471594707982,-5.581362614033303,-6.076477305230366,-6.169316776714195,-5.240908604929828,-5.333754804886725,-7.619087413159809,-11.360865303168522,-11.423749612524059,-10.040214065025177,-10.024509808868986,-10.93683693000498,-10.024509808868986,-11.534567564063314,-14.397445387170805,-18.204085757619005,-16.190657474765036,-20.406301538001102,-28.428572514739226,-20.53211052755065,-28.428572514739237,-25.15676501204768,-31.543135601676543,-30.158886836031762,-33.61947510777837,-38.02385956923106,-35.41269392384567,-31.88915405801277,-27.547721190646378,-30.25326712784967,-28.176907436328634,-30.536414731776496,-34.644692550160606,-34.07802054781478,-37.068779730178804,-33.857676511566616,-30.111397273070985,-27.718806075515147,-28.379912197463476,-28.22247265599008,-28.128085635699087,-29.92253576233903,-30.74102086950309,-30.331761494738384,-30.646566564481358,-31.402106806032204,-33.13359861011279,-35.494720739098575,-34.73916704060158,-29.229933657928342,-28.474366502485214,-30.7410208695031,-33.52901751576297,-31.323841207228032,-32.26891580681828,-34.4740988438263,-32.77295245331231,-31.607338691754727,-34.15907173447186,-34.31661893151444,-32.30041851775373,-34.94667315022332,-32.6469483380436,-35.04118128302965,-34.63161912697659,-32.23744000977513,-31.827877853722065,-28.551575731016655,-31.00882082634666,-28.362572922350125,-30.00070043404708,-30.882776340239516,-28.912491026740106,-25.161118334126975,-22.765257098656853,-20.558580340626264,-18.887779363678902,-17.059350448012033,-17.91048883500729,-20.842246036979827,-22.859825787720855,-24.972001141418186,-23.395768853534815,-22.702197849001358,-20.71616790850731,-16.80714036328238,-20.211781381413406,-20.905318743581482,-22.60766280230275,-22.166308610972017,-23.994717341219662,-22.04022375402642,-24.341462472647933,-23.316285401104153,-22.496158546509893,-22.590781063358488,-20.00415415927631,-21.89679289349442,-20.666585790420346,-20.729692139387357,-20.28806880913364,-21.202845094468803,-20.47733402825007,-20.00415415927632,-21.171295284221834,-20.85583082411755,-20.035703969523276,-19.278656550003724,-20.19341937839274,-21.549832450927763,-21.928349432214468,-19.08937787394114,-19.184020576208958,-17.70144190505144,-18.742397245955246,-21.45518974865993,-20.460970381732547,-23.964472854749197,-23.93287594519069,-22.670365442885288,-24.05914247090931,-23.206954442114412,-23.77507306617127,-24.090699009629347,-26.142311377181883,-26.142311377181883,-27.625784935258324,-26.699146351892576,-26.98387514699193,-27.17369210090048,-27.047136250839664,-26.066407472426935,-26.35116990989167,-27.96459046845855,-27.26862412751053,-26.50933612645713,-28.628980085267298,-26.682056030283018,-26.966946308736162,-26.01724251967058,-24.78262153825953,-26.42879630375373,-26.840329902417682,-28.074971069247955,-29.056345781075866,-28.10661507811797,-28.86638752923275,-29.372900253818244,-29.309592050658985,-30.322617499829985,-30.76581529278316,-30.544213032070022,-31.873819867875696,-30.89242497062855,-31.050732485128584,-31.082383222471666,-32.47529153296351,-32.31700420388272,-31.98439559438424,-31.825993881261173,-31.66759889661117,-31.889362640678087,-32.11110619932577,-28.689724740185063,-28.94317959243352,-29.164909694135066,-29.671812670158882,-30.146990895635806,-31.287433439421175,-30.780584291181956,-28.43629680182892,-27.992782770641234,-25.078304287524354,-25.83858810259281,-25.141639404575912,-27.074083785503568,-29.95691825975043,-28.689724740185063,-30.368734454283498,-29.37017522222296,-26.612160651983665,-24.995422956190982,-24.710115512407206,-19.606265904007692,-17.482275351591316,-17.76758952384816,-19.95492865026225,-18.243110901451885,-15.992329002417083,-16.08742924085399,-18.021178945558127,-17.64077799181053,-17.418893135228274,-15.580210026595665,-16.436152543366212,-17.926105621013534,-17.19697463628065,-18.338224596834973,-15.08695912244027,-15.023516349819522,-14.991818513164922,-14.547739290238981,-14.29394128586372,-14.864926239450371,-13.976781250544622,-11.470943122669597,-11.998818749267059,-13.397695215376103,-12.793633088154543,-10.695325117464039,-10.695325117464039,-10.854292022325385,-12.857217158709844,-12.316745830516652,-10.9814803488552,-9.614375732604586,-9.96411503455107,-11.203984224960328],\"yaxis\":\"y\",\"type\":\"scatter\"}],                        {\"template\":{\"data\":{\"histogram2dcontour\":[{\"type\":\"histogram2dcontour\",\"colorbar\":{\"outlinewidth\":0,\"ticks\":\"\"},\"colorscale\":[[0.0,\"#0d0887\"],[0.1111111111111111,\"#46039f\"],[0.2222222222222222,\"#7201a8\"],[0.3333333333333333,\"#9c179e\"],[0.4444444444444444,\"#bd3786\"],[0.5555555555555556,\"#d8576b\"],[0.6666666666666666,\"#ed7953\"],[0.7777777777777778,\"#fb9f3a\"],[0.8888888888888888,\"#fdca26\"],[1.0,\"#f0f921\"]]}],\"choropleth\":[{\"type\":\"choropleth\",\"colorbar\":{\"outlinewidth\":0,\"ticks\":\"\"}}],\"histogram2d\":[{\"type\":\"histogram2d\",\"colorbar\":{\"outlinewidth\":0,\"ticks\":\"\"},\"colorscale\":[[0.0,\"#0d0887\"],[0.1111111111111111,\"#46039f\"],[0.2222222222222222,\"#7201a8\"],[0.3333333333333333,\"#9c179e\"],[0.4444444444444444,\"#bd3786\"],[0.5555555555555556,\"#d8576b\"],[0.6666666666666666,\"#ed7953\"],[0.7777777777777778,\"#fb9f3a\"],[0.8888888888888888,\"#fdca26\"],[1.0,\"#f0f921\"]]}],\"heatmap\":[{\"type\":\"heatmap\",\"colorbar\":{\"outlinewidth\":0,\"ticks\":\"\"},\"colorscale\":[[0.0,\"#0d0887\"],[0.1111111111111111,\"#46039f\"],[0.2222222222222222,\"#7201a8\"],[0.3333333333333333,\"#9c179e\"],[0.4444444444444444,\"#bd3786\"],[0.5555555555555556,\"#d8576b\"],[0.6666666666666666,\"#ed7953\"],[0.7777777777777778,\"#fb9f3a\"],[0.8888888888888888,\"#fdca26\"],[1.0,\"#f0f921\"]]}],\"heatmapgl\":[{\"type\":\"heatmapgl\",\"colorbar\":{\"outlinewidth\":0,\"ticks\":\"\"},\"colorscale\":[[0.0,\"#0d0887\"],[0.1111111111111111,\"#46039f\"],[0.2222222222222222,\"#7201a8\"],[0.3333333333333333,\"#9c179e\"],[0.4444444444444444,\"#bd3786\"],[0.5555555555555556,\"#d8576b\"],[0.6666666666666666,\"#ed7953\"],[0.7777777777777778,\"#fb9f3a\"],[0.8888888888888888,\"#fdca26\"],[1.0,\"#f0f921\"]]}],\"contourcarpet\":[{\"type\":\"contourcarpet\",\"colorbar\":{\"outlinewidth\":0,\"ticks\":\"\"}}],\"contour\":[{\"type\":\"contour\",\"colorbar\":{\"outlinewidth\":0,\"ticks\":\"\"},\"colorscale\":[[0.0,\"#0d0887\"],[0.1111111111111111,\"#46039f\"],[0.2222222222222222,\"#7201a8\"],[0.3333333333333333,\"#9c179e\"],[0.4444444444444444,\"#bd3786\"],[0.5555555555555556,\"#d8576b\"],[0.6666666666666666,\"#ed7953\"],[0.7777777777777778,\"#fb9f3a\"],[0.8888888888888888,\"#fdca26\"],[1.0,\"#f0f921\"]]}],\"surface\":[{\"type\":\"surface\",\"colorbar\":{\"outlinewidth\":0,\"ticks\":\"\"},\"colorscale\":[[0.0,\"#0d0887\"],[0.1111111111111111,\"#46039f\"],[0.2222222222222222,\"#7201a8\"],[0.3333333333333333,\"#9c179e\"],[0.4444444444444444,\"#bd3786\"],[0.5555555555555556,\"#d8576b\"],[0.6666666666666666,\"#ed7953\"],[0.7777777777777778,\"#fb9f3a\"],[0.8888888888888888,\"#fdca26\"],[1.0,\"#f0f921\"]]}],\"mesh3d\":[{\"type\":\"mesh3d\",\"colorbar\":{\"outlinewidth\":0,\"ticks\":\"\"}}],\"scatter\":[{\"fillpattern\":{\"fillmode\":\"overlay\",\"size\":10,\"solidity\":0.2},\"type\":\"scatter\"}],\"parcoords\":[{\"type\":\"parcoords\",\"line\":{\"colorbar\":{\"outlinewidth\":0,\"ticks\":\"\"}}}],\"scatterpolargl\":[{\"type\":\"scatterpolargl\",\"marker\":{\"colorbar\":{\"outlinewidth\":0,\"ticks\":\"\"}}}],\"bar\":[{\"error_x\":{\"color\":\"#2a3f5f\"},\"error_y\":{\"color\":\"#2a3f5f\"},\"marker\":{\"line\":{\"color\":\"#E5ECF6\",\"width\":0.5},\"pattern\":{\"fillmode\":\"overlay\",\"size\":10,\"solidity\":0.2}},\"type\":\"bar\"}],\"scattergeo\":[{\"type\":\"scattergeo\",\"marker\":{\"colorbar\":{\"outlinewidth\":0,\"ticks\":\"\"}}}],\"scatterpolar\":[{\"type\":\"scatterpolar\",\"marker\":{\"colorbar\":{\"outlinewidth\":0,\"ticks\":\"\"}}}],\"histogram\":[{\"marker\":{\"pattern\":{\"fillmode\":\"overlay\",\"size\":10,\"solidity\":0.2}},\"type\":\"histogram\"}],\"scattergl\":[{\"type\":\"scattergl\",\"marker\":{\"colorbar\":{\"outlinewidth\":0,\"ticks\":\"\"}}}],\"scatter3d\":[{\"type\":\"scatter3d\",\"line\":{\"colorbar\":{\"outlinewidth\":0,\"ticks\":\"\"}},\"marker\":{\"colorbar\":{\"outlinewidth\":0,\"ticks\":\"\"}}}],\"scattermapbox\":[{\"type\":\"scattermapbox\",\"marker\":{\"colorbar\":{\"outlinewidth\":0,\"ticks\":\"\"}}}],\"scatterternary\":[{\"type\":\"scatterternary\",\"marker\":{\"colorbar\":{\"outlinewidth\":0,\"ticks\":\"\"}}}],\"scattercarpet\":[{\"type\":\"scattercarpet\",\"marker\":{\"colorbar\":{\"outlinewidth\":0,\"ticks\":\"\"}}}],\"carpet\":[{\"aaxis\":{\"endlinecolor\":\"#2a3f5f\",\"gridcolor\":\"white\",\"linecolor\":\"white\",\"minorgridcolor\":\"white\",\"startlinecolor\":\"#2a3f5f\"},\"baxis\":{\"endlinecolor\":\"#2a3f5f\",\"gridcolor\":\"white\",\"linecolor\":\"white\",\"minorgridcolor\":\"white\",\"startlinecolor\":\"#2a3f5f\"},\"type\":\"carpet\"}],\"table\":[{\"cells\":{\"fill\":{\"color\":\"#EBF0F8\"},\"line\":{\"color\":\"white\"}},\"header\":{\"fill\":{\"color\":\"#C8D4E3\"},\"line\":{\"color\":\"white\"}},\"type\":\"table\"}],\"barpolar\":[{\"marker\":{\"line\":{\"color\":\"#E5ECF6\",\"width\":0.5},\"pattern\":{\"fillmode\":\"overlay\",\"size\":10,\"solidity\":0.2}},\"type\":\"barpolar\"}],\"pie\":[{\"automargin\":true,\"type\":\"pie\"}]},\"layout\":{\"autotypenumbers\":\"strict\",\"colorway\":[\"#636efa\",\"#EF553B\",\"#00cc96\",\"#ab63fa\",\"#FFA15A\",\"#19d3f3\",\"#FF6692\",\"#B6E880\",\"#FF97FF\",\"#FECB52\"],\"font\":{\"color\":\"#2a3f5f\"},\"hovermode\":\"closest\",\"hoverlabel\":{\"align\":\"left\"},\"paper_bgcolor\":\"white\",\"plot_bgcolor\":\"#E5ECF6\",\"polar\":{\"bgcolor\":\"#E5ECF6\",\"angularaxis\":{\"gridcolor\":\"white\",\"linecolor\":\"white\",\"ticks\":\"\"},\"radialaxis\":{\"gridcolor\":\"white\",\"linecolor\":\"white\",\"ticks\":\"\"}},\"ternary\":{\"bgcolor\":\"#E5ECF6\",\"aaxis\":{\"gridcolor\":\"white\",\"linecolor\":\"white\",\"ticks\":\"\"},\"baxis\":{\"gridcolor\":\"white\",\"linecolor\":\"white\",\"ticks\":\"\"},\"caxis\":{\"gridcolor\":\"white\",\"linecolor\":\"white\",\"ticks\":\"\"}},\"coloraxis\":{\"colorbar\":{\"outlinewidth\":0,\"ticks\":\"\"}},\"colorscale\":{\"sequential\":[[0.0,\"#0d0887\"],[0.1111111111111111,\"#46039f\"],[0.2222222222222222,\"#7201a8\"],[0.3333333333333333,\"#9c179e\"],[0.4444444444444444,\"#bd3786\"],[0.5555555555555556,\"#d8576b\"],[0.6666666666666666,\"#ed7953\"],[0.7777777777777778,\"#fb9f3a\"],[0.8888888888888888,\"#fdca26\"],[1.0,\"#f0f921\"]],\"sequentialminus\":[[0.0,\"#0d0887\"],[0.1111111111111111,\"#46039f\"],[0.2222222222222222,\"#7201a8\"],[0.3333333333333333,\"#9c179e\"],[0.4444444444444444,\"#bd3786\"],[0.5555555555555556,\"#d8576b\"],[0.6666666666666666,\"#ed7953\"],[0.7777777777777778,\"#fb9f3a\"],[0.8888888888888888,\"#fdca26\"],[1.0,\"#f0f921\"]],\"diverging\":[[0,\"#8e0152\"],[0.1,\"#c51b7d\"],[0.2,\"#de77ae\"],[0.3,\"#f1b6da\"],[0.4,\"#fde0ef\"],[0.5,\"#f7f7f7\"],[0.6,\"#e6f5d0\"],[0.7,\"#b8e186\"],[0.8,\"#7fbc41\"],[0.9,\"#4d9221\"],[1,\"#276419\"]]},\"xaxis\":{\"gridcolor\":\"white\",\"linecolor\":\"white\",\"ticks\":\"\",\"title\":{\"standoff\":15},\"zerolinecolor\":\"white\",\"automargin\":true,\"zerolinewidth\":2},\"yaxis\":{\"gridcolor\":\"white\",\"linecolor\":\"white\",\"ticks\":\"\",\"title\":{\"standoff\":15},\"zerolinecolor\":\"white\",\"automargin\":true,\"zerolinewidth\":2},\"scene\":{\"xaxis\":{\"backgroundcolor\":\"#E5ECF6\",\"gridcolor\":\"white\",\"linecolor\":\"white\",\"showbackground\":true,\"ticks\":\"\",\"zerolinecolor\":\"white\",\"gridwidth\":2},\"yaxis\":{\"backgroundcolor\":\"#E5ECF6\",\"gridcolor\":\"white\",\"linecolor\":\"white\",\"showbackground\":true,\"ticks\":\"\",\"zerolinecolor\":\"white\",\"gridwidth\":2},\"zaxis\":{\"backgroundcolor\":\"#E5ECF6\",\"gridcolor\":\"white\",\"linecolor\":\"white\",\"showbackground\":true,\"ticks\":\"\",\"zerolinecolor\":\"white\",\"gridwidth\":2}},\"shapedefaults\":{\"line\":{\"color\":\"#2a3f5f\"}},\"annotationdefaults\":{\"arrowcolor\":\"#2a3f5f\",\"arrowhead\":0,\"arrowwidth\":1},\"geo\":{\"bgcolor\":\"white\",\"landcolor\":\"#E5ECF6\",\"subunitcolor\":\"white\",\"showland\":true,\"showlakes\":true,\"lakecolor\":\"white\"},\"title\":{\"x\":0.05},\"mapbox\":{\"style\":\"light\"}}},\"xaxis\":{\"anchor\":\"y\",\"domain\":[0.0,1.0],\"title\":{\"text\":\"Tempo\"}},\"yaxis\":{\"anchor\":\"x\",\"domain\":[0.0,1.0],\"title\":{\"text\":\"Drawdown (%)\"}},\"legend\":{\"tracegroupgap\":0},\"title\":{\"text\":\"Drawdown ITUB3.SA\"}},                        {\"responsive\": true}                    )                };                            </script>        </div>"
      ],
      "text/plain": [
       "Figure({\n",
       "    'data': [{'fillpattern': {'shape': ''},\n",
       "              'hovertemplate': 'Date=%{x}<br>Drawdown=%{y}<extra></extra>',\n",
       "              'legendgroup': '',\n",
       "              'line': {'color': '#636efa'},\n",
       "              'marker': {'symbol': 'circle'},\n",
       "              'mode': 'lines',\n",
       "              'name': '',\n",
       "              'orientation': 'v',\n",
       "              'showlegend': False,\n",
       "              'stackgroup': '1',\n",
       "              'type': 'scatter',\n",
       "              'x': array([datetime.datetime(2020, 1, 2, 0, 0),\n",
       "                          datetime.datetime(2020, 1, 3, 0, 0),\n",
       "                          datetime.datetime(2020, 1, 6, 0, 0), ...,\n",
       "                          datetime.datetime(2020, 12, 28, 0, 0),\n",
       "                          datetime.datetime(2020, 12, 29, 0, 0),\n",
       "                          datetime.datetime(2020, 12, 30, 0, 0)], dtype=object),\n",
       "              'xaxis': 'x',\n",
       "              'y': array([         nan,   0.        ,  -1.02071609, ...,  -9.61437573,\n",
       "                           -9.96411503, -11.20398422]),\n",
       "              'yaxis': 'y'}],\n",
       "    'layout': {'legend': {'tracegroupgap': 0},\n",
       "               'template': '...',\n",
       "               'title': {'text': 'Drawdown ITUB3.SA'},\n",
       "               'xaxis': {'anchor': 'y', 'domain': [0.0, 1.0], 'title': {'text': 'Tempo'}},\n",
       "               'yaxis': {'anchor': 'x', 'domain': [0.0, 1.0], 'title': {'text': 'Drawdown (%)'}}}\n",
       "})"
      ]
     },
     "execution_count": 62,
     "metadata": {},
     "output_type": "execute_result"
    }
   ],
   "source": [
    "try:\n",
    "    fig = px.area(ddowns, x=ddowns.index, y='Drawdown', title='Underwater')\n",
    "    fig.update_xaxes(title_text='Tempo')\n",
    "    fig.update_yaxes(title_text='Drawdown (%)')\n",
    "    fig.update_layout(title='Drawdown ITUB3.SA')\n",
    "except ValueError as e:\n",
    "    print(\"Problemas com versão: \", str(e))\n",
    "\n",
    "fig"
   ]
  },
  {
   "cell_type": "markdown",
   "metadata": {},
   "source": [
    "A biblioteca também define uma função para plotar os drawdowns:"
   ]
  },
  {
   "attachments": {},
   "cell_type": "markdown",
   "metadata": {},
   "source": [
    "# Conclusões\n",
    "\n",
    "Com a utilização dessas funções, é possível obter informações sobre o desempenho histórico dos ativos, como a relação risco-retorno e o crescimento acumulado ao longo do tempo. Pode ser uma estratégia interessante usar essas funções para comparar e entender o comportamento dos ativos em momentos de crise e euforia, bem como para simular como estratégias de investimentos e portfolios teriam desempenhado no passado. Porém, é importante lembrar que retorno passado não é garantia de retorno futuro."
   ]
  }
 ],
 "metadata": {
  "kernelspec": {
   "display_name": "base",
   "language": "python",
   "name": "python3"
  },
  "language_info": {
   "codemirror_mode": {
    "name": "ipython",
    "version": 3
   },
   "file_extension": ".py",
   "mimetype": "text/x-python",
   "name": "python",
   "nbconvert_exporter": "python",
   "pygments_lexer": "ipython3",
   "version": "3.11.3"
  },
  "orig_nbformat": 4,
  "vscode": {
   "interpreter": {
    "hash": "40d3a090f54c6569ab1632332b64b2c03c39dcf918b08424e98f38b5ae0af88f"
   }
  }
 },
 "nbformat": 4,
 "nbformat_minor": 2
}
